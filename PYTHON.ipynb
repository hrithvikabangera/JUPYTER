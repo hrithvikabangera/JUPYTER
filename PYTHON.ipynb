{
 "cells": [
  {
   "cell_type": "markdown",
   "id": "6df23f75-996f-4fe5-80b8-0a20d41fbe53",
   "metadata": {},
   "source": [
    "PRACTICLES"
   ]
  },
  {
   "cell_type": "markdown",
   "id": "077d0510-dacc-48cc-b37b-94743966dd73",
   "metadata": {},
   "source": [
    "# PYTHON CODE"
   ]
  },
  {
   "cell_type": "code",
   "execution_count": 4,
   "id": "d9465da9-b968-4945-9cdd-63a30cad4809",
   "metadata": {},
   "outputs": [
    {
     "name": "stdout",
     "output_type": "stream",
     "text": [
      "HELLO WORLD\n"
     ]
    }
   ],
   "source": [
    "print(\"HELLO WORLD\")\n",
    "#to print any statement \n",
    "#statement should end with any quotes single or double"
   ]
  },
  {
   "cell_type": "code",
   "execution_count": 8,
   "id": "3c197c8b-61ff-4cfe-909c-ba2be1aecfdf",
   "metadata": {},
   "outputs": [
    {
     "name": "stdout",
     "output_type": "stream",
     "text": [
      "10\n"
     ]
    }
   ],
   "source": [
    "print(5+5)\n",
    "# PYTHON is high level lang\n",
    "#easy to understand and write for human"
   ]
  },
  {
   "cell_type": "code",
   "execution_count": 9,
   "id": "417f29a3-d63f-4b3a-ae02-8f314c8c21c2",
   "metadata": {},
   "outputs": [
    {
     "name": "stdout",
     "output_type": "stream",
     "text": [
      "3.11.7 | packaged by Anaconda, Inc. | (main, Dec 15 2023, 18:05:47) [MSC v.1916 64 bit (AMD64)]\n"
     ]
    }
   ],
   "source": [
    " import sys\n",
    "#sys existing library\n",
    "print(sys.version)\n",
    "#checking the version \n",
    "#python is interpreter because it is used to translation happens line by line and corrects the line by line code while compiling rather than whole code "
   ]
  },
  {
   "cell_type": "code",
   "execution_count": 12,
   "id": "15a5ac1a-403c-408d-a987-a9ba108118cd",
   "metadata": {},
   "outputs": [
    {
     "name": "stdout",
     "output_type": "stream",
     "text": [
      "Requirement already satisfied: numpy in c:\\users\\admin\\appdata\\roaming\\python\\python311\\site-packages (1.26.2)\n"
     ]
    }
   ],
   "source": [
    "!pip install numpy\n",
    "#installing libraries"
   ]
  },
  {
   "cell_type": "markdown",
   "id": "8b73ccf1-ce99-411f-b231-91ba311a8e9e",
   "metadata": {},
   "source": [
    "# keywords are reserved/predefined words \n"
   ]
  },
  {
   "cell_type": "code",
   "execution_count": 13,
   "id": "6593a92c-4c2f-41ad-bfc3-0355722a68b6",
   "metadata": {},
   "outputs": [
    {
     "name": "stdout",
     "output_type": "stream",
     "text": [
      "['False', 'None', 'True', 'and', 'as', 'assert', 'async', 'await', 'break', 'class', 'continue', 'def', 'del', 'elif', 'else', 'except', 'finally', 'for', 'from', 'global', 'if', 'import', 'in', 'is', 'lambda', 'nonlocal', 'not', 'or', 'pass', 'raise', 'return', 'try', 'while', 'with', 'yield']\n"
     ]
    }
   ],
   "source": [
    "import keyword\n",
    "print(keyword.kwlist)\n",
    "#to display different keywords used in python "
   ]
  },
  {
   "cell_type": "code",
   "execution_count": 14,
   "id": "540b6d9e-12fa-4cd8-92a3-e150b92e3f38",
   "metadata": {},
   "outputs": [
    {
     "data": {
      "text/plain": [
       "35"
      ]
     },
     "execution_count": 14,
     "metadata": {},
     "output_type": "execute_result"
    }
   ],
   "source": [
    "len(keyword.kwlist)\n",
    "#len is a predefined function it is used to count the keywords"
   ]
  },
  {
   "cell_type": "markdown",
   "id": "447ef087-46bf-4a79-94d5-68fef5f8fe7d",
   "metadata": {},
   "source": [
    "# identifiers"
   ]
  },
  {
   "cell_type": "markdown",
   "id": "e293c464-e5da-4cb8-96b1-90c3f25faae7",
   "metadata": {},
   "source": [
    ": these are the names given to any entities like variables,functions or classes .\n",
    "\n",
    ": it used to uniquely identify any entities"
   ]
  },
  {
   "cell_type": "markdown",
   "id": "71981de6-aa56-4187-848d-b26dd49ac35a",
   "metadata": {},
   "source": [
    "## rules "
   ]
  },
  {
   "cell_type": "markdown",
   "id": "7ad80e32-82a8-4326-b7f4-f4aa3ba3ea1f",
   "metadata": {},
   "source": [
    ": we cnt use digits in begng we cn use in end or middle"
   ]
  },
  {
   "cell_type": "code",
   "execution_count": 17,
   "id": "834740ab-3d8b-4845-a351-963fa5054012",
   "metadata": {},
   "outputs": [],
   "source": [
    "name=\"Rohan\"\n",
    "#2name=\"rohan\" { wrong output }"
   ]
  },
  {
   "cell_type": "markdown",
   "id": "7e1e5bfe-2bd1-483d-8cc5-1598cfd4d566",
   "metadata": {},
   "source": [
    ": we cnt add any spcl character in identifier \n",
    "\n",
    ": underscore cn be used "
   ]
  },
  {
   "cell_type": "code",
   "execution_count": 18,
   "id": "eb0455ab-9226-48e6-ba4a-bbac0b6044ca",
   "metadata": {},
   "outputs": [],
   "source": [
    "name_2=\"Rohan\"\n",
    "# name$2=\"rohan\" {not valid }"
   ]
  },
  {
   "cell_type": "markdown",
   "id": "0843edbd-a60a-49ad-b971-3e95879d383e",
   "metadata": {},
   "source": [
    ": Keywrds cnt use as identifiers"
   ]
  },
  {
   "cell_type": "code",
   "execution_count": 19,
   "id": "2686fde2-bdce-41f5-a270-2f7e12227289",
   "metadata": {},
   "outputs": [],
   "source": [
    "# import=\"rohan\"\n",
    "name=\"rohan\""
   ]
  },
  {
   "cell_type": "markdown",
   "id": "0ec4e44f-b6fe-4ad7-8e4f-316e4fd8a166",
   "metadata": {},
   "source": [
    ": python is case-sensitive lang"
   ]
  },
  {
   "cell_type": "code",
   "execution_count": 20,
   "id": "b1414f29-ebef-4694-b993-ca0a00bbc99a",
   "metadata": {},
   "outputs": [
    {
     "name": "stdout",
     "output_type": "stream",
     "text": [
      "4\n"
     ]
    }
   ],
   "source": [
    "var=4\n",
    "# VAR=6 {case sensitive - cnt use caps letters}\n",
    "print(var)"
   ]
  },
  {
   "cell_type": "markdown",
   "id": "a377540f-801e-47b6-8921-fd9df63cdc2b",
   "metadata": {},
   "source": [
    "# variables "
   ]
  },
  {
   "cell_type": "markdown",
   "id": "31086032-8017-4422-ace9-8605a15e9a4b",
   "metadata": {},
   "source": [
    ": are reserved memory location where it store some value\n",
    "\n",
    ": it is created when we assign some value"
   ]
  },
  {
   "cell_type": "code",
   "execution_count": 21,
   "id": "4912a13e-08a9-47e4-a4e7-4cc119656c42",
   "metadata": {},
   "outputs": [
    {
     "data": {
      "text/plain": [
       "10"
      ]
     },
     "execution_count": 21,
     "metadata": {},
     "output_type": "execute_result"
    }
   ],
   "source": [
    "y=10 \n",
    "# y is storing value 10\n",
    "y\n",
    "# calling a variable "
   ]
  },
  {
   "cell_type": "code",
   "execution_count": 22,
   "id": "0398b63e-ac80-4edd-a287-35592ee88117",
   "metadata": {},
   "outputs": [
    {
     "name": "stdout",
     "output_type": "stream",
     "text": [
      "10\n"
     ]
    }
   ],
   "source": [
    "print(y) #printing y value "
   ]
  },
  {
   "cell_type": "code",
   "execution_count": 23,
   "id": "8bb54bbb-630a-4b3a-a905-e728219bd96b",
   "metadata": {},
   "outputs": [],
   "source": [
    "name=\"abc\"\n",
    "city=\"mumbai\"\n",
    "age=20\n",
    "subject=\"science\"\n",
    "# single assignment"
   ]
  },
  {
   "cell_type": "code",
   "execution_count": 24,
   "id": "0348fba8-9b38-4dc4-831b-10a71cccb2da",
   "metadata": {},
   "outputs": [
    {
     "name": "stdout",
     "output_type": "stream",
     "text": [
      "mumbai\n"
     ]
    }
   ],
   "source": [
    "# Use multiple assignment to store the name and score\n",
    "name,city,age,subject=\"abc\",\"mumbai\",20,\"science\"\n",
    "# multiple assignment\n",
    "print(city)"
   ]
  },
  {
   "cell_type": "code",
   "execution_count": 25,
   "id": "cd4ab571-0c5d-45fd-b190-0591474f29f3",
   "metadata": {},
   "outputs": [
    {
     "name": "stdout",
     "output_type": "stream",
     "text": [
      "abc mumbai 20 science\n"
     ]
    }
   ],
   "source": [
    "print(name,city,age,subject)"
   ]
  },
  {
   "cell_type": "code",
   "execution_count": 26,
   "id": "c313fecd-0e87-49a9-9a6e-18ce9ce64a8c",
   "metadata": {},
   "outputs": [
    {
     "name": "stdout",
     "output_type": "stream",
     "text": [
      "90\n"
     ]
    }
   ],
   "source": [
    "p1=p2=p3=p4=90\n",
    "print(p1)"
   ]
  },
  {
   "cell_type": "code",
   "execution_count": 27,
   "id": "36bc516c-cf1d-4ad2-803d-c990c5863fbb",
   "metadata": {},
   "outputs": [
    {
     "name": "stdout",
     "output_type": "stream",
     "text": [
      "90 90 90 90\n"
     ]
    }
   ],
   "source": [
    "print(p1,p2,p3,p4)\n",
    "# store multiple variables same values"
   ]
  },
  {
   "cell_type": "code",
   "execution_count": 29,
   "id": "948f2345-e710-477a-a16e-e9229482af9a",
   "metadata": {},
   "outputs": [
    {
     "data": {
      "text/plain": [
       "17"
      ]
     },
     "execution_count": 29,
     "metadata": {},
     "output_type": "execute_result"
    }
   ],
   "source": [
    "# single line statement \n",
    "x=2+4+5+6\n",
    "x"
   ]
  },
  {
   "cell_type": "code",
   "execution_count": 30,
   "id": "0d8fe1b4-58c5-4384-a1d7-96a16dc50c5c",
   "metadata": {},
   "outputs": [
    {
     "name": "stdout",
     "output_type": "stream",
     "text": [
      "155\n"
     ]
    }
   ],
   "source": [
    "# multiple line statement\n",
    "z=12+20 \\\n",
    "+4+19 \\\n",
    "+100\n",
    "print(z)"
   ]
  },
  {
   "cell_type": "markdown",
   "id": "14664ad6-e887-4273-86a8-0f1bf631fda7",
   "metadata": {},
   "source": [
    "# Datatypes"
   ]
  },
  {
   "cell_type": "markdown",
   "id": "aa3b32c2-91b0-4d8f-a984-286348b40d9e",
   "metadata": {},
   "source": [
    ":: Numerical datatypes\n",
    "\n",
    "                    -- integers : contains whole numbers which consist positive n negative values\n",
    "                             eg: 2,1,-3,3\n",
    "\n",
    "                    -- float   : consist number with decimal values\n",
    "                             eg: 2.3\n",
    "                             \n",
    "                    -- complex :  number with 2 parts 1) real and 2) imaginary\n",
    "                            eg: 2+5 (2-real , 5-imaginary)\n",
    "\n",
    ":: Boolean datatypes \n",
    "\n",
    "                    which has only 2 value True or False\n",
    "\n",
    ":: String datatypes \n",
    "\n",
    "                    collection of characters which are put inside single or double quotes\n",
    "                    eg: \"hello\""
   ]
  },
  {
   "cell_type": "markdown",
   "id": "7adf3ac1-b450-4187-be24-d8d093d4dce2",
   "metadata": {},
   "source": [
    "# predefined functions"
   ]
  },
  {
   "cell_type": "markdown",
   "id": "3021127c-26dd-48e2-b1c0-6a3bbcf2d6f1",
   "metadata": {},
   "source": [
    ":: type() --> return datatype of any value\n",
    "\n",
    "            eg:  type(2) -> int\n",
    "                 type(-7,1) -> float\n",
    "                 type(True) -> bool\n",
    "\n",
    ":: isinstance(value,datatypes) --> return true or false based on whtr value belong the particular data type or not \n",
    "\n",
    "             eg: isinstance(5,int)\n",
    "                  => True \n",
    "                 isinstance(3, float)\n",
    "                 => False\n",
    "\n",
    ":: getsizeof(value) --> return size of value intense of byte\n",
    "\n",
    "             eg:  import sys\n",
    "                  sys.getsizeof(5)\n",
    "                  => 28"
   ]
  },
  {
   "cell_type": "code",
   "execution_count": 32,
   "id": "8af923cc-3dfd-4484-a813-886158e5accd",
   "metadata": {},
   "outputs": [
    {
     "name": "stdout",
     "output_type": "stream",
     "text": [
      "12\n",
      "<class 'int'>\n",
      "True\n",
      "28\n"
     ]
    }
   ],
   "source": [
    "import sys\n",
    "x=12\n",
    "print(x)\n",
    "print(type(x))\n",
    "print(isinstance(x,int))\n",
    "print(sys.getsizeof(x))"
   ]
  },
  {
   "cell_type": "code",
   "execution_count": 35,
   "id": "57195b10-e6c3-47ef-940d-c90c3af7194a",
   "metadata": {},
   "outputs": [
    {
     "name": "stdout",
     "output_type": "stream",
     "text": [
      "(12+4j)\n",
      "<class 'complex'>\n",
      "True\n",
      "False\n",
      "32\n"
     ]
    }
   ],
   "source": [
    "import sys\n",
    "x=12+4j\n",
    "print(x)\n",
    "print(type(x))\n",
    "print(isinstance(x,complex))\n",
    "print(isinstance(x,int))\n",
    "print(sys.getsizeof(x))"
   ]
  },
  {
   "cell_type": "code",
   "execution_count": 40,
   "id": "c278e554-82ec-4252-93a0-2443f3dca486",
   "metadata": {},
   "outputs": [
    {
     "name": "stdout",
     "output_type": "stream",
     "text": [
      "True\n",
      "<class 'bool'>\n",
      "True\n",
      "True\n",
      "28\n"
     ]
    }
   ],
   "source": [
    "import sys\n",
    "x=True\n",
    "print(x)\n",
    "print(type(x))\n",
    "print(isinstance(x,bool))\n",
    "print(isinstance(x,int)) #here x=1=True and 0=False so integer value is True \n",
    "print(sys.getsizeof(x))"
   ]
  },
  {
   "cell_type": "code",
   "execution_count": 37,
   "id": "389a251b-bdf9-4ace-be2c-8225e71e08a7",
   "metadata": {},
   "outputs": [
    {
     "name": "stdout",
     "output_type": "stream",
     "text": [
      "12.5\n",
      "<class 'float'>\n",
      "True\n",
      "False\n",
      "24\n"
     ]
    }
   ],
   "source": [
    "import sys\n",
    "x=12.5\n",
    "print(x)\n",
    "print(type(x))\n",
    "print(isinstance(x,float))\n",
    "print(isinstance(x,int)) \n",
    "print(sys.getsizeof(x)) # byte value displayed"
   ]
  },
  {
   "cell_type": "markdown",
   "id": "5ae0ae0f-8643-4884-b461-1d306d41c733",
   "metadata": {},
   "source": [
    "# String creation"
   ]
  },
  {
   "cell_type": "code",
   "execution_count": 1,
   "id": "f72efd8d-9a39-457d-8c7a-c5da408f10a2",
   "metadata": {},
   "outputs": [
    {
     "data": {
      "text/plain": [
       "'hello python'"
      ]
     },
     "execution_count": 1,
     "metadata": {},
     "output_type": "execute_result"
    }
   ],
   "source": [
    "str1=\"hello python\"\n",
    "str1"
   ]
  },
  {
   "cell_type": "code",
   "execution_count": 2,
   "id": "9453422f-e8c9-45f8-a66e-d068d50ec749",
   "metadata": {},
   "outputs": [
    {
     "data": {
      "text/plain": [
       "'hello world'"
      ]
     },
     "execution_count": 2,
     "metadata": {},
     "output_type": "execute_result"
    }
   ],
   "source": [
    "str2=\"hello world\"\n",
    "str2"
   ]
  },
  {
   "cell_type": "code",
   "execution_count": 7,
   "id": "c6078290-57cf-49ea-96fb-c52108b4dc16",
   "metadata": {},
   "outputs": [
    {
     "data": {
      "text/plain": [
       "'hello pythonhello world'"
      ]
     },
     "execution_count": 7,
     "metadata": {},
     "output_type": "execute_result"
    }
   ],
   "source": [
    "str1 + str2 #concat the two string"
   ]
  },
  {
   "cell_type": "markdown",
   "id": "20804ea9-e7d8-4e87-841e-3c36fd9370b2",
   "metadata": {},
   "source": [
    "### String indexing"
   ]
  },
  {
   "cell_type": "markdown",
   "id": "4ecae029-5990-4b78-be7b-729ed59b43ef",
   "metadata": {},
   "source": [
    ":: in indexing we can assign number to every character of string and using that number we can access that character\n",
    "\n",
    ":: there is positive and negative index where positive strts from 0,1,2.. and negative indexing strats from -1,-2.."
   ]
  },
  {
   "cell_type": "code",
   "execution_count": 10,
   "id": "2b731a3a-1a87-426d-93bc-6f62113f28a1",
   "metadata": {},
   "outputs": [
    {
     "data": {
      "text/plain": [
       "'a'"
      ]
     },
     "execution_count": 10,
     "metadata": {},
     "output_type": "execute_result"
    }
   ],
   "source": [
    "str1=\"apple keeps an doctor away\"\n",
    "str1[0]"
   ]
  },
  {
   "cell_type": "code",
   "execution_count": 12,
   "id": "48d2a843-4f38-4e47-ba3e-ff136fe7448f",
   "metadata": {},
   "outputs": [
    {
     "data": {
      "text/plain": [
       "' '"
      ]
     },
     "execution_count": 12,
     "metadata": {},
     "output_type": "execute_result"
    }
   ],
   "source": [
    "str1[5]"
   ]
  },
  {
   "cell_type": "code",
   "execution_count": 15,
   "id": "a88e494d-1126-49ea-a59b-653f162a2afc",
   "metadata": {},
   "outputs": [
    {
     "name": "stdout",
     "output_type": "stream",
     "text": [
      "p o\n"
     ]
    }
   ],
   "source": [
    "print(str1[9],str1[16])\n"
   ]
  },
  {
   "cell_type": "code",
   "execution_count": 16,
   "id": "19eabc91-6ece-4fb7-9922-63203f08988a",
   "metadata": {},
   "outputs": [
    {
     "data": {
      "text/plain": [
       "6"
      ]
     },
     "execution_count": 16,
     "metadata": {},
     "output_type": "execute_result"
    }
   ],
   "source": [
    "str1.index('k')"
   ]
  },
  {
   "cell_type": "markdown",
   "id": "bc34e775-aac5-43f9-bd21-ac4b17ec077c",
   "metadata": {},
   "source": [
    "## Slicing String"
   ]
  },
  {
   "cell_type": "markdown",
   "id": "ce5c9519-43c0-4ff1-bf9c-037cbd659721",
   "metadata": {},
   "source": [
    ":: Cutting the string into pieces\n"
   ]
  },
  {
   "cell_type": "markdown",
   "id": "5e747755-eb60-4937-ad88-339ebea72cb3",
   "metadata": {},
   "source": [
    "### syntax"
   ]
  },
  {
   "cell_type": "markdown",
   "id": "ffcd2fdc-468e-43e0-a104-b619c0875723",
   "metadata": {},
   "source": [
    ":: str [start:end]  -->  we slice from strt index till [end - 1] \n"
   ]
  },
  {
   "cell_type": "code",
   "execution_count": 18,
   "id": "e7a213f6-f313-42fa-97b8-d485a497a1fe",
   "metadata": {},
   "outputs": [
    {
     "data": {
      "text/plain": [
       "'apple keeps an doctor away'"
      ]
     },
     "execution_count": 18,
     "metadata": {},
     "output_type": "execute_result"
    }
   ],
   "source": [
    "str1"
   ]
  },
  {
   "cell_type": "code",
   "execution_count": 19,
   "id": "48d917ff-c982-4eb5-80cf-d5da3e02a246",
   "metadata": {},
   "outputs": [
    {
     "data": {
      "text/plain": [
       "'apple k'"
      ]
     },
     "execution_count": 19,
     "metadata": {},
     "output_type": "execute_result"
    }
   ],
   "source": [
    "str1[0:7]"
   ]
  },
  {
   "cell_type": "code",
   "execution_count": 20,
   "id": "c3fde3cd-bd07-4a62-aa26-b14de02d8002",
   "metadata": {},
   "outputs": [
    {
     "data": {
      "text/plain": [
       "'octor '"
      ]
     },
     "execution_count": 20,
     "metadata": {},
     "output_type": "execute_result"
    }
   ],
   "source": [
    "str1[-10:-4]"
   ]
  },
  {
   "cell_type": "code",
   "execution_count": 21,
   "id": "c1f9716f-ba2f-4707-8c51-47f836c8de01",
   "metadata": {},
   "outputs": [
    {
     "data": {
      "text/plain": [
       "' keep'"
      ]
     },
     "execution_count": 21,
     "metadata": {},
     "output_type": "execute_result"
    }
   ],
   "source": [
    "str1[5:10]"
   ]
  },
  {
   "cell_type": "code",
   "execution_count": 22,
   "id": "9393b433-df8f-428d-a941-bb28d68722ac",
   "metadata": {},
   "outputs": [
    {
     "data": {
      "text/plain": [
       "'r aw'"
      ]
     },
     "execution_count": 22,
     "metadata": {},
     "output_type": "execute_result"
    }
   ],
   "source": [
    "str1[-6:-2]"
   ]
  },
  {
   "cell_type": "markdown",
   "id": "d25c55cc-6c93-4de7-a4fa-fe7cd0e251e1",
   "metadata": {},
   "source": [
    ":: str [ : ]  --> returns entire string as it is \n",
    "\n",
    "               no slicing"
   ]
  },
  {
   "cell_type": "code",
   "execution_count": 24,
   "id": "950a11d3-6d72-446a-8899-4783ac136755",
   "metadata": {},
   "outputs": [
    {
     "data": {
      "text/plain": [
       "'apple keeps an doctor away'"
      ]
     },
     "execution_count": 24,
     "metadata": {},
     "output_type": "execute_result"
    }
   ],
   "source": [
    "str1[:]"
   ]
  },
  {
   "cell_type": "markdown",
   "id": "adbd4123-9771-4efd-b60c-b2fe1bf336a0",
   "metadata": {},
   "source": [
    ":: str1 [ start :]  --> slice from strt index till last character of the string\n",
    "\n",
    "                        012345678  [ positive ]\n",
    "                        hell0 all\n",
    "                        897654321  [ negative values ]\n",
    "                        "
   ]
  },
  {
   "cell_type": "code",
   "execution_count": 25,
   "id": "3464968d-357a-452e-af24-278b680bc409",
   "metadata": {},
   "outputs": [
    {
     "data": {
      "text/plain": [
       "'all'"
      ]
     },
     "execution_count": 25,
     "metadata": {},
     "output_type": "execute_result"
    }
   ],
   "source": [
    "str2= \"hello all\"\n",
    "str2[-3:]"
   ]
  },
  {
   "cell_type": "code",
   "execution_count": 26,
   "id": "30445a5b-9f74-4881-a81b-4f9bddbcb52b",
   "metadata": {},
   "outputs": [
    {
     "data": {
      "text/plain": [
       "'ello python'"
      ]
     },
     "execution_count": 26,
     "metadata": {},
     "output_type": "execute_result"
    }
   ],
   "source": [
    "str=\"hello python\"\n",
    "str[1:]"
   ]
  },
  {
   "cell_type": "code",
   "execution_count": 27,
   "id": "98dd6ad8-25fa-468e-903d-5b195b0363a4",
   "metadata": {},
   "outputs": [
    {
     "data": {
      "text/plain": [
       "'lo python'"
      ]
     },
     "execution_count": 27,
     "metadata": {},
     "output_type": "execute_result"
    }
   ],
   "source": [
    "str[-9:]"
   ]
  },
  {
   "cell_type": "markdown",
   "id": "6b66c3fc-f3ea-4d71-a823-4e3bf253e23d",
   "metadata": {},
   "source": [
    "::  str[ :end ]  --> slice frm 0 till ( end - 1 )\n",
    "\n",
    "                        0  1  2 3 4 5 6 7 8 9 10 11  [ positive ]\n",
    "                        h  e  l l o   p y t h  o  n\n",
    "                        11 10 9 8 7   6 5 4 3  2  1  [ negative values ]\n",
    "        "
   ]
  },
  {
   "cell_type": "code",
   "execution_count": 36,
   "id": "64e7ed05-9ebc-4fd7-a783-09004101b6a5",
   "metadata": {},
   "outputs": [
    {
     "data": {
      "text/plain": [
       "'hello py'"
      ]
     },
     "execution_count": 36,
     "metadata": {},
     "output_type": "execute_result"
    }
   ],
   "source": [
    "str[:8]"
   ]
  },
  {
   "cell_type": "code",
   "execution_count": 37,
   "id": "31b7a2a7-332f-4b86-9fa4-9518d0c23f66",
   "metadata": {},
   "outputs": [
    {
     "data": {
      "text/plain": [
       "'nohtyp olleh'"
      ]
     },
     "execution_count": 37,
     "metadata": {},
     "output_type": "execute_result"
    }
   ],
   "source": [
    "str[::-1]"
   ]
  },
  {
   "cell_type": "code",
   "execution_count": 38,
   "id": "65b7463c-9137-434b-b2ba-8847081d4c77",
   "metadata": {},
   "outputs": [
    {
     "data": {
      "text/plain": [
       "'nhy le'"
      ]
     },
     "execution_count": 38,
     "metadata": {},
     "output_type": "execute_result"
    }
   ],
   "source": [
    "str[::-2]"
   ]
  },
  {
   "cell_type": "code",
   "execution_count": 39,
   "id": "74fdbced-e7ee-48b8-9634-c6e42c145318",
   "metadata": {},
   "outputs": [
    {
     "data": {
      "text/plain": [
       "'hlopto'"
      ]
     },
     "execution_count": 39,
     "metadata": {},
     "output_type": "execute_result"
    }
   ],
   "source": [
    "str[::2]"
   ]
  },
  {
   "cell_type": "code",
   "execution_count": 40,
   "id": "510e12f0-595f-4f8a-be44-a0539d8fc952",
   "metadata": {},
   "outputs": [
    {
     "data": {
      "text/plain": [
       "'hlopto'"
      ]
     },
     "execution_count": 40,
     "metadata": {},
     "output_type": "execute_result"
    }
   ],
   "source": [
    "str[0:12:2]"
   ]
  },
  {
   "cell_type": "markdown",
   "id": "d0c1f1e9-4397-4d25-ac5b-bc8a4a371bc4",
   "metadata": {},
   "source": [
    "# update and delete string"
   ]
  },
  {
   "cell_type": "markdown",
   "id": "4fafc968-dca0-4e37-9a7e-477ab21f0621",
   "metadata": {},
   "source": [
    "not possible because strings r immutable -> means cnt change or delete character from string once it is assigned \n",
    "\n",
    "eg :str[0:1]=\"hello\" #wrong output "
   ]
  },
  {
   "cell_type": "markdown",
   "id": "a5beefd3-8d3b-46d3-af8a-cf6229f062b6",
   "metadata": {},
   "source": [
    "### Replace string"
   ]
  },
  {
   "cell_type": "markdown",
   "id": "7285e50c-0e16-40bf-bee2-1f4f449ed176",
   "metadata": {},
   "source": [
    "replace ( old , new )     ---> used to temporary replace any character of a string "
   ]
  },
  {
   "cell_type": "code",
   "execution_count": 54,
   "id": "3700632e-5d9f-436a-86d8-670d5fbb2f20",
   "metadata": {},
   "outputs": [],
   "source": [
    "str=\"hello world\""
   ]
  },
  {
   "cell_type": "code",
   "execution_count": 55,
   "id": "ebec30ef-159d-4ab4-9d1a-7c2e0ae7fc53",
   "metadata": {},
   "outputs": [
    {
     "data": {
      "text/plain": [
       "'hillo world'"
      ]
     },
     "execution_count": 55,
     "metadata": {},
     "output_type": "execute_result"
    }
   ],
   "source": [
    "x=str.replace(\"he\",\"hi\")\n",
    "x"
   ]
  },
  {
   "cell_type": "code",
   "execution_count": 64,
   "id": "37fdf2c8-446b-4eb1-9d44-0ad0a60bd973",
   "metadata": {},
   "outputs": [
    {
     "ename": "NameError",
     "evalue": "name 'str' is not defined",
     "output_type": "error",
     "traceback": [
      "\u001b[1;31m---------------------------------------------------------------------------\u001b[0m",
      "\u001b[1;31mNameError\u001b[0m                                 Traceback (most recent call last)",
      "Cell \u001b[1;32mIn[64], line 1\u001b[0m\n\u001b[1;32m----> 1\u001b[0m \u001b[38;5;28;01mdel\u001b[39;00m \u001b[38;5;28;43mstr\u001b[39;49m \u001b[38;5;66;03m#deleted hello python specified so displayed error msg \u001b[39;00m\n",
      "\u001b[1;31mNameError\u001b[0m: name 'str' is not defined"
     ]
    }
   ],
   "source": [
    "del str #deleted hello python specified so displayed error msg "
   ]
  },
  {
   "cell_type": "markdown",
   "id": "7f9e54da-f8f9-4292-a5db-783a34e041dd",
   "metadata": {},
   "source": [
    "# string concatenation"
   ]
  },
  {
   "cell_type": "code",
   "execution_count": 50,
   "id": "803d83cc-5410-4e10-b2f1-a90c95f7a7e7",
   "metadata": {},
   "outputs": [
    {
     "name": "stdout",
     "output_type": "stream",
     "text": [
      "data science\n"
     ]
    }
   ],
   "source": [
    "str1=\"data\"\n",
    "str2=\"science\"\n",
    "print(str1+\" \" +str2)"
   ]
  },
  {
   "cell_type": "code",
   "execution_count": 57,
   "id": "792bcaf1-ceac-49dd-a739-7b9b9cf66097",
   "metadata": {},
   "outputs": [
    {
     "data": {
      "text/plain": [
       "'23'"
      ]
     },
     "execution_count": 57,
     "metadata": {},
     "output_type": "execute_result"
    }
   ],
   "source": [
    "'2'+'3'"
   ]
  },
  {
   "cell_type": "markdown",
   "id": "0441268a-857c-480f-9f55-0b5155c27b62",
   "metadata": {},
   "source": [
    "# string membership"
   ]
  },
  {
   "cell_type": "markdown",
   "id": "317dbaee-f511-4492-b406-96d6196b538a",
   "metadata": {},
   "source": [
    "in      -->  true if character is present otherwise false\n",
    "\n",
    "not in  -->  \"           \"     is not present otherws false"
   ]
  },
  {
   "cell_type": "code",
   "execution_count": 59,
   "id": "5310c519-e579-4a53-b6a3-9cb0f0c3b420",
   "metadata": {},
   "outputs": [
    {
     "data": {
      "text/plain": [
       "'science'"
      ]
     },
     "execution_count": 59,
     "metadata": {},
     "output_type": "execute_result"
    }
   ],
   "source": [
    "str2"
   ]
  },
  {
   "cell_type": "code",
   "execution_count": 63,
   "id": "ffd0dbe7-9ce7-4f77-92f7-6897afa55d4b",
   "metadata": {},
   "outputs": [
    {
     "data": {
      "text/plain": [
       "False"
      ]
     },
     "execution_count": 63,
     "metadata": {},
     "output_type": "execute_result"
    }
   ],
   "source": [
    "'S' in str2"
   ]
  },
  {
   "cell_type": "code",
   "execution_count": 61,
   "id": "6ace2f5c-f767-45bc-8a5e-5fd9b7ba1d5e",
   "metadata": {},
   "outputs": [
    {
     "data": {
      "text/plain": [
       "True"
      ]
     },
     "execution_count": 61,
     "metadata": {},
     "output_type": "execute_result"
    }
   ],
   "source": [
    "'ie' in str2"
   ]
  },
  {
   "cell_type": "code",
   "execution_count": 62,
   "id": "409c762d-9dec-45a5-b462-815d2b57bcf5",
   "metadata": {},
   "outputs": [
    {
     "data": {
      "text/plain": [
       "True"
      ]
     },
     "execution_count": 62,
     "metadata": {},
     "output_type": "execute_result"
    }
   ],
   "source": [
    "'by' not in str2"
   ]
  },
  {
   "cell_type": "markdown",
   "id": "98f68d55-e177-4ac1-a258-7eba85ccf5a4",
   "metadata": {},
   "source": [
    "# string partitioning"
   ]
  },
  {
   "cell_type": "markdown",
   "id": "cf6b0efd-127a-4b8f-a007-d16e8db7be59",
   "metadata": {},
   "source": [
    "v cn patition the string into 3 parts \n",
    "\n",
    "1. part before argumentation string\n",
    "2. argumented string itself\n",
    "3. part after argumentation string"
   ]
  },
  {
   "cell_type": "code",
   "execution_count": 68,
   "id": "1d897c63-edf8-48f8-8c18-27e1481d7b96",
   "metadata": {},
   "outputs": [
    {
     "data": {
      "text/plain": [
       "('hello to ', 'all', ' people')"
      ]
     },
     "execution_count": 68,
     "metadata": {},
     "output_type": "execute_result"
    }
   ],
   "source": [
    "string1=\"hello to all people\"\n",
    "string1.partition(\"all\")"
   ]
  },
  {
   "cell_type": "code",
   "execution_count": 69,
   "id": "42d29f2e-b550-4d9b-bdca-57cffceb752d",
   "metadata": {},
   "outputs": [
    {
     "data": {
      "text/plain": [
       "('raju ', 'and', ' ramu and neeta are best friends')"
      ]
     },
     "execution_count": 69,
     "metadata": {},
     "output_type": "execute_result"
    }
   ],
   "source": [
    "str1=\"raju and ramu and neeta are best friends\" # any sentence specify it will patition into 3 parts\n",
    "str1.partition(\"and\")"
   ]
  },
  {
   "cell_type": "code",
   "execution_count": 71,
   "id": "995e6a3d-0f23-47e0-bfe4-0cb3a135c3f5",
   "metadata": {},
   "outputs": [
    {
     "data": {
      "text/plain": [
       "('hello ', 'to', ' all people')"
      ]
     },
     "execution_count": 71,
     "metadata": {},
     "output_type": "execute_result"
    }
   ],
   "source": [
    "string1=\"hello to all people\"\n",
    "string1.partition(\"to\")"
   ]
  },
  {
   "cell_type": "code",
   "execution_count": 70,
   "id": "bb334cdd-c4a2-4d7f-ba96-5111ffef41ce",
   "metadata": {},
   "outputs": [
    {
     "data": {
      "text/plain": [
       "('', 'hello', ' to all people')"
      ]
     },
     "execution_count": 70,
     "metadata": {},
     "output_type": "execute_result"
    }
   ],
   "source": [
    "string1=\"hello to all people\"\n",
    "string1.partition(\"hello\")"
   ]
  },
  {
   "cell_type": "markdown",
   "id": "a75df90e-ca32-4bbd-bc13-e0832b01c03c",
   "metadata": {},
   "source": [
    "# built in functions on string"
   ]
  },
  {
   "cell_type": "markdown",
   "id": "695511d3-3b43-4ca1-8c5c-ee79a3006aee",
   "metadata": {},
   "source": [
    "::  count() -->counting how many times it occured"
   ]
  },
  {
   "cell_type": "code",
   "execution_count": 73,
   "id": "73a5e11c-403b-49e8-b8b8-c5488164733d",
   "metadata": {},
   "outputs": [
    {
     "data": {
      "text/plain": [
       "'hello to all people'"
      ]
     },
     "execution_count": 73,
     "metadata": {},
     "output_type": "execute_result"
    }
   ],
   "source": [
    "string1"
   ]
  },
  {
   "cell_type": "code",
   "execution_count": 75,
   "id": "90483ada-f5e1-4af5-8377-bfb8d22a92b5",
   "metadata": {},
   "outputs": [
    {
     "data": {
      "text/plain": [
       "5"
      ]
     },
     "execution_count": 75,
     "metadata": {},
     "output_type": "execute_result"
    }
   ],
   "source": [
    "string1.count('l')"
   ]
  },
  {
   "cell_type": "code",
   "execution_count": 77,
   "id": "43a77b6d-ad08-4279-969f-0c64bff488fb",
   "metadata": {},
   "outputs": [
    {
     "data": {
      "text/plain": [
       "3"
      ]
     },
     "execution_count": 77,
     "metadata": {},
     "output_type": "execute_result"
    }
   ],
   "source": [
    "string1.count('o')"
   ]
  },
  {
   "cell_type": "markdown",
   "id": "ee7c7f4c-1481-4c28-981f-f2b6c21faf31",
   "metadata": {},
   "source": [
    ":: strip() --> it will remove spaces from both ends (strt and end)\n",
    "\n",
    "                it will be removed spaces at both the ends only for temporary"
   ]
  },
  {
   "cell_type": "code",
   "execution_count": 78,
   "id": "e4a6e804-e95b-4ac1-a4be-dd1552ccf77b",
   "metadata": {},
   "outputs": [
    {
     "data": {
      "text/plain": [
       "'hello all'"
      ]
     },
     "execution_count": 78,
     "metadata": {},
     "output_type": "execute_result"
    }
   ],
   "source": [
    "mystr=\"    hello all  \"\n",
    "mystr.strip()"
   ]
  },
  {
   "cell_type": "code",
   "execution_count": 79,
   "id": "4ad3f994-5fa3-42af-8a4d-7b1f2f920c57",
   "metadata": {},
   "outputs": [
    {
     "data": {
      "text/plain": [
       "'    hello all  '"
      ]
     },
     "execution_count": 79,
     "metadata": {},
     "output_type": "execute_result"
    }
   ],
   "source": [
    "mystr"
   ]
  },
  {
   "cell_type": "markdown",
   "id": "2b8c3faa-59fd-44d3-9ba4-154d9714fa83",
   "metadata": {},
   "source": [
    ":: lstrip()  --> it will remove whitespaces from left \n",
    "\n",
    "                 begng of string"
   ]
  },
  {
   "cell_type": "code",
   "execution_count": 80,
   "id": "99cd3305-aebc-4113-83a9-e2c96378dc82",
   "metadata": {},
   "outputs": [
    {
     "data": {
      "text/plain": [
       "'hello all  '"
      ]
     },
     "execution_count": 80,
     "metadata": {},
     "output_type": "execute_result"
    }
   ],
   "source": [
    "mystr.lstrip()"
   ]
  },
  {
   "cell_type": "markdown",
   "id": "3e6d582c-d9f0-4484-bb2e-a5ee62633d72",
   "metadata": {},
   "source": [
    ":: rstrip()  -->  it will remove space from right (end of the string)"
   ]
  },
  {
   "cell_type": "code",
   "execution_count": 81,
   "id": "eaf5b9ec-bc3f-4f83-85d4-0a3909ab3589",
   "metadata": {},
   "outputs": [
    {
     "data": {
      "text/plain": [
       "'    hello all'"
      ]
     },
     "execution_count": 81,
     "metadata": {},
     "output_type": "execute_result"
    }
   ],
   "source": [
    "mystr.rstrip()"
   ]
  },
  {
   "cell_type": "code",
   "execution_count": 82,
   "id": "ddb7fcdc-f06a-41ac-b21a-ea3893b2b82d",
   "metadata": {},
   "outputs": [
    {
     "data": {
      "text/plain": [
       "'    hello all  '"
      ]
     },
     "execution_count": 82,
     "metadata": {},
     "output_type": "execute_result"
    }
   ],
   "source": [
    "mystr"
   ]
  },
  {
   "cell_type": "code",
   "execution_count": 1,
   "id": "7aef468b-f435-4d78-8688-2269ba19c283",
   "metadata": {},
   "outputs": [
    {
     "data": {
      "text/plain": [
       "'Hello'"
      ]
     },
     "execution_count": 1,
     "metadata": {},
     "output_type": "execute_result"
    }
   ],
   "source": [
    "mystr2=\"****Hello$$$$$\"\n",
    "mystr2.strip(\"*$\")"
   ]
  },
  {
   "cell_type": "code",
   "execution_count": 6,
   "id": "fc7312aa-1c96-4638-a854-52c576d0b471",
   "metadata": {},
   "outputs": [
    {
     "data": {
      "text/plain": [
       "'HELLO PYTHON'"
      ]
     },
     "execution_count": 6,
     "metadata": {},
     "output_type": "execute_result"
    }
   ],
   "source": [
    "str1=\"Hello python\"\n",
    "str1.upper()    #converting letters in uppercase"
   ]
  },
  {
   "cell_type": "code",
   "execution_count": 7,
   "id": "135aa55f-3d4f-4bfe-b82a-d5e1fab3bf6b",
   "metadata": {},
   "outputs": [
    {
     "data": {
      "text/plain": [
       "'hello python'"
      ]
     },
     "execution_count": 7,
     "metadata": {},
     "output_type": "execute_result"
    }
   ],
   "source": [
    "str1.lower()  #converting letters in lowercase"
   ]
  },
  {
   "cell_type": "markdown",
   "id": "957d46aa-b680-4764-a2ab-a1e5f34fa29c",
   "metadata": {},
   "source": [
    "### startswith()"
   ]
  },
  {
   "cell_type": "code",
   "execution_count": null,
   "id": "acf8e991-57a1-4a16-8405-312b1b0304f3",
   "metadata": {},
   "outputs": [],
   "source": [
    "#startswith()  --->  returns True if the string starts with argumented string\n",
    "str2=\"GOOD DAY\"\n",
    "str2.lower()"
   ]
  },
  {
   "cell_type": "code",
   "execution_count": 10,
   "id": "d1fa96ee-8fc9-46e6-a638-d9bf7ef706cb",
   "metadata": {},
   "outputs": [
    {
     "data": {
      "text/plain": [
       "False"
      ]
     },
     "execution_count": 10,
     "metadata": {},
     "output_type": "execute_result"
    }
   ],
   "source": [
    "str2.startswith(\"g\")"
   ]
  },
  {
   "cell_type": "code",
   "execution_count": 11,
   "id": "c5362815-08b9-45f7-af57-3e9618072f8e",
   "metadata": {},
   "outputs": [
    {
     "data": {
      "text/plain": [
       "True"
      ]
     },
     "execution_count": 11,
     "metadata": {},
     "output_type": "execute_result"
    }
   ],
   "source": [
    "str2.startswith(\"G\")"
   ]
  },
  {
   "cell_type": "markdown",
   "id": "47d95698-ff5a-44a8-bfa0-4a4d3069099b",
   "metadata": {},
   "source": [
    "### endswith()"
   ]
  },
  {
   "cell_type": "code",
   "execution_count": 12,
   "id": "5ba82035-b599-414e-805f-e7726fccf0e7",
   "metadata": {},
   "outputs": [
    {
     "data": {
      "text/plain": [
       "False"
      ]
     },
     "execution_count": 12,
     "metadata": {},
     "output_type": "execute_result"
    }
   ],
   "source": [
    "#endswith() ---> returns True if the string ends with argumented string\n",
    "str2.endswith(\"y\")"
   ]
  },
  {
   "cell_type": "code",
   "execution_count": 13,
   "id": "03d5cff2-545b-47c6-a57b-dd0445a46e88",
   "metadata": {},
   "outputs": [
    {
     "data": {
      "text/plain": [
       "True"
      ]
     },
     "execution_count": 13,
     "metadata": {},
     "output_type": "execute_result"
    }
   ],
   "source": [
    "str2.endswith(\"Y\")"
   ]
  },
  {
   "cell_type": "markdown",
   "id": "3f2581ca-b5a9-48aa-88ec-2e15f824da29",
   "metadata": {},
   "source": [
    "### split()"
   ]
  },
  {
   "cell_type": "code",
   "execution_count": 17,
   "id": "2d8186bb-41fc-4227-b97e-e96eb3f93a9b",
   "metadata": {},
   "outputs": [
    {
     "data": {
      "text/plain": [
       "['thanks', 'to', 'all', 'people.', 'see', 'you', 'all', 'next', 'time']"
      ]
     },
     "execution_count": 17,
     "metadata": {},
     "output_type": "execute_result"
    }
   ],
   "source": [
    "#split()  ---->  by default splits the string into different parts based on spaces\n",
    "#based on spaces it spilts the sentences and then stored in list []\n",
    "str1=\"thanks to all people. see you all next time\"\n",
    "str1.split()"
   ]
  },
  {
   "cell_type": "code",
   "execution_count": 18,
   "id": "4a3f3499-2ff3-4e59-9bb1-0ff49f6d7e11",
   "metadata": {},
   "outputs": [
    {
     "data": {
      "text/plain": [
       "['th', 'nks to ', 'll people. see you ', 'll next time']"
      ]
     },
     "execution_count": 18,
     "metadata": {},
     "output_type": "execute_result"
    }
   ],
   "source": [
    "str1.split('a') \n",
    "# where ever a is there it splits the sentence"
   ]
  },
  {
   "cell_type": "code",
   "execution_count": 16,
   "id": "6fcf015e-52d6-492d-b9cd-3d31bce521c4",
   "metadata": {},
   "outputs": [
    {
     "data": {
      "text/plain": [
       "['thanks to all p', 'opl', '. s', '', ' you all n', 'xt tim', '']"
      ]
     },
     "execution_count": 16,
     "metadata": {},
     "output_type": "execute_result"
    }
   ],
   "source": [
    "str1.split('e')\n",
    "# when u dont want any character in sentence u cn remove using this method"
   ]
  },
  {
   "cell_type": "markdown",
   "id": "f323dd3d-93fb-4b76-bea6-88443ffe568a",
   "metadata": {},
   "source": [
    "# joining strings and numbers together"
   ]
  },
  {
   "cell_type": "markdown",
   "id": "dc9dcca3-525b-4976-ac45-1cf4f6ad71ad",
   "metadata": {},
   "source": [
    "there are 3 methods"
   ]
  },
  {
   "cell_type": "code",
   "execution_count": 56,
   "id": "08214c15-8d32-4ac5-967a-81ded1b84b62",
   "metadata": {},
   "outputs": [
    {
     "name": "stdout",
     "output_type": "stream",
     "text": [
      "the value of x: 5\n",
      "the value of x is: 5\n",
      "the value of x is: 5\n"
     ]
    }
   ],
   "source": [
    "x=4+3-2\n",
    "print(\"the value of x:\",x)                  #first method\n",
    "print(\"the value of x is: {}\".format(x))    #second method\n",
    "print(f\"the value of x is: {x}\")            #third method"
   ]
  },
  {
   "cell_type": "code",
   "execution_count": 57,
   "id": "c6498844-59ee-44d8-892e-2b836e31ed8e",
   "metadata": {},
   "outputs": [
    {
     "name": "stdout",
     "output_type": "stream",
     "text": [
      "the value of a: 10  & the value of b is 12\n",
      "the value of a is:10 & the value of b is : 12\n",
      "the value of a is:10 & the value of b is : 12\n"
     ]
    }
   ],
   "source": [
    "a=10\n",
    "b=12\n",
    "print(\"the value of a:\",a,\" & the value of b is\",b)                      #first method\n",
    "print(\"the value of a is:{} & the value of b is : {}\".format(a,b))       #second method\n",
    "print(f\"the value of a is:{a} & the value of b is : {b}\" )               #third method"
   ]
  },
  {
   "cell_type": "markdown",
   "id": "d9dfe085-5aa7-4a41-9843-05f418af70b9",
   "metadata": {},
   "source": [
    "# TYPECASTING"
   ]
  },
  {
   "cell_type": "markdown",
   "id": "a025588c-1239-42cc-aedd-e37c9a4cdbdd",
   "metadata": {},
   "source": [
    " ::  converting one datatype into another datatype \n",
    " \n",
    " ::  there are two types \n",
    "\n",
    "                         1. Auto typecasting \n",
    "                         2. forced \""
   ]
  },
  {
   "cell_type": "markdown",
   "id": "6726674c-7ff9-4731-a871-6dcd17d358fb",
   "metadata": {},
   "source": [
    "## Auto typecasting"
   ]
  },
  {
   "cell_type": "markdown",
   "id": "2b0bc4c6-7906-4c34-b175-73633c299fca",
   "metadata": {},
   "source": [
    "based on highest priority the remaining value will convert here \n",
    "\n",
    "first priority is\n",
    "\n",
    "                  FLOAT\n",
    "\n",
    "                  INT\n",
    "                  \n",
    "                  BOOL"
   ]
  },
  {
   "cell_type": "code",
   "execution_count": 26,
   "id": "c596062d-56c4-4ae8-8f95-d58e75bf25c6",
   "metadata": {},
   "outputs": [
    {
     "data": {
      "text/plain": [
       "17.4"
      ]
     },
     "execution_count": 26,
     "metadata": {},
     "output_type": "execute_result"
    }
   ],
   "source": [
    "# example:\n",
    "x=4+12.4+True\n",
    "x"
   ]
  },
  {
   "cell_type": "code",
   "execution_count": 27,
   "id": "75135fe7-e306-4ae1-8bbc-ff7e98c01b15",
   "metadata": {},
   "outputs": [
    {
     "data": {
      "text/plain": [
       "9"
      ]
     },
     "execution_count": 27,
     "metadata": {},
     "output_type": "execute_result"
    }
   ],
   "source": [
    "8+True"
   ]
  },
  {
   "cell_type": "code",
   "execution_count": 28,
   "id": "975cdedb-e2c2-4935-8c8e-a9d46a20e0cc",
   "metadata": {},
   "outputs": [
    {
     "ename": "TypeError",
     "evalue": "unsupported operand type(s) for +: 'int' and 'str'",
     "output_type": "error",
     "traceback": [
      "\u001b[1;31m---------------------------------------------------------------------------\u001b[0m",
      "\u001b[1;31mTypeError\u001b[0m                                 Traceback (most recent call last)",
      "Cell \u001b[1;32mIn[28], line 1\u001b[0m\n\u001b[1;32m----> 1\u001b[0m \u001b[38;5;241;43m4\u001b[39;49m\u001b[38;5;241;43m+\u001b[39;49m\u001b[38;5;124;43m'\u001b[39;49m\u001b[38;5;124;43m4\u001b[39;49m\u001b[38;5;124;43m'\u001b[39;49m\u001b[38;5;241m+\u001b[39m\u001b[38;5;241m4.5\u001b[39m\n",
      "\u001b[1;31mTypeError\u001b[0m: unsupported operand type(s) for +: 'int' and 'str'"
     ]
    }
   ],
   "source": [
    "4+'4'+4.5\n",
    "# here string is not used in auto typecasting"
   ]
  },
  {
   "cell_type": "markdown",
   "id": "5f28fef7-f68f-485a-969c-73e0d8f5b577",
   "metadata": {},
   "source": [
    "## Forced typecasting"
   ]
  },
  {
   "cell_type": "markdown",
   "id": "4c929adb-ade7-442a-84cb-b9b0068c0760",
   "metadata": {},
   "source": [
    "user is converting the 1 datatype to another datatype forcefully"
   ]
  },
  {
   "cell_type": "markdown",
   "id": "c957194c-6a2e-437c-a926-0f4aad5c6d7a",
   "metadata": {},
   "source": [
    "## int()"
   ]
  },
  {
   "cell_type": "code",
   "execution_count": 30,
   "id": "5b749cdc-1a09-42b3-a675-eba347d8069e",
   "metadata": {},
   "outputs": [
    {
     "data": {
      "text/plain": [
       "0"
      ]
     },
     "execution_count": 30,
     "metadata": {},
     "output_type": "execute_result"
    }
   ],
   "source": [
    "int(False)"
   ]
  },
  {
   "cell_type": "code",
   "execution_count": 46,
   "id": "30333ce6-1754-4dd9-92cb-be48994140c7",
   "metadata": {},
   "outputs": [
    {
     "data": {
      "text/plain": [
       "1"
      ]
     },
     "execution_count": 46,
     "metadata": {},
     "output_type": "execute_result"
    }
   ],
   "source": [
    "int(True)"
   ]
  },
  {
   "cell_type": "code",
   "execution_count": 53,
   "id": "5403953d-2636-4b5f-a62c-afdb6f755a34",
   "metadata": {},
   "outputs": [
    {
     "data": {
      "text/plain": [
       "2"
      ]
     },
     "execution_count": 53,
     "metadata": {},
     "output_type": "execute_result"
    }
   ],
   "source": [
    "int(2.7)\n",
    "#here rounding will not take place"
   ]
  },
  {
   "cell_type": "code",
   "execution_count": 33,
   "id": "e3dccc9f-cebc-4baf-b8f2-577dee45597f",
   "metadata": {},
   "outputs": [
    {
     "data": {
      "text/plain": [
       "7"
      ]
     },
     "execution_count": 33,
     "metadata": {},
     "output_type": "execute_result"
    }
   ],
   "source": [
    "int(\"7\")"
   ]
  },
  {
   "cell_type": "markdown",
   "id": "a364cc96-8f6b-4ea3-a14d-96b0938387a1",
   "metadata": {},
   "source": [
    "## Bool()"
   ]
  },
  {
   "cell_type": "markdown",
   "id": "ae2eb1b8-c5af-4ce2-9e70-cbfc087d516c",
   "metadata": {},
   "source": [
    "converts to boolean \n",
    "\n",
    "anything apart frm 0 is considered has True"
   ]
  },
  {
   "cell_type": "code",
   "execution_count": 34,
   "id": "7d5b7fdb-296f-4342-9ca6-f867b4ada9ee",
   "metadata": {},
   "outputs": [
    {
     "data": {
      "text/plain": [
       "True"
      ]
     },
     "execution_count": 34,
     "metadata": {},
     "output_type": "execute_result"
    }
   ],
   "source": [
    "bool(7)"
   ]
  },
  {
   "cell_type": "code",
   "execution_count": 43,
   "id": "fa038d9a-f357-409a-9f33-505c35179529",
   "metadata": {},
   "outputs": [
    {
     "data": {
      "text/plain": [
       "False"
      ]
     },
     "execution_count": 43,
     "metadata": {},
     "output_type": "execute_result"
    }
   ],
   "source": [
    "bool(0)\n",
    "# 0 is considered has false"
   ]
  },
  {
   "cell_type": "code",
   "execution_count": 36,
   "id": "816bc57d-578b-4c16-bcc3-d8b17bec4556",
   "metadata": {},
   "outputs": [
    {
     "data": {
      "text/plain": [
       "True"
      ]
     },
     "execution_count": 36,
     "metadata": {},
     "output_type": "execute_result"
    }
   ],
   "source": [
    "bool(-3-7)"
   ]
  },
  {
   "cell_type": "code",
   "execution_count": 37,
   "id": "1cc53005-c9c8-444f-8f2a-952f08d49081",
   "metadata": {},
   "outputs": [
    {
     "data": {
      "text/plain": [
       "True"
      ]
     },
     "execution_count": 37,
     "metadata": {},
     "output_type": "execute_result"
    }
   ],
   "source": [
    "bool(\"hello\")"
   ]
  },
  {
   "cell_type": "code",
   "execution_count": 42,
   "id": "ca958cf5-2dfe-41d6-b577-8c97cc931836",
   "metadata": {},
   "outputs": [
    {
     "data": {
      "text/plain": [
       "True"
      ]
     },
     "execution_count": 42,
     "metadata": {},
     "output_type": "execute_result"
    }
   ],
   "source": [
    "bool(-4)"
   ]
  },
  {
   "cell_type": "markdown",
   "id": "f45a4a09-841e-46ac-afe4-27c39069e96e",
   "metadata": {},
   "source": [
    "## str()"
   ]
  },
  {
   "cell_type": "markdown",
   "id": "fda5ccea-f109-4af9-872d-4c04f5570990",
   "metadata": {},
   "source": [
    "converts to string datatype"
   ]
  },
  {
   "cell_type": "code",
   "execution_count": 38,
   "id": "cc395294-462b-40f3-8a64-3d04f717d239",
   "metadata": {},
   "outputs": [
    {
     "data": {
      "text/plain": [
       "'4'"
      ]
     },
     "execution_count": 38,
     "metadata": {},
     "output_type": "execute_result"
    }
   ],
   "source": [
    "str(4)"
   ]
  },
  {
   "cell_type": "code",
   "execution_count": 39,
   "id": "2068144b-7019-4774-b708-c830856915ab",
   "metadata": {},
   "outputs": [
    {
     "data": {
      "text/plain": [
       "'2.3'"
      ]
     },
     "execution_count": 39,
     "metadata": {},
     "output_type": "execute_result"
    }
   ],
   "source": [
    "str(2.3)"
   ]
  },
  {
   "cell_type": "code",
   "execution_count": 40,
   "id": "97304ea4-9ec6-4062-bdfc-1a45f5c8a1d6",
   "metadata": {},
   "outputs": [
    {
     "data": {
      "text/plain": [
       "'True'"
      ]
     },
     "execution_count": 40,
     "metadata": {},
     "output_type": "execute_result"
    }
   ],
   "source": [
    "str(True)"
   ]
  },
  {
   "cell_type": "code",
   "execution_count": 41,
   "id": "ee5ecf5a-d4a4-40bb-9d7e-36ff382e16c2",
   "metadata": {},
   "outputs": [
    {
     "data": {
      "text/plain": [
       "'-4'"
      ]
     },
     "execution_count": 41,
     "metadata": {},
     "output_type": "execute_result"
    }
   ],
   "source": [
    "str(-4)"
   ]
  },
  {
   "cell_type": "markdown",
   "id": "95a32afb-87c5-4752-9193-969002ba5220",
   "metadata": {},
   "source": [
    "## float()"
   ]
  },
  {
   "cell_type": "markdown",
   "id": "41b454f7-d058-478c-9a2b-cb471ede33af",
   "metadata": {},
   "source": [
    "converts to float "
   ]
  },
  {
   "cell_type": "code",
   "execution_count": 49,
   "id": "ef3b4fc2-292d-464b-9471-199109b76855",
   "metadata": {},
   "outputs": [
    {
     "data": {
      "text/plain": [
       "2.0"
      ]
     },
     "execution_count": 49,
     "metadata": {},
     "output_type": "execute_result"
    }
   ],
   "source": [
    "float(2)"
   ]
  },
  {
   "cell_type": "code",
   "execution_count": 50,
   "id": "51de193b-fdf4-417f-be18-11cce2ff142a",
   "metadata": {},
   "outputs": [
    {
     "data": {
      "text/plain": [
       "-2.0"
      ]
     },
     "execution_count": 50,
     "metadata": {},
     "output_type": "execute_result"
    }
   ],
   "source": [
    "float(-2)"
   ]
  },
  {
   "cell_type": "code",
   "execution_count": 51,
   "id": "b6310a8d-1a07-4c63-ab49-136b676e98f8",
   "metadata": {},
   "outputs": [
    {
     "data": {
      "text/plain": [
       "1.0"
      ]
     },
     "execution_count": 51,
     "metadata": {},
     "output_type": "execute_result"
    }
   ],
   "source": [
    "float(True)"
   ]
  },
  {
   "cell_type": "code",
   "execution_count": 52,
   "id": "18c25ea3-6777-4683-9ea3-f858fae5505a",
   "metadata": {},
   "outputs": [
    {
     "data": {
      "text/plain": [
       "0.0"
      ]
     },
     "execution_count": 52,
     "metadata": {},
     "output_type": "execute_result"
    }
   ],
   "source": [
    "float(False)"
   ]
  },
  {
   "cell_type": "markdown",
   "id": "4bab10b8-da43-4459-94d4-89511f94f5e0",
   "metadata": {},
   "source": [
    "# PYTHON OPERATORS"
   ]
  },
  {
   "cell_type": "markdown",
   "id": "4a4e6590-ffa5-428e-8203-a7d4f80781bb",
   "metadata": {},
   "source": [
    "OPERATORS R SPCL SYMBOLS WHCH CN BE USED TO PERFORM SOME OPERATIONS ON VALUES"
   ]
  },
  {
   "cell_type": "markdown",
   "id": "7e9e7b5b-8bf8-42f9-8a29-570e111d671d",
   "metadata": {},
   "source": [
    "### ARITHMETIC OPERATORS"
   ]
  },
  {
   "cell_type": "markdown",
   "id": "2a74ee7d-d577-4b04-97e6-f7fdd9200e28",
   "metadata": {},
   "source": [
    "used to perform mathematic operations\n",
    "\n",
    "two types :\n",
    "\n",
    "            1. BASIC \n",
    "            2. ADVANCED OPERATOR"
   ]
  },
  {
   "cell_type": "markdown",
   "id": "eb27c272-263e-4e1d-b38e-a904db70e24e",
   "metadata": {},
   "source": [
    "#### BASIC OPERATOR"
   ]
  },
  {
   "cell_type": "markdown",
   "id": "8b00e79b-37db-431d-a936-73baa8be2241",
   "metadata": {},
   "source": [
    "IT HAS ----> _ , + , * , /"
   ]
  },
  {
   "cell_type": "code",
   "execution_count": 59,
   "id": "fea333cc-d828-47a8-a9fa-25ddcb3a202f",
   "metadata": {},
   "outputs": [
    {
     "data": {
      "text/plain": [
       "105"
      ]
     },
     "execution_count": 59,
     "metadata": {},
     "output_type": "execute_result"
    }
   ],
   "source": [
    "a=100\n",
    "b=5\n",
    "c=a+b\n",
    "c"
   ]
  },
  {
   "cell_type": "code",
   "execution_count": 60,
   "id": "1a7b0a23-6854-46e4-828c-61619b512189",
   "metadata": {},
   "outputs": [
    {
     "data": {
      "text/plain": [
       "95"
      ]
     },
     "execution_count": 60,
     "metadata": {},
     "output_type": "execute_result"
    }
   ],
   "source": [
    "c=a-b\n",
    "c"
   ]
  },
  {
   "cell_type": "code",
   "execution_count": 61,
   "id": "5686d7c8-7d1a-433e-a21c-ed09f7badf80",
   "metadata": {},
   "outputs": [
    {
     "data": {
      "text/plain": [
       "500"
      ]
     },
     "execution_count": 61,
     "metadata": {},
     "output_type": "execute_result"
    }
   ],
   "source": [
    "c=a*b\n",
    "c"
   ]
  },
  {
   "cell_type": "code",
   "execution_count": 62,
   "id": "4443b3ac-24cc-429c-a488-7bc3d34a78b5",
   "metadata": {},
   "outputs": [
    {
     "data": {
      "text/plain": [
       "20.0"
      ]
     },
     "execution_count": 62,
     "metadata": {},
     "output_type": "execute_result"
    }
   ],
   "source": [
    "c=a/b\n",
    "c"
   ]
  },
  {
   "cell_type": "markdown",
   "id": "9831607b-35d4-4057-8ca5-04d259690199",
   "metadata": {},
   "source": [
    "#### ADVANCED OPERATOR"
   ]
  },
  {
   "cell_type": "markdown",
   "id": "c34fa3fd-b43a-4d3b-b02e-af58311c233d",
   "metadata": {},
   "source": [
    " % ---> MODULUS \n",
    " \n",
    "        returns remainder of division\n",
    "\n",
    "// ----> FLOOR\n",
    "\n",
    "        returns quotient by round figuring it \n",
    "\n",
    "** ----> POWER\n",
    "\n",
    "        multiplys the number according to the raised values \n",
    "\n",
    "        eg: 5**2 means 5*5=25 (\n",
    "\n"
   ]
  },
  {
   "cell_type": "code",
   "execution_count": 67,
   "id": "cf54bee6-8f82-4831-9c1f-b7932cc4ffd4",
   "metadata": {},
   "outputs": [
    {
     "data": {
      "text/plain": [
       "0"
      ]
     },
     "execution_count": 67,
     "metadata": {},
     "output_type": "execute_result"
    }
   ],
   "source": [
    "#remainder\n",
    "c=a%b\n",
    "c"
   ]
  },
  {
   "cell_type": "code",
   "execution_count": 66,
   "id": "e567b5dc-2b44-4423-b5d9-c66fc2954400",
   "metadata": {},
   "outputs": [
    {
     "data": {
      "text/plain": [
       "20"
      ]
     },
     "execution_count": 66,
     "metadata": {},
     "output_type": "execute_result"
    }
   ],
   "source": [
    "#floor division\n",
    "c=a//b\n",
    "c"
   ]
  },
  {
   "cell_type": "code",
   "execution_count": 65,
   "id": "17943492-1f28-4723-9c66-3366c0045670",
   "metadata": {},
   "outputs": [
    {
     "data": {
      "text/plain": [
       "10000000000"
      ]
     },
     "execution_count": 65,
     "metadata": {},
     "output_type": "execute_result"
    }
   ],
   "source": [
    "#power\n",
    "c=a**b\n",
    "c"
   ]
  },
  {
   "cell_type": "markdown",
   "id": "e852ca95-ef4a-46dd-942c-971b643bdd68",
   "metadata": {},
   "source": [
    "# COMPARISON OPERATORS"
   ]
  },
  {
   "cell_type": "markdown",
   "id": "2d73f486-34ae-4e41-b034-746e1c64c22f",
   "metadata": {},
   "source": [
    "compares 2 values and returns result in terms of True or False\n",
    "\n",
    "(> )            (greater than)\n",
    "\n",
    "<               (less than)\n",
    "\n",
    "(>=)            (greater than equal to)\n",
    "\n",
    "<=              (less than equal to)\n",
    "\n",
    "==              (equal to)\n",
    "\n",
    "!==             (not equal to)"
   ]
  },
  {
   "cell_type": "code",
   "execution_count": 68,
   "id": "1aba3056-7b46-44d8-865d-1ad4502c589b",
   "metadata": {},
   "outputs": [
    {
     "name": "stdout",
     "output_type": "stream",
     "text": [
      "True\n",
      "False\n",
      "True\n",
      "False\n",
      "False\n",
      "True\n"
     ]
    }
   ],
   "source": [
    "x=12\n",
    "y=7\n",
    "print(x>y)\n",
    "print(x<y)\n",
    "print(x>=y)\n",
    "print(x<=y)\n",
    "print(x==y)\n",
    "print(x!=y)"
   ]
  },
  {
   "cell_type": "code",
   "execution_count": 69,
   "id": "96ebefc2-61c8-4bbb-943b-3429257d1933",
   "metadata": {},
   "outputs": [
    {
     "name": "stdout",
     "output_type": "stream",
     "text": [
      "False\n",
      "True\n",
      "False\n",
      "True\n",
      "False\n",
      "True\n"
     ]
    }
   ],
   "source": [
    "x=\"Hello\"\n",
    "y=\"hello\"\n",
    "print(x>y)\n",
    "print(x<y)\n",
    "print(x>=y)\n",
    "print(x<=y)\n",
    "print(x==y)\n",
    "print(x!=y)"
   ]
  },
  {
   "cell_type": "markdown",
   "id": "0cca229e-9715-498b-9c2e-53e9e1f85ded",
   "metadata": {},
   "source": [
    "# LOGICAL OPERATORS"
   ]
  },
  {
   "cell_type": "markdown",
   "id": "e5b1460d-ab7c-45af-8979-f05fde4bb7c2",
   "metadata": {},
   "source": [
    "AND OPERATORS --> returns true if both values are true"
   ]
  },
  {
   "cell_type": "code",
   "execution_count": 78,
   "id": "6327f17d-d1b3-496a-811c-2239a4482564",
   "metadata": {},
   "outputs": [
    {
     "name": "stdout",
     "output_type": "stream",
     "text": [
      "False\n"
     ]
    }
   ],
   "source": [
    "print(5<2 and 3>1)"
   ]
  },
  {
   "cell_type": "code",
   "execution_count": 80,
   "id": "eb75eed6-ba38-4762-ac30-c29ad49835bd",
   "metadata": {},
   "outputs": [
    {
     "name": "stdout",
     "output_type": "stream",
     "text": [
      "True\n"
     ]
    }
   ],
   "source": [
    "print(5>=5 and 4>1)"
   ]
  },
  {
   "cell_type": "markdown",
   "id": "db460a83-02dc-4f8b-951b-c89fa345cd31",
   "metadata": {},
   "source": [
    "OR OPERATORS --> returns true if any one value is true"
   ]
  },
  {
   "cell_type": "code",
   "execution_count": 81,
   "id": "b2613fb7-f454-4899-8376-c53f3a83fc1c",
   "metadata": {},
   "outputs": [
    {
     "name": "stdout",
     "output_type": "stream",
     "text": [
      "True\n"
     ]
    }
   ],
   "source": [
    "print(5>=5 or 4>1)"
   ]
  },
  {
   "cell_type": "code",
   "execution_count": 82,
   "id": "999be41d-5e09-4f24-9b48-c879b7d158fb",
   "metadata": {},
   "outputs": [
    {
     "name": "stdout",
     "output_type": "stream",
     "text": [
      "True\n"
     ]
    }
   ],
   "source": [
    "print(3>1 or 4>=4)"
   ]
  },
  {
   "cell_type": "code",
   "execution_count": 84,
   "id": "06266a08-1185-41a5-8844-cfdd796090d2",
   "metadata": {},
   "outputs": [
    {
     "name": "stdout",
     "output_type": "stream",
     "text": [
      "False\n"
     ]
    }
   ],
   "source": [
    "print(7<5 and 3>1)"
   ]
  },
  {
   "cell_type": "code",
   "execution_count": 86,
   "id": "2e5b0583-56dc-4560-94d2-fb943f4f3c6c",
   "metadata": {},
   "outputs": [
    {
     "name": "stdout",
     "output_type": "stream",
     "text": [
      "True\n"
     ]
    }
   ],
   "source": [
    "print(5!=4 and 7>1)"
   ]
  },
  {
   "cell_type": "markdown",
   "id": "b61e8297-882f-442f-87f3-a07d8567e8da",
   "metadata": {},
   "source": [
    "NOT OPERATOR ---> negates the result \n",
    "\n",
    "                    if a = False then ans will be True\n",
    "                    if a = True then ans will be False"
   ]
  },
  {
   "cell_type": "code",
   "execution_count": 88,
   "id": "91733000-5e6b-4335-b277-2db48e2b8891",
   "metadata": {},
   "outputs": [
    {
     "name": "stdout",
     "output_type": "stream",
     "text": [
      "False\n"
     ]
    }
   ],
   "source": [
    "print(not(5>2 or 3>1))"
   ]
  },
  {
   "cell_type": "code",
   "execution_count": 89,
   "id": "20e3a695-e7f2-4fe7-93f2-3478bdb95dcf",
   "metadata": {},
   "outputs": [
    {
     "name": "stdout",
     "output_type": "stream",
     "text": [
      "False\n"
     ]
    }
   ],
   "source": [
    "print(not(4<3 or 5!=4))"
   ]
  },
  {
   "cell_type": "code",
   "execution_count": 90,
   "id": "5f1e067e-0828-4c4d-a595-2c05e00003b5",
   "metadata": {},
   "outputs": [
    {
     "name": "stdout",
     "output_type": "stream",
     "text": [
      "False\n"
     ]
    }
   ],
   "source": [
    "print(5<3 or 3>7 and 2<9)"
   ]
  },
  {
   "cell_type": "markdown",
   "id": "94119b25-ff34-46f4-b3da-326c37dd7ad2",
   "metadata": {},
   "source": [
    "# CONDITION STATEMENTS OR DECISION MAKING STATEMENT"
   ]
  },
  {
   "cell_type": "code",
   "execution_count": 1,
   "id": "8e140cd9-026e-46a8-96da-6d2db00d3f9e",
   "metadata": {},
   "outputs": [],
   "source": [
    "# SYNTAX \n",
    "#INDENTATION MEANS SPACE ----> specifys block of code"
   ]
  },
  {
   "cell_type": "markdown",
   "id": "c547d0c4-a006-4d4a-b429-a3f261627b91",
   "metadata": {},
   "source": [
    "## IF CONDITION"
   ]
  },
  {
   "cell_type": "code",
   "execution_count": 4,
   "id": "8dc79f5d-f9f5-48f8-bf42-5d9ae48b884b",
   "metadata": {},
   "outputs": [
    {
     "name": "stdout",
     "output_type": "stream",
     "text": [
      "hello\n"
     ]
    }
   ],
   "source": [
    "x=5\n",
    "if x>1:\n",
    "    print(\"hello\")"
   ]
  },
  {
   "cell_type": "code",
   "execution_count": 6,
   "id": "6d268a84-2784-4ced-aecb-2906dc1ea21a",
   "metadata": {},
   "outputs": [
    {
     "name": "stdout",
     "output_type": "stream",
     "text": [
      "bye\n"
     ]
    }
   ],
   "source": [
    "x=-5 #method one\n",
    "if x>1:\n",
    "    print(\"hello\")\n",
    "else:\n",
    "    print(\"bye\")"
   ]
  },
  {
   "cell_type": "code",
   "execution_count": 5,
   "id": "a41e606b-de2d-41d2-8b52-977038c68a33",
   "metadata": {},
   "outputs": [
    {
     "name": "stdout",
     "output_type": "stream",
     "text": [
      "bye\n"
     ]
    }
   ],
   "source": [
    "x=-5  #method 2\n",
    "if x>1:\n",
    "    print(\"hello\")\n",
    "print(\"bye\")"
   ]
  },
  {
   "cell_type": "code",
   "execution_count": 7,
   "id": "d30e4743-af7c-42ce-b40a-592b8804691e",
   "metadata": {},
   "outputs": [
    {
     "name": "stdout",
     "output_type": "stream",
     "text": [
      "number is positive\n"
     ]
    }
   ],
   "source": [
    "x=5\n",
    "if x>0:\n",
    "    print(\"number is positive\")"
   ]
  },
  {
   "cell_type": "code",
   "execution_count": 8,
   "id": "80b3b22a-08a9-4494-9a97-1f7d3fab5a65",
   "metadata": {},
   "outputs": [
    {
     "name": "stdout",
     "output_type": "stream",
     "text": [
      "if statement we have started\n",
      "out of if\n"
     ]
    }
   ],
   "source": [
    "x=4\n",
    "if x==4:\n",
    "    print(\"if statement we have started\")  # executes based on coditions \n",
    "print(\"out of if\") # always executes if the condition is false or true"
   ]
  },
  {
   "cell_type": "markdown",
   "id": "1a9e4efe-b8f5-4913-804d-e7813843435f",
   "metadata": {},
   "source": [
    "## IF ELSE STATEMENT "
   ]
  },
  {
   "cell_type": "markdown",
   "id": "d338f23c-49cc-4aae-b6af-0c0a5c70691b",
   "metadata": {},
   "source": [
    "If the condition is true then statements inside if will execute but, if the condition is false then statement under else will execute"
   ]
  },
  {
   "cell_type": "code",
   "execution_count": 10,
   "id": "4fa2dc29-e662-4e18-8e1d-22ca24438efb",
   "metadata": {},
   "outputs": [
    {
     "name": "stdout",
     "output_type": "stream",
     "text": [
      "negative\n"
     ]
    }
   ],
   "source": [
    "x=-10\n",
    "if x>0:\n",
    "    print(\"Positive\")\n",
    "else:\n",
    "    print(\"negative\")"
   ]
  },
  {
   "cell_type": "code",
   "execution_count": 12,
   "id": "8159a80a-29a9-4e60-ae05-04b33034ce07",
   "metadata": {},
   "outputs": [
    {
     "name": "stdout",
     "output_type": "stream",
     "text": [
      "odd\n"
     ]
    }
   ],
   "source": [
    "a=19\n",
    "if a%2==0:  #if 19/2 is 0 ,then it is even or odd\n",
    "    print(\"even\")\n",
    "else:\n",
    "    print(\"odd\")"
   ]
  },
  {
   "cell_type": "markdown",
   "id": "5e1250c2-b5f2-42fc-a3de-9cb9b8037347",
   "metadata": {},
   "source": [
    "## IF-ELIF STATEMENT"
   ]
  },
  {
   "cell_type": "markdown",
   "id": "fb597922-0d2b-4a4a-8c06-5e086cf1a497",
   "metadata": {},
   "source": [
    "They r used to check multiple condition . if one condition is not true it will check another condition under elif .if that is also not true then statements under else will execute "
   ]
  },
  {
   "cell_type": "code",
   "execution_count": 14,
   "id": "8a7228dc-449c-4012-bbe8-372adc561d7e",
   "metadata": {},
   "outputs": [
    {
     "name": "stdout",
     "output_type": "stream",
     "text": [
      "negative\n"
     ]
    }
   ],
   "source": [
    "x=-7\n",
    "if x>0:\n",
    "    print(\"possitive\")\n",
    "elif x<0:\n",
    "    print(\"negative\")\n",
    "else:\n",
    "    print(\"zero\")"
   ]
  },
  {
   "cell_type": "code",
   "execution_count": 15,
   "id": "76236f6f-a342-4d50-ae3f-0418e099d3d8",
   "metadata": {},
   "outputs": [
    {
     "name": "stdout",
     "output_type": "stream",
     "text": [
      "im in third if\n"
     ]
    }
   ],
   "source": [
    "x=6\n",
    "if x>10:\n",
    "    print (\"iam in first if\")\n",
    "elif x==10:\n",
    "    print(\"im in second if\")\n",
    "elif x<10:\n",
    "    print(\"im in third if\")   # here when it compares 6<10 the condition is true , so the condition is displayed the output and it didnt check for other condition to execute\n",
    "elif x==6:\n",
    "    print(\"iam in fourth if\")  #this condition will not execute bcz we got answer abve "
   ]
  },
  {
   "cell_type": "markdown",
   "id": "5ffc91d6-ba71-4b8f-857a-96ec99c60342",
   "metadata": {},
   "source": [
    "### input()"
   ]
  },
  {
   "cell_type": "markdown",
   "id": "d7513bd0-58cd-446a-a90e-71056765aa6b",
   "metadata": {},
   "source": [
    "it helps to take input from user"
   ]
  },
  {
   "cell_type": "code",
   "execution_count": 16,
   "id": "6c39eef6-feb5-4d3f-8f42-79f03bc6a909",
   "metadata": {},
   "outputs": [
    {
     "name": "stdin",
     "output_type": "stream",
     "text": [
      "enter a number: 2\n"
     ]
    },
    {
     "name": "stdout",
     "output_type": "stream",
     "text": [
      "<class 'str'>\n"
     ]
    },
    {
     "ename": "TypeError",
     "evalue": "'>' not supported between instances of 'str' and 'int'",
     "output_type": "error",
     "traceback": [
      "\u001b[1;31m---------------------------------------------------------------------------\u001b[0m",
      "\u001b[1;31mTypeError\u001b[0m                                 Traceback (most recent call last)",
      "Cell \u001b[1;32mIn[16], line 3\u001b[0m\n\u001b[0;32m      1\u001b[0m x\u001b[38;5;241m=\u001b[39m\u001b[38;5;28minput\u001b[39m(\u001b[38;5;124m\"\u001b[39m\u001b[38;5;124menter a number:\u001b[39m\u001b[38;5;124m\"\u001b[39m)\n\u001b[0;32m      2\u001b[0m \u001b[38;5;28mprint\u001b[39m(\u001b[38;5;28mtype\u001b[39m(x))\n\u001b[1;32m----> 3\u001b[0m \u001b[38;5;28;01mif\u001b[39;00m \u001b[43mx\u001b[49m\u001b[38;5;241;43m>\u001b[39;49m\u001b[38;5;241;43m0\u001b[39;49m:\n\u001b[0;32m      4\u001b[0m     \u001b[38;5;28mprint\u001b[39m(\u001b[38;5;124m\"\u001b[39m\u001b[38;5;124mpositive\u001b[39m\u001b[38;5;124m\"\u001b[39m)\n",
      "\u001b[1;31mTypeError\u001b[0m: '>' not supported between instances of 'str' and 'int'"
     ]
    }
   ],
   "source": [
    "x=input(\"enter a number:\")\n",
    "print(type(x))\n",
    "if x>0:\n",
    "    print(\"positive\")  # we cannot compare string value with 0 (x is \"5\" the \"5\" >0 , will be string comparing with int so here we have to convert it into int so this process is known as typecasting"
   ]
  },
  {
   "cell_type": "code",
   "execution_count": 17,
   "id": "b0f7a0f0-f5da-423b-9b27-bdc8c6d3e405",
   "metadata": {},
   "outputs": [
    {
     "name": "stdin",
     "output_type": "stream",
     "text": [
      "enter a number: 34\n"
     ]
    },
    {
     "name": "stdout",
     "output_type": "stream",
     "text": [
      "<class 'int'>\n",
      "positive\n"
     ]
    }
   ],
   "source": [
    "x=int(input(\"enter a number:\"))\n",
    "print(type(x))\n",
    "if x>0:\n",
    "    print(\"positive\") "
   ]
  },
  {
   "cell_type": "markdown",
   "id": "509b5119-58e8-47fc-9b6b-5f4311b4f5c5",
   "metadata": {},
   "source": [
    "##### by default input() takes value as string"
   ]
  },
  {
   "cell_type": "code",
   "execution_count": 21,
   "id": "ae842e57-da52-471a-a191-2c2ba6b15dd4",
   "metadata": {},
   "outputs": [
    {
     "name": "stdin",
     "output_type": "stream",
     "text": [
      "enter your age: 12\n"
     ]
    },
    {
     "name": "stdout",
     "output_type": "stream",
     "text": [
      "12\n",
      "<class 'int'>\n",
      "you are not selected since u r underage\n"
     ]
    }
   ],
   "source": [
    "## check if u r selected in cricket team based on age \n",
    "age=int(input(\"enter your age:\"))\n",
    "print(age)\n",
    "print(type(age))\n",
    "if age >18 and age<=35:\n",
    "    print(\"selected\")\n",
    "elif age==18:\n",
    "    print(\" u might get selected\")\n",
    "elif age<18:\n",
    "    print(\"you are not selected since u r underage\")\n",
    "else:\n",
    "    print(\"not selected\")"
   ]
  },
  {
   "cell_type": "markdown",
   "id": "bd028625-9fb1-4964-bca1-93529586fb9d",
   "metadata": {},
   "source": [
    "## NESTED IF CONDITION"
   ]
  },
  {
   "cell_type": "markdown",
   "id": "e54c57e7-79f8-4cf4-859c-a97e831aa299",
   "metadata": {},
   "source": [
    "When 1 if statement is inside another if statement then it is nested if "
   ]
  },
  {
   "cell_type": "code",
   "execution_count": 23,
   "id": "114d8ac6-1f68-46a5-b876-8e20f7b28548",
   "metadata": {},
   "outputs": [
    {
     "name": "stdout",
     "output_type": "stream",
     "text": [
      "display first if\n",
      "display second if\n"
     ]
    }
   ],
   "source": [
    "x=10\n",
    "if x>0:\n",
    "    print(\"display first if\")\n",
    "    if x==10:                 #nested if statement \n",
    "        print(\"display second if\") # since 2 condition is true it displayed "
   ]
  },
  {
   "cell_type": "code",
   "execution_count": 27,
   "id": "913c8d18-fde8-41e9-8481-8ecc28c1f3ad",
   "metadata": {},
   "outputs": [
    {
     "name": "stdout",
     "output_type": "stream",
     "text": [
      "first if\n",
      "else of 2nd if\n"
     ]
    }
   ],
   "source": [
    "x=10\n",
    "if x>0:          # 10>0 --> T\n",
    "    print(\"first if\")  #executes\n",
    "    if x>12:     #10>12 ---> F\n",
    "        print(\"second if\")  #not executes \n",
    "        if x==10:    #10==10 \n",
    "            print(\"third if\") # here the above condition is false so it will stop checking the below condition and it stops executing \n",
    "        else:\n",
    "            print(\"else of 3rd if\")\n",
    "    else:\n",
    "        print(\"else of 2nd if\") #executes "
   ]
  },
  {
   "cell_type": "code",
   "execution_count": 26,
   "id": "5f6fb687-ebd3-4e6b-9a1c-97b2f8dab799",
   "metadata": {},
   "outputs": [
    {
     "name": "stdout",
     "output_type": "stream",
     "text": [
      "first if\n",
      "second if\n",
      "else of 3rd if\n"
     ]
    }
   ],
   "source": [
    "x=15\n",
    "if x>0:\n",
    "    print(\"first if\")  #T\n",
    "    if x>12:\n",
    "        print(\"second if\")  #T\n",
    "        if x==10:    \n",
    "            print(\"third if\") #F\n",
    "        else:\n",
    "            print(\"else of 3rd if\")\n",
    "    else:\n",
    "        print(\"else of 2nd if\")"
   ]
  },
  {
   "cell_type": "markdown",
   "id": "7393b407-fcd9-4b3e-b155-a408ab9e9a88",
   "metadata": {},
   "source": [
    "# DATETIME PACKAGE"
   ]
  },
  {
   "cell_type": "markdown",
   "id": "82222480-fa5d-41cb-ad04-ab3004badbfd",
   "metadata": {},
   "source": [
    "PRE INSTALLED LIBRARY\n",
    "\n",
    "4 MODULE :\n",
    "            date\n",
    "            \n",
    "            time\n",
    "\n",
    "            datetime\n",
    "            \n",
    "            timedelta\n",
    "            "
   ]
  },
  {
   "cell_type": "code",
   "execution_count": 30,
   "id": "81c03f90-1d50-4fae-971f-4bf6d7928e62",
   "metadata": {},
   "outputs": [
    {
     "name": "stdout",
     "output_type": "stream",
     "text": [
      "2020-12-01\n"
     ]
    }
   ],
   "source": [
    "#date module\n",
    "from datetime import date\n",
    "#create date\n",
    "my_date=date(2020,12,1)  #year,month,day\n",
    "print(my_date)"
   ]
  },
  {
   "cell_type": "code",
   "execution_count": 40,
   "id": "728b7cb3-9328-4a68-999e-8512de88f8dc",
   "metadata": {},
   "outputs": [
    {
     "name": "stdout",
     "output_type": "stream",
     "text": [
      "2024-07-18\n"
     ]
    }
   ],
   "source": [
    "#todays date \n",
    "today1=date.today()\n",
    "print(today1)"
   ]
  },
  {
   "cell_type": "code",
   "execution_count": 36,
   "id": "87e77a12-68aa-4ef2-9a06-d8c2e646906d",
   "metadata": {},
   "outputs": [
    {
     "data": {
      "text/plain": [
       "2020"
      ]
     },
     "execution_count": 36,
     "metadata": {},
     "output_type": "execute_result"
    }
   ],
   "source": [
    "my_date.year"
   ]
  },
  {
   "cell_type": "code",
   "execution_count": 34,
   "id": "12a3e922-925a-404a-a422-b18f8b25dc82",
   "metadata": {},
   "outputs": [
    {
     "data": {
      "text/plain": [
       "4"
      ]
     },
     "execution_count": 34,
     "metadata": {},
     "output_type": "execute_result"
    }
   ],
   "source": [
    "today1.isoweekday()  # 1-mon 2-tue 3-wed 4-thurs (so displayed ) 4-fri so on "
   ]
  },
  {
   "cell_type": "code",
   "execution_count": 57,
   "id": "c0b470ca-f502-4487-8e56-d90ef8f4a7ad",
   "metadata": {},
   "outputs": [
    {
     "data": {
      "text/plain": [
       "7"
      ]
     },
     "execution_count": 57,
     "metadata": {},
     "output_type": "execute_result"
    }
   ],
   "source": [
    "today1.month"
   ]
  },
  {
   "cell_type": "code",
   "execution_count": 38,
   "id": "aea812ab-a20c-4add-9f3b-62d7a16519d4",
   "metadata": {},
   "outputs": [
    {
     "data": {
      "text/plain": [
       "18"
      ]
     },
     "execution_count": 38,
     "metadata": {},
     "output_type": "execute_result"
    }
   ],
   "source": [
    "today1.day"
   ]
  },
  {
   "cell_type": "code",
   "execution_count": 39,
   "id": "8f0faca2-2010-4066-bad7-dcf5f6f982e2",
   "metadata": {},
   "outputs": [
    {
     "name": "stdout",
     "output_type": "stream",
     "text": [
      "12:12:30.012452\n"
     ]
    }
   ],
   "source": [
    "from datetime import time \n",
    "time1=time(12,12,30,12452)\n",
    "print(time1)"
   ]
  },
  {
   "cell_type": "code",
   "execution_count": 42,
   "id": "54ba9195-5f59-4b4b-9734-9adc8b5b1a0e",
   "metadata": {},
   "outputs": [
    {
     "data": {
      "text/plain": [
       "12452"
      ]
     },
     "execution_count": 42,
     "metadata": {},
     "output_type": "execute_result"
    }
   ],
   "source": [
    "time1.microsecond"
   ]
  },
  {
   "cell_type": "code",
   "execution_count": 45,
   "id": "32a72ebe-fa1a-4f4d-9815-3d905a00c430",
   "metadata": {},
   "outputs": [
    {
     "data": {
      "text/plain": [
       "30"
      ]
     },
     "execution_count": 45,
     "metadata": {},
     "output_type": "execute_result"
    }
   ],
   "source": [
    "time1.second"
   ]
  },
  {
   "cell_type": "code",
   "execution_count": 47,
   "id": "62c39e69-c36f-4cab-a12b-4816312460f5",
   "metadata": {},
   "outputs": [
    {
     "data": {
      "text/plain": [
       "12"
      ]
     },
     "execution_count": 47,
     "metadata": {},
     "output_type": "execute_result"
    }
   ],
   "source": [
    "time1.hour"
   ]
  },
  {
   "cell_type": "code",
   "execution_count": 2,
   "id": "0e288c94-a83d-455a-aeab-8186cdcd868a",
   "metadata": {},
   "outputs": [
    {
     "name": "stdout",
     "output_type": "stream",
     "text": [
      "2024-07-29 19:06:36.577344\n"
     ]
    }
   ],
   "source": [
    "from datetime import datetime as dt\n",
    "current_timedate=dt.now()\n",
    "print(current_timedate)"
   ]
  },
  {
   "cell_type": "code",
   "execution_count": 53,
   "id": "20758af4-1073-4c65-9bbf-e15f09a3b366",
   "metadata": {},
   "outputs": [
    {
     "name": "stdout",
     "output_type": "stream",
     "text": [
      "11:02:32\n"
     ]
    }
   ],
   "source": [
    "print(current_timedate.strftime(\"%H:%M:%S\"))  #to display only time (method 1)"
   ]
  },
  {
   "cell_type": "code",
   "execution_count": 58,
   "id": "b29e68bb-3398-4540-aea7-41069a75b990",
   "metadata": {},
   "outputs": [
    {
     "name": "stdout",
     "output_type": "stream",
     "text": [
      "11:02:32\n"
     ]
    }
   ],
   "source": [
    "print(current_timedate.strftime(\"%T\"))  #method 2 (strtime means -->string format time)"
   ]
  },
  {
   "cell_type": "markdown",
   "id": "25823d38-0ba1-4f19-9fd0-2272bc599604",
   "metadata": {},
   "source": [
    "### using timedelta "
   ]
  },
  {
   "cell_type": "markdown",
   "id": "50a94434-9a22-4a2a-b8c5-9cd64197fb4d",
   "metadata": {},
   "source": [
    "to find future dates "
   ]
  },
  {
   "cell_type": "code",
   "execution_count": 68,
   "id": "cb81f087-648f-437e-aefd-f525e914d378",
   "metadata": {},
   "outputs": [
    {
     "name": "stdout",
     "output_type": "stream",
     "text": [
      "2038-03-27 12:27:24.611718\n"
     ]
    }
   ],
   "source": [
    "from datetime import timedelta as td,datetime\n",
    "today1=datetime.now()\n",
    "future_date=today1+td(days=5000,hours=1,minutes=10)  # after 5000 days what will be the date and time it displays o/p\n",
    "print(future_date)"
   ]
  },
  {
   "cell_type": "code",
   "execution_count": 64,
   "id": "2a88e083-b9a6-40b7-9b7a-5e35f1f9478b",
   "metadata": {},
   "outputs": [
    {
     "data": {
      "text/plain": [
       "6"
      ]
     },
     "execution_count": 64,
     "metadata": {},
     "output_type": "execute_result"
    }
   ],
   "source": [
    "future_date.isoweekday()  #display which day it comes 6--satdy"
   ]
  },
  {
   "cell_type": "code",
   "execution_count": 67,
   "id": "ac3ef60c-3403-44cc-a5fa-8745bafa6c6e",
   "metadata": {},
   "outputs": [
    {
     "name": "stdout",
     "output_type": "stream",
     "text": [
      "2038-03-27\n"
     ]
    }
   ],
   "source": [
    "from datetime import timedelta as td,datetime,date\n",
    "today1=date.today()\n",
    "future_date=today1+td(days=5000)  # after 5000 days what will be the date displayed in o/p\n",
    "print(future_date)"
   ]
  },
  {
   "cell_type": "markdown",
   "id": "321864e6-3172-4071-be62-15baecd42a4f",
   "metadata": {},
   "source": [
    "# DATA STRUCTURES "
   ]
  },
  {
   "cell_type": "markdown",
   "id": "d930ef21-786b-4d05-bb41-de3b11085b5c",
   "metadata": {},
   "source": [
    "are the ways to store ur data v cn organize the data and perform various operation on that like :\n",
    "\n",
    "insert\n",
    "\n",
    "update\n",
    "\n",
    "delete\n",
    "\n",
    "sort access very easily"
   ]
  },
  {
   "cell_type": "markdown",
   "id": "c2a2c623-3d6f-42f4-9f98-995990f96935",
   "metadata": {},
   "source": [
    "## Basic data structure are:"
   ]
  },
  {
   "cell_type": "markdown",
   "id": "50297756-2d66-4ed3-8e2e-432ab983e526",
   "metadata": {},
   "source": [
    "### 1) Tupples"
   ]
  },
  {
   "cell_type": "markdown",
   "id": "f8e75318-8726-41af-92f9-d9595e555b1d",
   "metadata": {},
   "source": [
    ":: it is immutable means unchangable. element once assigned cnt be updated or removed \n",
    "\n",
    ":: it is preferd only if u dont have to change data over time\n",
    "\n",
    ":: elements are stored inside () braclets\n",
    "\n",
    ":: tuples r faster then list\n"
   ]
  },
  {
   "cell_type": "code",
   "execution_count": 1,
   "id": "5e71ce35-be7f-4a05-b8a0-a5aef4989fd3",
   "metadata": {},
   "outputs": [
    {
     "data": {
      "text/plain": [
       "(2, 3, 4)"
      ]
     },
     "execution_count": 1,
     "metadata": {},
     "output_type": "execute_result"
    }
   ],
   "source": [
    "t1=(2,3,4)\n",
    "t1"
   ]
  },
  {
   "cell_type": "code",
   "execution_count": 71,
   "id": "aec61abc-f817-45a7-921e-561c07d700a7",
   "metadata": {},
   "outputs": [
    {
     "data": {
      "text/plain": [
       "()"
      ]
     },
     "execution_count": 71,
     "metadata": {},
     "output_type": "execute_result"
    }
   ],
   "source": [
    "tuple1=()  #empty tuple\n",
    "tuple1"
   ]
  },
  {
   "cell_type": "code",
   "execution_count": 72,
   "id": "4f50835e-2b6f-42af-be08-358ae437ed54",
   "metadata": {},
   "outputs": [
    {
     "data": {
      "text/plain": [
       "tuple"
      ]
     },
     "execution_count": 72,
     "metadata": {},
     "output_type": "execute_result"
    }
   ],
   "source": [
    "type(tuple1)"
   ]
  },
  {
   "cell_type": "code",
   "execution_count": 73,
   "id": "bb36a397-353f-4e8c-aa8d-89ab3c567a0b",
   "metadata": {},
   "outputs": [
    {
     "data": {
      "text/plain": [
       "(3, 12, 67, 23)"
      ]
     },
     "execution_count": 73,
     "metadata": {},
     "output_type": "execute_result"
    }
   ],
   "source": [
    "tuple2=(3,12,67,23)  #tuple of int \n",
    "tuple2"
   ]
  },
  {
   "cell_type": "code",
   "execution_count": 74,
   "id": "1ea948b0-7891-45bb-9252-5d6ca59b0dc9",
   "metadata": {},
   "outputs": [
    {
     "data": {
      "text/plain": [
       "(5.2, -1.3, 4.5)"
      ]
     },
     "execution_count": 74,
     "metadata": {},
     "output_type": "execute_result"
    }
   ],
   "source": [
    "tuple3=(5.2,-1.3,4.5)    #tuple of float\n",
    "tuple3"
   ]
  },
  {
   "cell_type": "code",
   "execution_count": 75,
   "id": "a307dcf8-e0c3-4bf7-a120-72952af725df",
   "metadata": {},
   "outputs": [
    {
     "data": {
      "text/plain": [
       "('a', 'b', 'c')"
      ]
     },
     "execution_count": 75,
     "metadata": {},
     "output_type": "execute_result"
    }
   ],
   "source": [
    "tuple4=('a','b','c')    #tuple of strings \n",
    "tuple4"
   ]
  },
  {
   "cell_type": "code",
   "execution_count": 76,
   "id": "80309e50-8867-47fc-a188-bd183f0f1756",
   "metadata": {},
   "outputs": [
    {
     "data": {
      "text/plain": [
       "(8, -3.4, 'b', True, {6, 7}, [2, 4])"
      ]
     },
     "execution_count": 76,
     "metadata": {},
     "output_type": "execute_result"
    }
   ],
   "source": [
    "tuple5=(8,-3.4,'b',True,{7,6},[2,4])    #tuple of mixed data\n",
    "tuple5"
   ]
  },
  {
   "cell_type": "code",
   "execution_count": 77,
   "id": "de9c024f-8f51-498c-90c5-87d5e4e7d94e",
   "metadata": {},
   "outputs": [
    {
     "data": {
      "text/plain": [
       "(5, 59, (8, 1), (3, 1, 2))"
      ]
     },
     "execution_count": 77,
     "metadata": {},
     "output_type": "execute_result"
    }
   ],
   "source": [
    "tuple6=(5,59,(8,1),(3,1,2))    #nested tuple \n",
    "tuple6"
   ]
  },
  {
   "cell_type": "markdown",
   "id": "ff94e504-3722-45fe-badb-b6f572d98ce5",
   "metadata": {},
   "source": [
    "### TUPPLE INDEXING"
   ]
  },
  {
   "cell_type": "code",
   "execution_count": 9,
   "id": "8b87d335-e158-4e8f-b3ca-a1eeadc1b31f",
   "metadata": {},
   "outputs": [
    {
     "data": {
      "text/plain": [
       "(5.2, -1.3, 4.5)"
      ]
     },
     "execution_count": 9,
     "metadata": {},
     "output_type": "execute_result"
    }
   ],
   "source": [
    "tuple3=(5.2,-1.3,4.5)    \n",
    "tuple3"
   ]
  },
  {
   "cell_type": "code",
   "execution_count": 10,
   "id": "4bb38e5f-ad40-4c26-8b75-460c9d3a5992",
   "metadata": {},
   "outputs": [
    {
     "data": {
      "text/plain": [
       "4.5"
      ]
     },
     "execution_count": 10,
     "metadata": {},
     "output_type": "execute_result"
    }
   ],
   "source": [
    "tuple3[2]"
   ]
  },
  {
   "cell_type": "code",
   "execution_count": 11,
   "id": "f3df82ad-0136-4e46-b0a8-d97d40a3e348",
   "metadata": {},
   "outputs": [
    {
     "data": {
      "text/plain": [
       "(5.2,)"
      ]
     },
     "execution_count": 11,
     "metadata": {},
     "output_type": "execute_result"
    }
   ],
   "source": [
    "tuple3[0:1]"
   ]
  },
  {
   "cell_type": "code",
   "execution_count": 12,
   "id": "2fa8089b-d6e7-4485-be4e-c5e8bdb31811",
   "metadata": {},
   "outputs": [
    {
     "ename": "TypeError",
     "evalue": "'tuple' object does not support item assignment",
     "output_type": "error",
     "traceback": [
      "\u001b[1;31m---------------------------------------------------------------------------\u001b[0m",
      "\u001b[1;31mTypeError\u001b[0m                                 Traceback (most recent call last)",
      "Cell \u001b[1;32mIn[12], line 1\u001b[0m\n\u001b[1;32m----> 1\u001b[0m \u001b[43mtuple3\u001b[49m\u001b[43m[\u001b[49m\u001b[38;5;241;43m2\u001b[39;49m\u001b[43m]\u001b[49m\u001b[38;5;241m=\u001b[39m\u001b[38;5;241m3.5\u001b[39m \u001b[38;5;66;03m#tuple doesnt support item UPDATION\u001b[39;00m\n",
      "\u001b[1;31mTypeError\u001b[0m: 'tuple' object does not support item assignment"
     ]
    }
   ],
   "source": [
    "tuple3[2]=3.5 #tuple doesnt support item UPDATION"
   ]
  },
  {
   "cell_type": "code",
   "execution_count": 13,
   "id": "b78ae77b-4d90-4512-a4b0-57a4c80ee6a6",
   "metadata": {},
   "outputs": [
    {
     "ename": "TypeError",
     "evalue": "'tuple' object doesn't support item deletion",
     "output_type": "error",
     "traceback": [
      "\u001b[1;31m---------------------------------------------------------------------------\u001b[0m",
      "\u001b[1;31mTypeError\u001b[0m                                 Traceback (most recent call last)",
      "Cell \u001b[1;32mIn[13], line 1\u001b[0m\n\u001b[1;32m----> 1\u001b[0m \u001b[38;5;28;01mdel\u001b[39;00m \u001b[43mtuple3\u001b[49m\u001b[43m[\u001b[49m\u001b[38;5;241;43m2\u001b[39;49m\u001b[43m]\u001b[49m \u001b[38;5;66;03m#tuple cnt delete any one items frm tuple\u001b[39;00m\n",
      "\u001b[1;31mTypeError\u001b[0m: 'tuple' object doesn't support item deletion"
     ]
    }
   ],
   "source": [
    "del tuple3[2] #tuple cnt delete any one items frm tuple"
   ]
  },
  {
   "cell_type": "code",
   "execution_count": 15,
   "id": "b0c90fa4-7dfc-4228-bba7-c0701727fa1e",
   "metadata": {},
   "outputs": [
    {
     "ename": "NameError",
     "evalue": "name 'tuple3' is not defined",
     "output_type": "error",
     "traceback": [
      "\u001b[1;31m---------------------------------------------------------------------------\u001b[0m",
      "\u001b[1;31mNameError\u001b[0m                                 Traceback (most recent call last)",
      "Cell \u001b[1;32mIn[15], line 1\u001b[0m\n\u001b[1;32m----> 1\u001b[0m \u001b[38;5;28;01mdel\u001b[39;00m \u001b[43mtuple3\u001b[49m\n",
      "\u001b[1;31mNameError\u001b[0m: name 'tuple3' is not defined"
     ]
    }
   ],
   "source": [
    "del tuple3   #here tuple is deleted completely "
   ]
  },
  {
   "cell_type": "markdown",
   "id": "16405e19-0b35-4a1a-8ede-85acc831904f",
   "metadata": {},
   "source": [
    "### count()"
   ]
  },
  {
   "cell_type": "markdown",
   "id": "1957d53a-3329-416c-8eb1-6c25e4e3a92e",
   "metadata": {},
   "source": [
    "returns no.of occurrence of particular element "
   ]
  },
  {
   "cell_type": "code",
   "execution_count": 16,
   "id": "f0590da4-3157-44b8-92de-ef1596482478",
   "metadata": {},
   "outputs": [
    {
     "data": {
      "text/plain": [
       "3"
      ]
     },
     "execution_count": 16,
     "metadata": {},
     "output_type": "execute_result"
    }
   ],
   "source": [
    "x=(5,3,5,6,7,5)\n",
    "x.count(5)"
   ]
  },
  {
   "cell_type": "markdown",
   "id": "9866c72b-02e9-4275-a022-8413fe7d4181",
   "metadata": {},
   "source": [
    "### index()"
   ]
  },
  {
   "cell_type": "markdown",
   "id": "5f3ab9c4-b728-4917-a9ce-a228fc933367",
   "metadata": {},
   "source": [
    "returns  to check index value of elements"
   ]
  },
  {
   "cell_type": "code",
   "execution_count": 61,
   "id": "2edcbb3d-096d-4fe2-ac5d-0ece6db70028",
   "metadata": {},
   "outputs": [
    {
     "data": {
      "text/plain": [
       "2"
      ]
     },
     "execution_count": 61,
     "metadata": {},
     "output_type": "execute_result"
    }
   ],
   "source": [
    "x=(1,2,3,4)\n",
    "x.index(3)"
   ]
  },
  {
   "cell_type": "markdown",
   "id": "bfb89202-3538-41f7-bdce-bb71c71ebed8",
   "metadata": {},
   "source": [
    "### Tuple Membership"
   ]
  },
  {
   "cell_type": "code",
   "execution_count": 18,
   "id": "e2669c85-ce7b-4022-b16a-b7f9587a8f6f",
   "metadata": {},
   "outputs": [
    {
     "data": {
      "text/plain": [
       "(8, -3.4, 'b', True, {6, 7}, [2, 4])"
      ]
     },
     "execution_count": 18,
     "metadata": {},
     "output_type": "execute_result"
    }
   ],
   "source": [
    "tuple5=(8,-3.4,'b',True,{7,6},[2,4])    #tuple of mixed data\n",
    "tuple5"
   ]
  },
  {
   "cell_type": "code",
   "execution_count": 19,
   "id": "2c4097ac-f1ef-43b6-8b45-e7f5e23c3c72",
   "metadata": {},
   "outputs": [
    {
     "data": {
      "text/plain": [
       "True"
      ]
     },
     "execution_count": 19,
     "metadata": {},
     "output_type": "execute_result"
    }
   ],
   "source": [
    "-3.4 in tuple5"
   ]
  },
  {
   "cell_type": "code",
   "execution_count": 20,
   "id": "ed720de0-f5f1-4063-8949-763f0372109e",
   "metadata": {},
   "outputs": [
    {
     "data": {
      "text/plain": [
       "False"
      ]
     },
     "execution_count": 20,
     "metadata": {},
     "output_type": "execute_result"
    }
   ],
   "source": [
    "'b' not in tuple5"
   ]
  },
  {
   "cell_type": "code",
   "execution_count": 21,
   "id": "4d92d6bf-6693-4eea-baf7-f3e284383993",
   "metadata": {},
   "outputs": [
    {
     "data": {
      "text/plain": [
       "True"
      ]
     },
     "execution_count": 21,
     "metadata": {},
     "output_type": "execute_result"
    }
   ],
   "source": [
    "t1=(5,3.1,1)\n",
    "1 in t1"
   ]
  },
  {
   "cell_type": "markdown",
   "id": "5868aab7-ee9e-4047-8335-9e4f859b66eb",
   "metadata": {},
   "source": [
    "### sorting"
   ]
  },
  {
   "cell_type": "markdown",
   "id": "d52d409c-df35-48dc-9f8e-a6e9c4f90a28",
   "metadata": {},
   "source": [
    "returns a sorted list in ascending order (original tupl remains same only output ll chng"
   ]
  },
  {
   "cell_type": "code",
   "execution_count": 23,
   "id": "cc1d6a80-4f18-44da-a0fa-e77dd2298cee",
   "metadata": {},
   "outputs": [
    {
     "data": {
      "text/plain": [
       "(3, 12, 67, 23)"
      ]
     },
     "execution_count": 23,
     "metadata": {},
     "output_type": "execute_result"
    }
   ],
   "source": [
    "tuple2=(3,12,67,23)  #tuple of int \n",
    "tuple2"
   ]
  },
  {
   "cell_type": "code",
   "execution_count": 29,
   "id": "dd921165-e834-4754-897d-27ee31389612",
   "metadata": {},
   "outputs": [
    {
     "data": {
      "text/plain": [
       "[3, 12, 23, 67]"
      ]
     },
     "execution_count": 29,
     "metadata": {},
     "output_type": "execute_result"
    }
   ],
   "source": [
    "x=sorted(tuple2)\n",
    "x"
   ]
  },
  {
   "cell_type": "code",
   "execution_count": 26,
   "id": "53a9e56c-3702-4661-9cc1-b7ecd09685db",
   "metadata": {},
   "outputs": [
    {
     "data": {
      "text/plain": [
       "[67, 23, 12, 3]"
      ]
     },
     "execution_count": 26,
     "metadata": {},
     "output_type": "execute_result"
    }
   ],
   "source": [
    "y=sorted(tuple2,reverse=True)    #descndng order\n",
    "y"
   ]
  },
  {
   "cell_type": "code",
   "execution_count": 27,
   "id": "cbcc81d3-c5c6-46c4-8c89-e653b16d1879",
   "metadata": {},
   "outputs": [
    {
     "data": {
      "text/plain": [
       "(8, -3.4, 'b', True, {6, 7}, [2, 4])"
      ]
     },
     "execution_count": 27,
     "metadata": {},
     "output_type": "execute_result"
    }
   ],
   "source": [
    "tuple5"
   ]
  },
  {
   "cell_type": "code",
   "execution_count": 28,
   "id": "8d9ca09c-f53c-4967-b516-583fecbc412d",
   "metadata": {},
   "outputs": [
    {
     "ename": "TypeError",
     "evalue": "'<' not supported between instances of 'str' and 'float'",
     "output_type": "error",
     "traceback": [
      "\u001b[1;31m---------------------------------------------------------------------------\u001b[0m",
      "\u001b[1;31mTypeError\u001b[0m                                 Traceback (most recent call last)",
      "Cell \u001b[1;32mIn[28], line 1\u001b[0m\n\u001b[1;32m----> 1\u001b[0m \u001b[38;5;28;43msorted\u001b[39;49m\u001b[43m(\u001b[49m\u001b[43mtuple5\u001b[49m\u001b[43m)\u001b[49m \u001b[38;5;66;03m#cnt sort mixed datatype\u001b[39;00m\n",
      "\u001b[1;31mTypeError\u001b[0m: '<' not supported between instances of 'str' and 'float'"
     ]
    }
   ],
   "source": [
    "sorted(tuple5) #cnt sort mixed datatype"
   ]
  },
  {
   "cell_type": "markdown",
   "id": "9c4e2b1b-f3cd-4e0e-820e-a28eb4ef0743",
   "metadata": {},
   "source": [
    "## 2) Dictionary"
   ]
  },
  {
   "cell_type": "markdown",
   "id": "87bf1e66-bef9-4848-8e1d-bc26c931abed",
   "metadata": {},
   "source": [
    ":: key r mutable and value r immutable concept\n",
    "\n",
    ":: elements r stored inside the {} brackets\n",
    "\n",
    ":: separated using :"
   ]
  },
  {
   "cell_type": "code",
   "execution_count": 3,
   "id": "16aa9f42-24c9-4ab4-8049-375c6d7c77e3",
   "metadata": {},
   "outputs": [
    {
     "data": {
      "text/plain": [
       "1"
      ]
     },
     "execution_count": 3,
     "metadata": {},
     "output_type": "execute_result"
    }
   ],
   "source": [
    "d1={'one':1,'two':2}\n",
    "d1['one']#here one->key & 1->value"
   ]
  },
  {
   "cell_type": "code",
   "execution_count": 82,
   "id": "3a9ab1c0-8fc8-4ad1-86d9-6ff9192e35f1",
   "metadata": {},
   "outputs": [
    {
     "data": {
      "text/plain": [
       "{}"
      ]
     },
     "execution_count": 82,
     "metadata": {},
     "output_type": "execute_result"
    }
   ],
   "source": [
    "dict1={} #empty dic\n",
    "dict1"
   ]
  },
  {
   "cell_type": "code",
   "execution_count": 83,
   "id": "9cf5bb21-c044-433b-b8a9-f42a3308ee37",
   "metadata": {},
   "outputs": [
    {
     "data": {
      "text/plain": [
       "dict"
      ]
     },
     "execution_count": 83,
     "metadata": {},
     "output_type": "execute_result"
    }
   ],
   "source": [
    "type(dict1)"
   ]
  },
  {
   "cell_type": "code",
   "execution_count": 85,
   "id": "63cc6e0c-c524-4f7f-9ca3-624d1119fe67",
   "metadata": {},
   "outputs": [
    {
     "data": {
      "text/plain": [
       "'hi'"
      ]
     },
     "execution_count": 85,
     "metadata": {},
     "output_type": "execute_result"
    }
   ],
   "source": [
    "d2={4:\"hello\",6:\"thank\",8:\"hi\"}  #keys r used to acess value\n",
    "d2[8]  #fetch the value based on key"
   ]
  },
  {
   "cell_type": "code",
   "execution_count": 86,
   "id": "0584fc7a-95b1-434b-b8de-64ad5409b750",
   "metadata": {},
   "outputs": [
    {
     "data": {
      "text/plain": [
       "'thank'"
      ]
     },
     "execution_count": 86,
     "metadata": {},
     "output_type": "execute_result"
    }
   ],
   "source": [
    "d2[6]"
   ]
  },
  {
   "cell_type": "code",
   "execution_count": 89,
   "id": "834584e2-f759-4d2f-8dee-b64989243d6b",
   "metadata": {},
   "outputs": [
    {
     "data": {
      "text/plain": [
       "{'name': 'john', 'age': 20, 'city': 'mumbai'}"
      ]
     },
     "execution_count": 89,
     "metadata": {},
     "output_type": "execute_result"
    }
   ],
   "source": [
    "d3={\"name\":\"john\",\"age\":20,\"city\":\"mumbai\"} #dic with string\n",
    "d3"
   ]
  },
  {
   "cell_type": "code",
   "execution_count": 90,
   "id": "0e88bc30-733f-4bc7-9f85-b5d09edaf691",
   "metadata": {},
   "outputs": [
    {
     "data": {
      "text/plain": [
       "'john'"
      ]
     },
     "execution_count": 90,
     "metadata": {},
     "output_type": "execute_result"
    }
   ],
   "source": [
    "d3[\"name\"]"
   ]
  },
  {
   "cell_type": "code",
   "execution_count": 91,
   "id": "a0e0abd4-6911-4ed2-8645-339a25040681",
   "metadata": {},
   "outputs": [
    {
     "data": {
      "text/plain": [
       "{1: 'one', 2: 'two', 3: ['three', 'tin', 'tii']}"
      ]
     },
     "execution_count": 91,
     "metadata": {},
     "output_type": "execute_result"
    }
   ],
   "source": [
    "d4={1:\"one\",2:\"two\",3:[\"three\",\"tin\",\"tii\"]}\n",
    "d4"
   ]
  },
  {
   "cell_type": "code",
   "execution_count": 92,
   "id": "35a529b8-ce52-4cb0-97b1-0e8501ee37d0",
   "metadata": {},
   "outputs": [
    {
     "data": {
      "text/plain": [
       "['three', 'tin', 'tii']"
      ]
     },
     "execution_count": 92,
     "metadata": {},
     "output_type": "execute_result"
    }
   ],
   "source": [
    "d4[3]"
   ]
  },
  {
   "cell_type": "code",
   "execution_count": 94,
   "id": "669e71c0-a60e-45b2-ae89-6beff403643f",
   "metadata": {},
   "outputs": [
    {
     "data": {
      "text/plain": [
       "'tin'"
      ]
     },
     "execution_count": 94,
     "metadata": {},
     "output_type": "execute_result"
    }
   ],
   "source": [
    "d4[3][1]"
   ]
  },
  {
   "cell_type": "code",
   "execution_count": 93,
   "id": "16915291-f331-4717-bf3e-83f790165ddb",
   "metadata": {},
   "outputs": [
    {
     "data": {
      "text/plain": [
       "'tii'"
      ]
     },
     "execution_count": 93,
     "metadata": {},
     "output_type": "execute_result"
    }
   ],
   "source": [
    "d4[3][2]"
   ]
  },
  {
   "cell_type": "markdown",
   "id": "176e1c21-62d2-4045-89f0-2922d146553e",
   "metadata": {},
   "source": [
    "### PREDEFINED FUNCTIONS"
   ]
  },
  {
   "cell_type": "markdown",
   "id": "753450cb-ba37-47bb-9da1-ce73add543f5",
   "metadata": {},
   "source": [
    "---> KEYS()  : RETURNS ONLY KEYS"
   ]
  },
  {
   "cell_type": "code",
   "execution_count": 95,
   "id": "224bac15-e075-4f94-a346-eff656644590",
   "metadata": {},
   "outputs": [
    {
     "data": {
      "text/plain": [
       "dict_keys([4, 6, 8])"
      ]
     },
     "execution_count": 95,
     "metadata": {},
     "output_type": "execute_result"
    }
   ],
   "source": [
    "d2.keys()"
   ]
  },
  {
   "cell_type": "markdown",
   "id": "82a4f754-31ab-4952-9531-b853244ddd0d",
   "metadata": {},
   "source": [
    "---->VALUES() :RETURNS VALUES"
   ]
  },
  {
   "cell_type": "code",
   "execution_count": 96,
   "id": "fe44f522-dfdb-47e3-b8f2-dd2940449b2f",
   "metadata": {},
   "outputs": [
    {
     "data": {
      "text/plain": [
       "dict_values(['hello', 'thank', 'hi'])"
      ]
     },
     "execution_count": 96,
     "metadata": {},
     "output_type": "execute_result"
    }
   ],
   "source": [
    "d2.values()"
   ]
  },
  {
   "cell_type": "markdown",
   "id": "69cd516a-2aa9-4284-b8b7-3b0c77b9bead",
   "metadata": {},
   "source": [
    "---> ITEMS() : RETURNS ALL KEY-VALUE PAIRS"
   ]
  },
  {
   "cell_type": "code",
   "execution_count": 97,
   "id": "59962380-84ba-41a4-8bb3-8510c0404d1c",
   "metadata": {},
   "outputs": [
    {
     "data": {
      "text/plain": [
       "dict_items([(4, 'hello'), (6, 'thank'), (8, 'hi')])"
      ]
     },
     "execution_count": 97,
     "metadata": {},
     "output_type": "execute_result"
    }
   ],
   "source": [
    "d2.items()"
   ]
  },
  {
   "cell_type": "code",
   "execution_count": 99,
   "id": "7b211877-00bd-4e2e-b79a-0d9dacb4d165",
   "metadata": {},
   "outputs": [],
   "source": [
    "d4={\"student1\":{'name':'xyz','city':'Mumbai'},  #nested dictionary\n",
    "    \"student2\":{'name':'pqr','city':'Delhi'},\n",
    "    \"student3\":{'name':'lmn','city':'Agra'}\n",
    "   }"
   ]
  },
  {
   "cell_type": "code",
   "execution_count": 100,
   "id": "622314de-5837-44e6-beca-91e26546df2e",
   "metadata": {},
   "outputs": [
    {
     "data": {
      "text/plain": [
       "{'name': 'pqr', 'city': 'Delhi'}"
      ]
     },
     "execution_count": 100,
     "metadata": {},
     "output_type": "execute_result"
    }
   ],
   "source": [
    "d4[\"student2\"]"
   ]
  },
  {
   "cell_type": "code",
   "execution_count": 101,
   "id": "f449b022-5389-49d8-b206-e84d6e430efe",
   "metadata": {},
   "outputs": [
    {
     "data": {
      "text/plain": [
       "'Delhi'"
      ]
     },
     "execution_count": 101,
     "metadata": {},
     "output_type": "execute_result"
    }
   ],
   "source": [
    "d4[\"student2\"][\"city\"]"
   ]
  },
  {
   "cell_type": "code",
   "execution_count": 102,
   "id": "45f8b236-e27d-4e01-9f18-cb1d9b3cab0d",
   "metadata": {},
   "outputs": [
    {
     "data": {
      "text/plain": [
       "'lmn'"
      ]
     },
     "execution_count": 102,
     "metadata": {},
     "output_type": "execute_result"
    }
   ],
   "source": [
    "d4[\"student3\"][\"name\"]"
   ]
  },
  {
   "cell_type": "markdown",
   "id": "2d8bed47-85cd-47cf-b91e-d44c70e9cd90",
   "metadata": {},
   "source": [
    "### ADD / REMOVE items from dictionary"
   ]
  },
  {
   "cell_type": "code",
   "execution_count": 14,
   "id": "02582995-7827-4c95-ba24-bd41f49cbaad",
   "metadata": {},
   "outputs": [
    {
     "data": {
      "text/plain": [
       "{'name': 'john', 'age': 20, 'city': 'mumbai'}"
      ]
     },
     "execution_count": 14,
     "metadata": {},
     "output_type": "execute_result"
    }
   ],
   "source": [
    "d3={\"name\":\"john\",\"age\":20,\"city\":\"mumbai\"}\n",
    "d3"
   ]
  },
  {
   "cell_type": "markdown",
   "id": "fdc4d95d-1b87-4516-9df3-8741ce561d25",
   "metadata": {},
   "source": [
    "### update() "
   ]
  },
  {
   "cell_type": "markdown",
   "id": "6df25b41-d8d1-4157-bf0c-cae3bd1420b3",
   "metadata": {},
   "source": [
    "##### 2 ways to add/update items in dictionary\n",
    "update()   : its adds a new key-value pair in the dict & also updates the value of particular key"
   ]
  },
  {
   "cell_type": "code",
   "execution_count": 15,
   "id": "b8cc6a15-8fc6-4b86-94d1-df181b8f63d6",
   "metadata": {},
   "outputs": [
    {
     "data": {
      "text/plain": [
       "{'name': 'john', 'age': 20, 'city': 'mumbai', 'job': 'data scientist'}"
      ]
     },
     "execution_count": 15,
     "metadata": {},
     "output_type": "execute_result"
    }
   ],
   "source": [
    "d3.update({'job':'data scientist'})\n",
    "d3"
   ]
  },
  {
   "cell_type": "code",
   "execution_count": 16,
   "id": "3b54192c-91bc-4ec1-a075-9c4f8781a70a",
   "metadata": {},
   "outputs": [
    {
     "data": {
      "text/plain": [
       "{'name': 'john', 'age': 30, 'city': 'mumbai', 'job': 'data scientist'}"
      ]
     },
     "execution_count": 16,
     "metadata": {},
     "output_type": "execute_result"
    }
   ],
   "source": [
    "d3.update({'age':30})\n",
    "d3"
   ]
  },
  {
   "cell_type": "code",
   "execution_count": 17,
   "id": "33f5a8e2-b38d-4f20-9275-a0406f1b989e",
   "metadata": {},
   "outputs": [
    {
     "data": {
      "text/plain": [
       "{'name': 'john',\n",
       " 'age': 30,\n",
       " 'city': 'mumbai',\n",
       " 'job': 'data scientist',\n",
       " 'phno': 7777}"
      ]
     },
     "execution_count": 17,
     "metadata": {},
     "output_type": "execute_result"
    }
   ],
   "source": [
    "# 2 way is  usage of =\n",
    "# \"=\" -->its adds a new key-value pair in the dict & also updates the value of particular key\n",
    "d3[\"phno\"]=7777\n",
    "d3"
   ]
  },
  {
   "cell_type": "code",
   "execution_count": 18,
   "id": "e0e0a267-7dab-41b8-a6da-aa53ffd8d576",
   "metadata": {},
   "outputs": [
    {
     "data": {
      "text/plain": [
       "{'name': 'Mike',\n",
       " 'age': 30,\n",
       " 'city': 'mumbai',\n",
       " 'job': 'data scientist',\n",
       " 'phno': 7777}"
      ]
     },
     "execution_count": 18,
     "metadata": {},
     "output_type": "execute_result"
    }
   ],
   "source": [
    "d3[\"name\"]=\"Mike\"\n",
    "d3"
   ]
  },
  {
   "cell_type": "markdown",
   "id": "b271353d-6882-484f-ba64-b2e1daea5c38",
   "metadata": {},
   "source": [
    "### popitem() \n",
    "removes last key-value pair"
   ]
  },
  {
   "cell_type": "code",
   "execution_count": 19,
   "id": "7410340e-ca9b-4ea7-85cd-d9f128fd03b8",
   "metadata": {},
   "outputs": [
    {
     "data": {
      "text/plain": [
       "('phno', 7777)"
      ]
     },
     "execution_count": 19,
     "metadata": {},
     "output_type": "execute_result"
    }
   ],
   "source": [
    "d3.popitem()  #rmvs last values frm the entire set"
   ]
  },
  {
   "cell_type": "code",
   "execution_count": 20,
   "id": "5d48e429-5f16-42c0-866b-2bd43f8d5a1b",
   "metadata": {},
   "outputs": [
    {
     "data": {
      "text/plain": [
       "{'name': 'Mike', 'age': 30, 'city': 'mumbai', 'job': 'data scientist'}"
      ]
     },
     "execution_count": 20,
     "metadata": {},
     "output_type": "execute_result"
    }
   ],
   "source": [
    "d3"
   ]
  },
  {
   "cell_type": "code",
   "execution_count": 21,
   "id": "3a2f1c0f-1cde-47fc-b9f3-d920cd86b497",
   "metadata": {},
   "outputs": [
    {
     "data": {
      "text/plain": [
       "{}"
      ]
     },
     "execution_count": 21,
     "metadata": {},
     "output_type": "execute_result"
    }
   ],
   "source": [
    "d3.clear()\n",
    "d3"
   ]
  },
  {
   "cell_type": "code",
   "execution_count": 22,
   "id": "37fe525c-dfb9-44b8-8a0d-f7ba987939c6",
   "metadata": {},
   "outputs": [],
   "source": [
    "del d3  #delets all variable"
   ]
  },
  {
   "cell_type": "code",
   "execution_count": 23,
   "id": "9ba34848-80cb-40a3-aa3a-2a50a782e6d7",
   "metadata": {},
   "outputs": [
    {
     "data": {
      "text/plain": [
       "{'student1': {'name': 'xyz', 'city': 'Mumbai'},\n",
       " 'student2': {'name': 'pqr', 'city': 'Delhi'},\n",
       " 'student3': {'name': 'lmn', 'city': 'Agra'}}"
      ]
     },
     "execution_count": 23,
     "metadata": {},
     "output_type": "execute_result"
    }
   ],
   "source": [
    "d4={\"student1\":{'name':'xyz','city':'Mumbai'},  #nested dictionary\n",
    "    \"student2\":{'name':'pqr','city':'Delhi'},\n",
    "    \"student3\":{'name':'lmn','city':'Agra'}\n",
    "   }\n",
    "d4"
   ]
  },
  {
   "cell_type": "code",
   "execution_count": 24,
   "id": "56cb8cd0-e206-4635-a1cc-71a746c8a7f5",
   "metadata": {},
   "outputs": [
    {
     "data": {
      "text/plain": [
       "{'name': 'lmn', 'city': 'Agra'}"
      ]
     },
     "execution_count": 24,
     "metadata": {},
     "output_type": "execute_result"
    }
   ],
   "source": [
    "d4['student3']"
   ]
  },
  {
   "cell_type": "code",
   "execution_count": 25,
   "id": "d392dfb9-d0b5-4fc4-99b6-72b5418a7f9b",
   "metadata": {},
   "outputs": [
    {
     "data": {
      "text/plain": [
       "'Agra'"
      ]
     },
     "execution_count": 25,
     "metadata": {},
     "output_type": "execute_result"
    }
   ],
   "source": [
    "d4['student3'].pop('city')"
   ]
  },
  {
   "cell_type": "code",
   "execution_count": 26,
   "id": "757c0e13-0a9c-49df-9454-12235b14f9c5",
   "metadata": {},
   "outputs": [
    {
     "data": {
      "text/plain": [
       "{'student1': {'name': 'xyz', 'city': 'Mumbai'},\n",
       " 'student2': {'name': 'pqr', 'city': 'Delhi'},\n",
       " 'student3': {'name': 'lmn'}}"
      ]
     },
     "execution_count": 26,
     "metadata": {},
     "output_type": "execute_result"
    }
   ],
   "source": [
    "d4"
   ]
  },
  {
   "cell_type": "code",
   "execution_count": 28,
   "id": "16a1f385-2efe-4376-9ab5-d8468900e2bd",
   "metadata": {},
   "outputs": [
    {
     "data": {
      "text/plain": [
       "('student3', {'name': 'lmn'})"
      ]
     },
     "execution_count": 28,
     "metadata": {},
     "output_type": "execute_result"
    }
   ],
   "source": [
    "d4.popitem()"
   ]
  },
  {
   "cell_type": "code",
   "execution_count": 29,
   "id": "686b3e15-448c-4512-9835-8f58c716bfbd",
   "metadata": {},
   "outputs": [
    {
     "data": {
      "text/plain": [
       "{'student1': {'name': 'xyz', 'city': 'Mumbai'},\n",
       " 'student2': {'name': 'pqr', 'city': 'Delhi'}}"
      ]
     },
     "execution_count": 29,
     "metadata": {},
     "output_type": "execute_result"
    }
   ],
   "source": [
    "d4"
   ]
  },
  {
   "cell_type": "code",
   "execution_count": 30,
   "id": "f1c019ee-f6ec-4a48-b2ce-c76a7b14fa9b",
   "metadata": {},
   "outputs": [
    {
     "data": {
      "text/plain": [
       "('city', 'Delhi')"
      ]
     },
     "execution_count": 30,
     "metadata": {},
     "output_type": "execute_result"
    }
   ],
   "source": [
    "d4['student2'].popitem()  #only last item will be remvd"
   ]
  },
  {
   "cell_type": "code",
   "execution_count": 31,
   "id": "4b4771c0-7640-48e4-be36-14e301c49a62",
   "metadata": {},
   "outputs": [
    {
     "data": {
      "text/plain": [
       "{'student1': {'name': 'xyz', 'city': 'Mumbai'}, 'student2': {'name': 'pqr'}}"
      ]
     },
     "execution_count": 31,
     "metadata": {},
     "output_type": "execute_result"
    }
   ],
   "source": [
    "d4"
   ]
  },
  {
   "cell_type": "markdown",
   "id": "1243fb91-5fcf-4715-9c5f-05d754c414e0",
   "metadata": {},
   "source": [
    "### 3) LIST"
   ]
  },
  {
   "cell_type": "markdown",
   "id": "f55f79b0-469e-4b0b-856e-f62fafc46f05",
   "metadata": {},
   "source": [
    ":: mutable\n",
    "\n",
    ":: seperates by ,\n",
    "\n",
    ":: stores multiple element inside [] bracket\n",
    "\n",
    ":: operation like insertion , deletion , sort can be performed \n",
    "\n",
    ":: list cn accpt mixed datatypes\n",
    "\n",
    ":: flexible dataset (allws to do anytng) \n",
    "\n",
    ":: slower"
   ]
  },
  {
   "cell_type": "code",
   "execution_count": 6,
   "id": "b30d04d5-1d22-46bf-9b43-568ecd0c0ee4",
   "metadata": {},
   "outputs": [
    {
     "data": {
      "text/plain": [
       "[]"
      ]
     },
     "execution_count": 6,
     "metadata": {},
     "output_type": "execute_result"
    }
   ],
   "source": [
    "list1=[] #empty list\n",
    "list1"
   ]
  },
  {
   "cell_type": "code",
   "execution_count": 7,
   "id": "4cb03351-2ffc-44a7-b296-38e976340687",
   "metadata": {},
   "outputs": [
    {
     "data": {
      "text/plain": [
       "list"
      ]
     },
     "execution_count": 7,
     "metadata": {},
     "output_type": "execute_result"
    }
   ],
   "source": [
    "type(list1)"
   ]
  },
  {
   "cell_type": "code",
   "execution_count": 8,
   "id": "081105d2-edb0-4d9f-a233-c4b19b6a8b98",
   "metadata": {},
   "outputs": [
    {
     "data": {
      "text/plain": [
       "[5, 1, 6, 12, 10]"
      ]
     },
     "execution_count": 8,
     "metadata": {},
     "output_type": "execute_result"
    }
   ],
   "source": [
    "list2=[5,1,6,12,10] #list contains int\n",
    "list2"
   ]
  },
  {
   "cell_type": "code",
   "execution_count": 9,
   "id": "66a8ced3-1167-42ca-b3e1-965579dee655",
   "metadata": {},
   "outputs": [
    {
     "data": {
      "text/plain": [
       "4"
      ]
     },
     "execution_count": 9,
     "metadata": {},
     "output_type": "execute_result"
    }
   ],
   "source": [
    "list3=[-1.2,2.5,2.8,4.2]\n",
    "len(list3)"
   ]
  },
  {
   "cell_type": "code",
   "execution_count": 29,
   "id": "880b3a04-91c3-4534-bf50-0d5fe15c3e45",
   "metadata": {},
   "outputs": [
    {
     "data": {
      "text/plain": [
       "['hi', 'hello', 'bye']"
      ]
     },
     "execution_count": 29,
     "metadata": {},
     "output_type": "execute_result"
    }
   ],
   "source": [
    "list4=[\"hi\",\"hello\",\"bye\"] # list of strings\n",
    "list4"
   ]
  },
  {
   "cell_type": "code",
   "execution_count": 11,
   "id": "dff6e914-6323-4657-9917-4257a87dd5b2",
   "metadata": {},
   "outputs": [
    {
     "data": {
      "text/plain": [
       "['hi', 1.2, -4, True]"
      ]
     },
     "execution_count": 11,
     "metadata": {},
     "output_type": "execute_result"
    }
   ],
   "source": [
    "list5=[\"hi\",1.2,-4,True] #list of mixed data\n",
    "list5"
   ]
  },
  {
   "cell_type": "code",
   "execution_count": 12,
   "id": "b427531c-5213-4d7d-94e6-155bc0d6386c",
   "metadata": {},
   "outputs": [
    {
     "data": {
      "text/plain": [
       "[3, 4, [12, 5], 7, 8, [3, 2, 10, 'hi']]"
      ]
     },
     "execution_count": 12,
     "metadata": {},
     "output_type": "execute_result"
    }
   ],
   "source": [
    "#nested list(one inside another)\n",
    "list6=[3,4,[12,5],7,8,[3,2,10,\"hi\"]]  #list inside list -- nested list\n",
    "list6"
   ]
  },
  {
   "cell_type": "code",
   "execution_count": 13,
   "id": "45eb3666-0036-4789-9077-bfa8b6568393",
   "metadata": {},
   "outputs": [
    {
     "data": {
      "text/plain": [
       "6"
      ]
     },
     "execution_count": 13,
     "metadata": {},
     "output_type": "execute_result"
    }
   ],
   "source": [
    "len(list6)"
   ]
  },
  {
   "cell_type": "markdown",
   "id": "f76cc256-f746-4b46-8c3f-e19546c79de6",
   "metadata": {},
   "source": [
    "#### LIST INDEXING"
   ]
  },
  {
   "cell_type": "code",
   "execution_count": 14,
   "id": "c7a2bc68-a9f9-4d95-8b6e-371f1587cc14",
   "metadata": {},
   "outputs": [
    {
     "data": {
      "text/plain": [
       "[-1.2, 2.5, 2.8, 4.2]"
      ]
     },
     "execution_count": 14,
     "metadata": {},
     "output_type": "execute_result"
    }
   ],
   "source": [
    "list3"
   ]
  },
  {
   "cell_type": "code",
   "execution_count": 15,
   "id": "92b3082e-2a6c-4e89-b0a0-1cf7755b530d",
   "metadata": {},
   "outputs": [
    {
     "data": {
      "text/plain": [
       "2.8"
      ]
     },
     "execution_count": 15,
     "metadata": {},
     "output_type": "execute_result"
    }
   ],
   "source": [
    "list3[2]"
   ]
  },
  {
   "cell_type": "code",
   "execution_count": 16,
   "id": "93b45b20-03c2-4d67-8571-cf637ae1a3dc",
   "metadata": {},
   "outputs": [
    {
     "data": {
      "text/plain": [
       "4.2"
      ]
     },
     "execution_count": 16,
     "metadata": {},
     "output_type": "execute_result"
    }
   ],
   "source": [
    "list3[-1]"
   ]
  },
  {
   "cell_type": "code",
   "execution_count": 17,
   "id": "721136ac-1ef7-4db4-9ca2-03c10ef6e802",
   "metadata": {},
   "outputs": [
    {
     "data": {
      "text/plain": [
       "[3, 4, [12, 5], 7, 8, [3, 2, 10, 'hi']]"
      ]
     },
     "execution_count": 17,
     "metadata": {},
     "output_type": "execute_result"
    }
   ],
   "source": [
    "list6"
   ]
  },
  {
   "cell_type": "code",
   "execution_count": 18,
   "id": "a9087cae-b001-4863-8a18-f8b7138fe6ae",
   "metadata": {},
   "outputs": [
    {
     "data": {
      "text/plain": [
       "12"
      ]
     },
     "execution_count": 18,
     "metadata": {},
     "output_type": "execute_result"
    }
   ],
   "source": [
    "list6[2][0]"
   ]
  },
  {
   "cell_type": "code",
   "execution_count": 20,
   "id": "9d4aebc3-b3de-413d-9e11-6936e8f5082a",
   "metadata": {},
   "outputs": [
    {
     "name": "stdout",
     "output_type": "stream",
     "text": [
      "12 10\n"
     ]
    }
   ],
   "source": [
    "print(list6[2][0],list6[5][2])"
   ]
  },
  {
   "cell_type": "code",
   "execution_count": 21,
   "id": "b1e81983-9cd2-4740-bc09-5700470b9054",
   "metadata": {},
   "outputs": [
    {
     "data": {
      "text/plain": [
       "10"
      ]
     },
     "execution_count": 21,
     "metadata": {},
     "output_type": "execute_result"
    }
   ],
   "source": [
    "list6[5][2]"
   ]
  },
  {
   "cell_type": "markdown",
   "id": "d2d514df-9440-46c7-a1e0-9eccdecf4b4b",
   "metadata": {},
   "source": [
    "#### LIST SLICING"
   ]
  },
  {
   "cell_type": "code",
   "execution_count": 22,
   "id": "b96babb7-292e-4107-8058-578c77b8b2e0",
   "metadata": {
    "jp-MarkdownHeadingCollapsed": true
   },
   "outputs": [
    {
     "data": {
      "text/plain": [
       "[-1.2, 2.5, 2.8, 4.2]"
      ]
     },
     "execution_count": 22,
     "metadata": {},
     "output_type": "execute_result"
    }
   ],
   "source": [
    "list3"
   ]
  },
  {
   "cell_type": "code",
   "execution_count": 23,
   "id": "7080c405-2110-4da9-8bc6-6a8da1ba26d1",
   "metadata": {},
   "outputs": [
    {
     "data": {
      "text/plain": [
       "[2.8, 4.2]"
      ]
     },
     "execution_count": 23,
     "metadata": {},
     "output_type": "execute_result"
    }
   ],
   "source": [
    "list3[2:]"
   ]
  },
  {
   "cell_type": "code",
   "execution_count": 24,
   "id": "a1e99f23-d42d-4015-8b64-66eae0a17520",
   "metadata": {},
   "outputs": [
    {
     "data": {
      "text/plain": [
       "[-1.2, 2.8]"
      ]
     },
     "execution_count": 24,
     "metadata": {},
     "output_type": "execute_result"
    }
   ],
   "source": [
    "list3[0:5:2]"
   ]
  },
  {
   "cell_type": "markdown",
   "id": "fa8b6398-30fb-4023-99b9-a8110dda15d1",
   "metadata": {},
   "source": [
    "#### BUILT IN FUNCTIONS ON LIST"
   ]
  },
  {
   "cell_type": "code",
   "execution_count": 25,
   "id": "a0e7806e-9734-4158-93c1-edf3f464b2c6",
   "metadata": {},
   "outputs": [
    {
     "data": {
      "text/plain": [
       "['hi', 'hello', 'bye']"
      ]
     },
     "execution_count": 25,
     "metadata": {},
     "output_type": "execute_result"
    }
   ],
   "source": [
    "#Update an element in list\n",
    "list4"
   ]
  },
  {
   "cell_type": "code",
   "execution_count": 27,
   "id": "8bcd525a-c83b-4ab9-998c-d662a6de25d4",
   "metadata": {},
   "outputs": [
    {
     "data": {
      "text/plain": [
       "['hi', 'hello', 'welcome']"
      ]
     },
     "execution_count": 27,
     "metadata": {},
     "output_type": "execute_result"
    }
   ],
   "source": [
    "list4[2]=\"welcome\"  #replacing bye to welcome\n",
    "list4  "
   ]
  },
  {
   "cell_type": "code",
   "execution_count": 30,
   "id": "13172035-add2-49a1-bd6d-a5dd8cbe9f0c",
   "metadata": {},
   "outputs": [
    {
     "data": {
      "text/plain": [
       "['heloo', 'bye', 9, 1.3]"
      ]
     },
     "execution_count": 30,
     "metadata": {},
     "output_type": "execute_result"
    }
   ],
   "source": [
    "list9=[\"heloo\",\"bye\",1.2,890]\n",
    "list9[3]=1.3\n",
    "list9[2]=9\n",
    "list9"
   ]
  },
  {
   "cell_type": "code",
   "execution_count": 31,
   "id": "56c61f21-9a99-40dc-a32a-34a5ebdc1887",
   "metadata": {},
   "outputs": [
    {
     "data": {
      "text/plain": [
       "['hi', 'thanks', 'welcome']"
      ]
     },
     "execution_count": 31,
     "metadata": {},
     "output_type": "execute_result"
    }
   ],
   "source": [
    "list4[2],list4[1]=\"welcome\",\"thanks\"\n",
    "list4"
   ]
  },
  {
   "cell_type": "markdown",
   "id": "6c55d0eb-d050-45e4-9b2b-fcf1db382575",
   "metadata": {},
   "source": [
    "#### --->APPEND"
   ]
  },
  {
   "cell_type": "markdown",
   "id": "a5bd4ba4-a8e6-46ac-b842-dd6ac4fce423",
   "metadata": {},
   "source": [
    "ADDS A NEW ELEMENT AT THE END OF THE LIST "
   ]
  },
  {
   "cell_type": "code",
   "execution_count": 32,
   "id": "01e1f359-1680-4f19-a02b-61ccc86855c4",
   "metadata": {
    "jp-MarkdownHeadingCollapsed": true
   },
   "outputs": [
    {
     "data": {
      "text/plain": [
       "['hi', 'thanks', 'welcome', 'good']"
      ]
     },
     "execution_count": 32,
     "metadata": {},
     "output_type": "execute_result"
    }
   ],
   "source": [
    "list4.append(\"good\")\n",
    "list4"
   ]
  },
  {
   "cell_type": "markdown",
   "id": "35c0d798-e65d-44d7-9273-91ea6787dc02",
   "metadata": {},
   "source": [
    "#### --->EXTEND"
   ]
  },
  {
   "cell_type": "markdown",
   "id": "19750cfd-5fc7-4913-a65b-8aa61ed6803f",
   "metadata": {},
   "source": [
    "ADDS MULTIPLE ELEMENTS TOGETHER AT THE END OF THE LIST"
   ]
  },
  {
   "cell_type": "code",
   "execution_count": 33,
   "id": "1449bd9b-6f8c-4b5c-823c-1d1390370d99",
   "metadata": {
    "jp-MarkdownHeadingCollapsed": true
   },
   "outputs": [
    {
     "data": {
      "text/plain": [
       "['hi', 'thanks', 'welcome', 'good', 5, 3, 12, 2, 6]"
      ]
     },
     "execution_count": 33,
     "metadata": {},
     "output_type": "execute_result"
    }
   ],
   "source": [
    "list4.extend([5,3,12,2,6])\n",
    "list4"
   ]
  },
  {
   "cell_type": "markdown",
   "id": "67b5148b-b8f7-4a3b-bf8d-7fd8df530b79",
   "metadata": {},
   "source": [
    "#### ---> INSERT"
   ]
  },
  {
   "cell_type": "markdown",
   "id": "159a9b0b-99d8-49b3-9605-e28f9e02c65a",
   "metadata": {},
   "source": [
    "ADDS A NEW ELEMENT AT THE PARTICULAR INDEX LOCATION\n",
    "\n",
    "insert(index,value)"
   ]
  },
  {
   "cell_type": "code",
   "execution_count": 35,
   "id": "4f4bb416-70d0-4de4-a933-360b438bb1cd",
   "metadata": {
    "jp-MarkdownHeadingCollapsed": true
   },
   "outputs": [
    {
     "data": {
      "text/plain": [
       "['hi', 'thanks', 'welcome', 'good', 'morning', 'morning', 5, 3, 12, 2, 6]"
      ]
     },
     "execution_count": 35,
     "metadata": {},
     "output_type": "execute_result"
    }
   ],
   "source": [
    "list4.insert(4,\"morning\")\n",
    "list4"
   ]
  },
  {
   "cell_type": "markdown",
   "id": "34518665-b7b8-40e2-b1ae-52a4eb228623",
   "metadata": {},
   "source": [
    "#### --->POP"
   ]
  },
  {
   "cell_type": "code",
   "execution_count": 36,
   "id": "287493fe-0cc6-4d12-be56-28dfbaf27e93",
   "metadata": {
    "jp-MarkdownHeadingCollapsed": true
   },
   "outputs": [
    {
     "data": {
      "text/plain": [
       "['hi', 'thanks', 'good', 'morning', 'morning', 5, 3, 12, 2, 6]"
      ]
     },
     "execution_count": 36,
     "metadata": {},
     "output_type": "execute_result"
    }
   ],
   "source": [
    "#removes last element by default or particular element\n",
    "list4.pop(2)\n",
    "list4"
   ]
  },
  {
   "cell_type": "markdown",
   "id": "91270ed4-0006-4b1e-93b9-8077909d291e",
   "metadata": {},
   "source": [
    "#### --->REMOVE\n"
   ]
  },
  {
   "cell_type": "code",
   "execution_count": 38,
   "id": "d3f5656f-47fb-46c0-be4d-5745ab50876d",
   "metadata": {
    "jp-MarkdownHeadingCollapsed": true
   },
   "outputs": [
    {
     "data": {
      "text/plain": [
       "['hi', 'thanks', 'morning', 'morning', 5, 3, 12, 2, 6]"
      ]
     },
     "execution_count": 38,
     "metadata": {},
     "output_type": "execute_result"
    }
   ],
   "source": [
    "list4.remove(\"good\")\n",
    "list4\n"
   ]
  },
  {
   "cell_type": "code",
   "execution_count": 53,
   "id": "7709c06a-a694-4225-81e4-e878a151dce9",
   "metadata": {
    "jp-MarkdownHeadingCollapsed": true
   },
   "outputs": [
    {
     "data": {
      "text/plain": [
       "['hi', 'thanks', 'morning', 5, 3, 12]"
      ]
     },
     "execution_count": 53,
     "metadata": {},
     "output_type": "execute_result"
    }
   ],
   "source": [
    "list4=['hi','thanks','morning','good',5,3,12]\n",
    "list4.remove(\"good\")\n",
    "list4\n"
   ]
  },
  {
   "cell_type": "code",
   "execution_count": 58,
   "id": "cba7e716-4d4d-46ce-a4b9-355715a787cc",
   "metadata": {
    "jp-MarkdownHeadingCollapsed": true
   },
   "outputs": [
    {
     "data": {
      "text/plain": [
       "['hi', 'thanks', 'morning', 5, 3, 12]"
      ]
     },
     "execution_count": 58,
     "metadata": {},
     "output_type": "execute_result"
    }
   ],
   "source": [
    "list4=['hi','thanks','morning','good',5,3,12]\n",
    "del list4[3]\n",
    "list4"
   ]
  },
  {
   "cell_type": "markdown",
   "id": "2810df24-ec07-492f-8011-1605e6982ee4",
   "metadata": {},
   "source": [
    "#### --->CLEAR"
   ]
  },
  {
   "cell_type": "markdown",
   "id": "0dc44c0b-7c3c-48b5-9373-c36879effb9a",
   "metadata": {},
   "source": [
    "clear all the elemts in list making it empty"
   ]
  },
  {
   "cell_type": "code",
   "execution_count": 44,
   "id": "e7014d18-f02b-4b6f-91ee-eac542f6d3a9",
   "metadata": {
    "jp-MarkdownHeadingCollapsed": true
   },
   "outputs": [
    {
     "data": {
      "text/plain": [
       "[]"
      ]
     },
     "execution_count": 44,
     "metadata": {},
     "output_type": "execute_result"
    }
   ],
   "source": [
    "list4.clear()\n",
    "list4"
   ]
  },
  {
   "cell_type": "code",
   "execution_count": 47,
   "id": "63d3efba-e030-4682-8d6b-f5036a90b510",
   "metadata": {
    "jp-MarkdownHeadingCollapsed": true
   },
   "outputs": [
    {
     "data": {
      "text/plain": [
       "[2.8, 2.5, -1.2]"
      ]
     },
     "execution_count": 47,
     "metadata": {},
     "output_type": "execute_result"
    }
   ],
   "source": [
    "list3.reverse()\n",
    "list3"
   ]
  },
  {
   "cell_type": "code",
   "execution_count": 48,
   "id": "ad564c3f-dd8b-4809-b501-585ec99e969f",
   "metadata": {
    "jp-MarkdownHeadingCollapsed": true
   },
   "outputs": [
    {
     "data": {
      "text/plain": [
       "[-1.2, 2.5, 2.8]"
      ]
     },
     "execution_count": 48,
     "metadata": {},
     "output_type": "execute_result"
    }
   ],
   "source": [
    "list3.sort() #ascending order\n",
    "list3"
   ]
  },
  {
   "cell_type": "code",
   "execution_count": 49,
   "id": "946637d8-b8ad-4af2-bbdb-a94e67e1bd51",
   "metadata": {
    "jp-MarkdownHeadingCollapsed": true
   },
   "outputs": [
    {
     "data": {
      "text/plain": [
       "[2.8, 2.5, -1.2]"
      ]
     },
     "execution_count": 49,
     "metadata": {},
     "output_type": "execute_result"
    }
   ],
   "source": [
    "list3.sort(reverse=True) #descending order\n",
    "list3"
   ]
  },
  {
   "cell_type": "code",
   "execution_count": 50,
   "id": "6e843575-4d30-4b58-91f9-9c53609ebce5",
   "metadata": {
    "jp-MarkdownHeadingCollapsed": true
   },
   "outputs": [
    {
     "data": {
      "text/plain": [
       "['hi', 1.2, -4, True]"
      ]
     },
     "execution_count": 50,
     "metadata": {},
     "output_type": "execute_result"
    }
   ],
   "source": [
    "list5"
   ]
  },
  {
   "cell_type": "code",
   "execution_count": 51,
   "id": "b581b73a-811c-4b63-9a1d-ef09b733804b",
   "metadata": {
    "jp-MarkdownHeadingCollapsed": true
   },
   "outputs": [
    {
     "ename": "TypeError",
     "evalue": "'<' not supported between instances of 'float' and 'str'",
     "output_type": "error",
     "traceback": [
      "\u001b[1;31m---------------------------------------------------------------------------\u001b[0m",
      "\u001b[1;31mTypeError\u001b[0m                                 Traceback (most recent call last)",
      "Cell \u001b[1;32mIn[51], line 1\u001b[0m\n\u001b[1;32m----> 1\u001b[0m \u001b[43mlist5\u001b[49m\u001b[38;5;241;43m.\u001b[39;49m\u001b[43msort\u001b[49m\u001b[43m(\u001b[49m\u001b[43m)\u001b[49m \u001b[38;5;66;03m#sorting is not possible on mixed data\u001b[39;00m\n",
      "\u001b[1;31mTypeError\u001b[0m: '<' not supported between instances of 'float' and 'str'"
     ]
    }
   ],
   "source": [
    "list5.sort() #sorting is not possible on mixed data"
   ]
  },
  {
   "cell_type": "code",
   "execution_count": 52,
   "id": "cea030ae-43a1-42f2-82ff-3265e9e0be83",
   "metadata": {
    "jp-MarkdownHeadingCollapsed": true
   },
   "outputs": [
    {
     "data": {
      "text/plain": [
       "['bye', 'hello', 'hi', 'thanks']"
      ]
     },
     "execution_count": 52,
     "metadata": {},
     "output_type": "execute_result"
    }
   ],
   "source": [
    "list7=[\"hello\",\"bye\",\"thanks\",\"hi\"]\n",
    "list7.sort()\n",
    "list7"
   ]
  },
  {
   "cell_type": "markdown",
   "id": "e9f8c1df-c8fd-40e8-af06-025a7a95456f",
   "metadata": {},
   "source": [
    "#### JOING LISTS"
   ]
  },
  {
   "cell_type": "code",
   "execution_count": 6,
   "id": "143c31fe-24ab-4cc9-afa1-aef113629fbe",
   "metadata": {},
   "outputs": [
    {
     "data": {
      "text/plain": [
       "[1, 2, 3, 4, 6, 8, 9]"
      ]
     },
     "execution_count": 6,
     "metadata": {},
     "output_type": "execute_result"
    }
   ],
   "source": [
    "list2=[1,2,3,4]\n",
    "list3=[6,8,9]\n",
    "listx=list2+list3\n",
    "listx"
   ]
  },
  {
   "cell_type": "code",
   "execution_count": 7,
   "id": "302c8f05-5b5c-4e76-8055-c785cd22309f",
   "metadata": {},
   "outputs": [
    {
     "data": {
      "text/plain": [
       "[1, 2, 3, 4, 6, 8, 9]"
      ]
     },
     "execution_count": 7,
     "metadata": {},
     "output_type": "execute_result"
    }
   ],
   "source": [
    "list2.extend(list3)\n",
    "list2"
   ]
  },
  {
   "cell_type": "markdown",
   "id": "76dcd0b3-80ef-4814-92ee-84e84ca31956",
   "metadata": {},
   "source": [
    "#### LIST MEMBERSHIP"
   ]
  },
  {
   "cell_type": "code",
   "execution_count": 57,
   "id": "203ebc4a-28f4-40e1-8bff-8722bc688f42",
   "metadata": {},
   "outputs": [
    {
     "data": {
      "text/plain": [
       "[2.8, 2.5, -1.2]"
      ]
     },
     "execution_count": 57,
     "metadata": {},
     "output_type": "execute_result"
    }
   ],
   "source": [
    "list3"
   ]
  },
  {
   "cell_type": "code",
   "execution_count": 58,
   "id": "ab9899ad-87c2-4b65-a830-90b8d5a2aaf7",
   "metadata": {},
   "outputs": [
    {
     "data": {
      "text/plain": [
       "True"
      ]
     },
     "execution_count": 58,
     "metadata": {},
     "output_type": "execute_result"
    }
   ],
   "source": [
    "-1.2 in list3"
   ]
  },
  {
   "cell_type": "code",
   "execution_count": 59,
   "id": "2c8b80dd-d5e7-47a4-99b3-6942bc18040a",
   "metadata": {},
   "outputs": [
    {
     "data": {
      "text/plain": [
       "True"
      ]
     },
     "execution_count": 59,
     "metadata": {},
     "output_type": "execute_result"
    }
   ],
   "source": [
    "5 not in list3"
   ]
  },
  {
   "cell_type": "code",
   "execution_count": 60,
   "id": "b3a17535-f709-42f3-9953-da8eb4a806b4",
   "metadata": {},
   "outputs": [
    {
     "data": {
      "text/plain": [
       "False"
      ]
     },
     "execution_count": 60,
     "metadata": {},
     "output_type": "execute_result"
    }
   ],
   "source": [
    "\"hello\" in list3"
   ]
  },
  {
   "cell_type": "code",
   "execution_count": 66,
   "id": "6e74435e-3db3-4830-870e-fa8280b47830",
   "metadata": {},
   "outputs": [
    {
     "name": "stdin",
     "output_type": "stream",
     "text": [
      "enter the character: a\n"
     ]
    },
    {
     "name": "stdout",
     "output_type": "stream",
     "text": [
      "vowels\n"
     ]
    }
   ],
   "source": [
    "list1=['a','e','i','o','u']\n",
    "character=input(\"enter the character:\")\n",
    "if character in list1:\n",
    "    print(\"vowels\")\n",
    "else:\n",
    "    print(\"not a vowel\")"
   ]
  },
  {
   "cell_type": "markdown",
   "id": "56e186de-e5e2-446b-bcc1-708053c44b25",
   "metadata": {},
   "source": [
    "#### ALL() and ANY()"
   ]
  },
  {
   "cell_type": "markdown",
   "id": "fbb80bad-56e0-43c7-a7c4-795e54318fd5",
   "metadata": {},
   "source": [
    "all() --- returns true if all element are true\n",
    "\n",
    "any() -- returns true if atleast one element is true"
   ]
  },
  {
   "cell_type": "code",
   "execution_count": 68,
   "id": "f5e8346d-2f39-4e14-8cec-9f22a48d70d1",
   "metadata": {},
   "outputs": [
    {
     "data": {
      "text/plain": [
       "False"
      ]
     },
     "execution_count": 68,
     "metadata": {},
     "output_type": "execute_result"
    }
   ],
   "source": [
    "x=[-2,4,8,\"hello\",0] # 0 is false so \n",
    "all(x)"
   ]
  },
  {
   "cell_type": "code",
   "execution_count": 70,
   "id": "3a37dab4-cbdf-4ff2-9a45-c2bdc0338e4b",
   "metadata": {},
   "outputs": [
    {
     "data": {
      "text/plain": [
       "True"
      ]
     },
     "execution_count": 70,
     "metadata": {},
     "output_type": "execute_result"
    }
   ],
   "source": [
    "any(x)  #atlst one true so it is true"
   ]
  },
  {
   "cell_type": "markdown",
   "id": "92378455-c32d-48d6-accb-356abd23e520",
   "metadata": {},
   "source": [
    "## 4) Sets"
   ]
  },
  {
   "cell_type": "markdown",
   "id": "a2718313-5c1b-43c6-8ca5-19e09c531dce",
   "metadata": {},
   "source": [
    ":: collection of items where duplicates are avoided\n",
    "\n",
    ":: cannot perform indexing on set\n",
    "\n",
    ":: mutable\n",
    "\n",
    ":: elements are inside {} brackets\n",
    "\n",
    ":: indexing is nt supported"
   ]
  },
  {
   "cell_type": "code",
   "execution_count": 19,
   "id": "07a6aa2a-54ff-4ce8-99f0-00531f2171ec",
   "metadata": {},
   "outputs": [
    {
     "data": {
      "text/plain": [
       "{1, 2, 3, 4, 9}"
      ]
     },
     "execution_count": 19,
     "metadata": {},
     "output_type": "execute_result"
    }
   ],
   "source": [
    "s1={2,4,3,1,2,3,9}\n",
    "s1"
   ]
  },
  {
   "cell_type": "code",
   "execution_count": 31,
   "id": "8ba1e958-bb73-4491-881d-bded1714c98a",
   "metadata": {},
   "outputs": [
    {
     "data": {
      "text/plain": [
       "{}"
      ]
     },
     "execution_count": 31,
     "metadata": {},
     "output_type": "execute_result"
    }
   ],
   "source": [
    "set1={} #empty set\n",
    "set1"
   ]
  },
  {
   "cell_type": "code",
   "execution_count": 32,
   "id": "af01bcc5-98b4-4973-9434-4598825e7e15",
   "metadata": {},
   "outputs": [
    {
     "data": {
      "text/plain": [
       "dict"
      ]
     },
     "execution_count": 32,
     "metadata": {},
     "output_type": "execute_result"
    }
   ],
   "source": [
    "type(set1)  #v cnt create empty set using {} because it ll tell it is dictionary"
   ]
  },
  {
   "cell_type": "code",
   "execution_count": 40,
   "id": "b1043718-ef3d-4ea1-8657-e164e37bd4e2",
   "metadata": {},
   "outputs": [
    {
     "data": {
      "text/plain": [
       "{1, 2, 3, 7}"
      ]
     },
     "execution_count": 40,
     "metadata": {},
     "output_type": "execute_result"
    }
   ],
   "source": [
    "set2={3,2,1,3,1,3,7}   #set of int\n",
    "set2"
   ]
  },
  {
   "cell_type": "code",
   "execution_count": 35,
   "id": "c1425f26-11ca-43ca-ba36-a89a5ab78884",
   "metadata": {},
   "outputs": [
    {
     "data": {
      "text/plain": [
       "4"
      ]
     },
     "execution_count": 35,
     "metadata": {},
     "output_type": "execute_result"
    }
   ],
   "source": [
    "len(set2)"
   ]
  },
  {
   "cell_type": "code",
   "execution_count": 39,
   "id": "b2c9cef9-3e3b-4565-b4ea-9b4e4ce92186",
   "metadata": {},
   "outputs": [
    {
     "data": {
      "text/plain": [
       "{'bob', 'hello', 'john', 'tony'}"
      ]
     },
     "execution_count": 39,
     "metadata": {},
     "output_type": "execute_result"
    }
   ],
   "source": [
    "set3={\"hello\",\"bob\",\"john\",\"tony\"} #set of strings\n",
    "set3"
   ]
  },
  {
   "cell_type": "code",
   "execution_count": 38,
   "id": "bd36d45d-41ca-4a77-a3ee-5e5926adb41c",
   "metadata": {},
   "outputs": [
    {
     "data": {
      "text/plain": [
       "{(2, 4, 5), 1.3, True, 'hello'}"
      ]
     },
     "execution_count": 38,
     "metadata": {},
     "output_type": "execute_result"
    }
   ],
   "source": [
    "set4={\"hello\",True,1.3,(2,4,5)} #set of mixed strings\n",
    "set4        # set will acpt mixed data itms but cnt sort "
   ]
  },
  {
   "cell_type": "markdown",
   "id": "cd0a9c2e-84ea-4ebf-b9a2-6cec14574595",
   "metadata": {},
   "source": [
    "## set membership"
   ]
  },
  {
   "cell_type": "code",
   "execution_count": 41,
   "id": "d5b4e77f-3475-4732-b137-bee29496653c",
   "metadata": {},
   "outputs": [
    {
     "data": {
      "text/plain": [
       "{'bob', 'hello', 'john', 'tony'}"
      ]
     },
     "execution_count": 41,
     "metadata": {},
     "output_type": "execute_result"
    }
   ],
   "source": [
    "set3"
   ]
  },
  {
   "cell_type": "code",
   "execution_count": 42,
   "id": "1e89c128-2028-43ba-9b0d-2182f945f5fb",
   "metadata": {},
   "outputs": [
    {
     "data": {
      "text/plain": [
       "True"
      ]
     },
     "execution_count": 42,
     "metadata": {},
     "output_type": "execute_result"
    }
   ],
   "source": [
    "4 not in set3"
   ]
  },
  {
   "cell_type": "code",
   "execution_count": 43,
   "id": "16923a2f-988e-4eb9-9355-3f3bb3872764",
   "metadata": {},
   "outputs": [
    {
     "data": {
      "text/plain": [
       "True"
      ]
     },
     "execution_count": 43,
     "metadata": {},
     "output_type": "execute_result"
    }
   ],
   "source": [
    "'hello' in set3"
   ]
  },
  {
   "cell_type": "markdown",
   "id": "199ec42b-0d47-469d-844e-32d890cb4c88",
   "metadata": {},
   "source": [
    "### Built In Function On Set"
   ]
  },
  {
   "cell_type": "markdown",
   "id": "d14b0265-e5b5-467a-9fda-be99ead29d1f",
   "metadata": {},
   "source": [
    "### add() "
   ]
  },
  {
   "cell_type": "markdown",
   "id": "2a55fda4-1aef-487c-8939-f19101418816",
   "metadata": {},
   "source": [
    "adds a new element to set"
   ]
  },
  {
   "cell_type": "code",
   "execution_count": 45,
   "id": "89156cb5-041d-4f39-b52f-189931938e4d",
   "metadata": {},
   "outputs": [
    {
     "data": {
      "text/plain": [
       "{'bob', 'hello', 'john', 'tony'}"
      ]
     },
     "execution_count": 45,
     "metadata": {},
     "output_type": "execute_result"
    }
   ],
   "source": [
    "set3"
   ]
  },
  {
   "cell_type": "code",
   "execution_count": 46,
   "id": "c6addb14-7fb0-4043-8fcb-c2f12b7098f0",
   "metadata": {},
   "outputs": [
    {
     "data": {
      "text/plain": [
       "{'bob', 'hello', 'john', 'thanks', 'tony'}"
      ]
     },
     "execution_count": 46,
     "metadata": {},
     "output_type": "execute_result"
    }
   ],
   "source": [
    "set3.add(\"thanks\")\n",
    "set3"
   ]
  },
  {
   "cell_type": "markdown",
   "id": "45938c80-0f22-4888-b1a0-931bd9d8af0d",
   "metadata": {},
   "source": [
    "### update()"
   ]
  },
  {
   "cell_type": "markdown",
   "id": "690271e5-9b43-4fe2-b2d6-8c7dd5e3b256",
   "metadata": {},
   "source": [
    "adds multiple elements to sset"
   ]
  },
  {
   "cell_type": "code",
   "execution_count": 48,
   "id": "090bc6b6-7ebf-4adf-9cff-3b9a057d31ae",
   "metadata": {},
   "outputs": [
    {
     "data": {
      "text/plain": [
       "{-1.2, 2, 5, 'bob', 'hello', 'hi', 'john', 'thanks', 'tony'}"
      ]
     },
     "execution_count": 48,
     "metadata": {},
     "output_type": "execute_result"
    }
   ],
   "source": [
    "set3.update([2,-1.2,5,\"hi\"])\n",
    "set3"
   ]
  },
  {
   "cell_type": "markdown",
   "id": "ffcd57be-d622-46c4-89be-8913797e1773",
   "metadata": {},
   "source": [
    "### remove()"
   ]
  },
  {
   "cell_type": "markdown",
   "id": "cf335c36-3577-4a3d-9297-2f8085d0edcc",
   "metadata": {},
   "source": [
    "removes particular element frm the set"
   ]
  },
  {
   "cell_type": "code",
   "execution_count": 50,
   "id": "a42f1a83-04cc-4a39-9909-a0962f7ce4d5",
   "metadata": {},
   "outputs": [
    {
     "data": {
      "text/plain": [
       "{-1.2, 2, 5, 'bob', 'hello', 'john', 'thanks', 'tony'}"
      ]
     },
     "execution_count": 50,
     "metadata": {},
     "output_type": "execute_result"
    }
   ],
   "source": [
    "set3.remove(\"hi\")\n",
    "set3"
   ]
  },
  {
   "cell_type": "markdown",
   "id": "75da3162-68b5-4ac5-8619-ee2b5d02fa62",
   "metadata": {},
   "source": [
    "### discard()"
   ]
  },
  {
   "cell_type": "markdown",
   "id": "b2b6f289-6bc6-4b1f-927b-8c01b76852ee",
   "metadata": {},
   "source": [
    "remove a particular element frm set \n",
    "\n",
    "remove and discard same"
   ]
  },
  {
   "cell_type": "code",
   "execution_count": 52,
   "id": "458c081b-4055-412c-bb9a-fdcc91e151b7",
   "metadata": {},
   "outputs": [
    {
     "data": {
      "text/plain": [
       "{2, 5, 'bob', 'hello', 'john', 'thanks', 'tony'}"
      ]
     },
     "execution_count": 52,
     "metadata": {},
     "output_type": "execute_result"
    }
   ],
   "source": [
    "set3.discard(-1.2)\n",
    "set3"
   ]
  },
  {
   "cell_type": "code",
   "execution_count": 53,
   "id": "ea17aa41-7132-4692-a0b6-304187fa45c2",
   "metadata": {},
   "outputs": [
    {
     "ename": "TypeError",
     "evalue": "'set' object doesn't support item deletion",
     "output_type": "error",
     "traceback": [
      "\u001b[1;31m---------------------------------------------------------------------------\u001b[0m",
      "\u001b[1;31mTypeError\u001b[0m                                 Traceback (most recent call last)",
      "Cell \u001b[1;32mIn[53], line 1\u001b[0m\n\u001b[1;32m----> 1\u001b[0m \u001b[38;5;28;01mdel\u001b[39;00m \u001b[43mset3\u001b[49m\u001b[43m[\u001b[49m\u001b[38;5;241;43m3\u001b[39;49m\u001b[43m]\u001b[49m \u001b[38;5;66;03m# we cnt delete ,set doesnt support indexing so v use remove or discard \u001b[39;00m\n",
      "\u001b[1;31mTypeError\u001b[0m: 'set' object doesn't support item deletion"
     ]
    }
   ],
   "source": [
    "del set3[3] # we cnt delete ,set doesnt support indexing so v use remove or discard "
   ]
  },
  {
   "cell_type": "markdown",
   "id": "9c50992e-3b2b-4f0d-b8f8-fee6899a2af4",
   "metadata": {},
   "source": [
    "### clear()"
   ]
  },
  {
   "cell_type": "code",
   "execution_count": 54,
   "id": "aa988711-3870-45dd-9488-74dfe1cd633e",
   "metadata": {},
   "outputs": [
    {
     "data": {
      "text/plain": [
       "set()"
      ]
     },
     "execution_count": 54,
     "metadata": {},
     "output_type": "execute_result"
    }
   ],
   "source": [
    "set3.clear() # clears element on the set\n",
    "set3"
   ]
  },
  {
   "cell_type": "code",
   "execution_count": 55,
   "id": "334591e2-bba6-432e-a4c8-a9f8f2e8b4ff",
   "metadata": {},
   "outputs": [],
   "source": [
    "del set3   #deletes set"
   ]
  },
  {
   "cell_type": "code",
   "execution_count": 56,
   "id": "5c1a8e7f-57ce-4138-8269-425e2879afdc",
   "metadata": {},
   "outputs": [
    {
     "ename": "NameError",
     "evalue": "name 'set3' is not defined",
     "output_type": "error",
     "traceback": [
      "\u001b[1;31m---------------------------------------------------------------------------\u001b[0m",
      "\u001b[1;31mNameError\u001b[0m                                 Traceback (most recent call last)",
      "Cell \u001b[1;32mIn[56], line 1\u001b[0m\n\u001b[1;32m----> 1\u001b[0m \u001b[43mset3\u001b[49m\n",
      "\u001b[1;31mNameError\u001b[0m: name 'set3' is not defined"
     ]
    }
   ],
   "source": [
    "set3"
   ]
  },
  {
   "cell_type": "markdown",
   "id": "f01ca1c5-2d83-436f-b65f-04ba29200e77",
   "metadata": {},
   "source": [
    "## Set Operations"
   ]
  },
  {
   "cell_type": "markdown",
   "id": "f45a752f-125f-4df4-8397-61e202ade625",
   "metadata": {},
   "source": [
    "#### :: union()   ---->   returns all elements frm both set  "
   ]
  },
  {
   "cell_type": "code",
   "execution_count": 69,
   "id": "cccf2135-f09e-4305-8f16-b1197e443293",
   "metadata": {},
   "outputs": [],
   "source": [
    "A={1,2,3,4,5}\n",
    "B={4,5,6,7,8}\n",
    "C={8,9,10}"
   ]
  },
  {
   "cell_type": "code",
   "execution_count": 70,
   "id": "c8368778-ae92-4e97-aef2-9f820e4aa457",
   "metadata": {},
   "outputs": [
    {
     "data": {
      "text/plain": [
       "{1, 2, 3, 4, 5, 6, 7, 8}"
      ]
     },
     "execution_count": 70,
     "metadata": {},
     "output_type": "execute_result"
    }
   ],
   "source": [
    "A.union(B)"
   ]
  },
  {
   "cell_type": "code",
   "execution_count": 71,
   "id": "814f411d-adab-47f9-b3da-c888880a6c93",
   "metadata": {},
   "outputs": [
    {
     "data": {
      "text/plain": [
       "{1, 2, 3, 4, 5, 6, 7, 8}"
      ]
     },
     "execution_count": 71,
     "metadata": {},
     "output_type": "execute_result"
    }
   ],
   "source": [
    "A|B"
   ]
  },
  {
   "cell_type": "code",
   "execution_count": 72,
   "id": "a6d93c1d-be0b-45e2-a851-f56394ad5244",
   "metadata": {},
   "outputs": [
    {
     "data": {
      "text/plain": [
       "{1, 2, 3, 4, 5, 6, 7, 8, 9, 10}"
      ]
     },
     "execution_count": 72,
     "metadata": {},
     "output_type": "execute_result"
    }
   ],
   "source": [
    "A.union(B,C)"
   ]
  },
  {
   "cell_type": "code",
   "execution_count": 73,
   "id": "1ff998b0-38d2-4c6b-89b4-42b1988aef29",
   "metadata": {},
   "outputs": [
    {
     "data": {
      "text/plain": [
       "{1, 2, 3, 4, 5, 6, 7, 8, 9, 10}"
      ]
     },
     "execution_count": 73,
     "metadata": {},
     "output_type": "execute_result"
    }
   ],
   "source": [
    "A|B|C"
   ]
  },
  {
   "cell_type": "markdown",
   "id": "1bfb199d-f2eb-482c-8568-25087bddb4e9",
   "metadata": {},
   "source": [
    "#### :: intersection()  ----> returns common element in both sets"
   ]
  },
  {
   "cell_type": "code",
   "execution_count": 66,
   "id": "7875f909-0015-44fe-8130-60d077b5c7ab",
   "metadata": {},
   "outputs": [
    {
     "data": {
      "text/plain": [
       "{4, 5}"
      ]
     },
     "execution_count": 66,
     "metadata": {},
     "output_type": "execute_result"
    }
   ],
   "source": [
    "A.intersection(B)"
   ]
  },
  {
   "cell_type": "code",
   "execution_count": 74,
   "id": "416f39ea-5048-49d4-829a-4f0a8fe7243b",
   "metadata": {},
   "outputs": [
    {
     "data": {
      "text/plain": [
       "{8}"
      ]
     },
     "execution_count": 74,
     "metadata": {},
     "output_type": "execute_result"
    }
   ],
   "source": [
    "B&C"
   ]
  },
  {
   "cell_type": "code",
   "execution_count": 77,
   "id": "d2557814-f8db-4fe8-a7bb-38fd6b70f064",
   "metadata": {},
   "outputs": [
    {
     "data": {
      "text/plain": [
       "set()"
      ]
     },
     "execution_count": 77,
     "metadata": {},
     "output_type": "execute_result"
    }
   ],
   "source": [
    "A&B&C"
   ]
  },
  {
   "cell_type": "markdown",
   "id": "cb053de3-732e-4352-ae1c-219c2aedf5ba",
   "metadata": {},
   "source": [
    "#### :: difference()  -----> returns all elements wch r present in first set but nt prsnt in second one "
   ]
  },
  {
   "cell_type": "code",
   "execution_count": 75,
   "id": "5b354e7d-ff26-4da1-9ba2-1773f8766ae5",
   "metadata": {},
   "outputs": [
    {
     "data": {
      "text/plain": [
       "{1, 2, 3}"
      ]
     },
     "execution_count": 75,
     "metadata": {},
     "output_type": "execute_result"
    }
   ],
   "source": [
    "A.difference(B,C)"
   ]
  },
  {
   "cell_type": "code",
   "execution_count": 76,
   "id": "435bdcf9-1756-40d4-a540-aac37fa290c6",
   "metadata": {},
   "outputs": [
    {
     "data": {
      "text/plain": [
       "{1, 2, 3}"
      ]
     },
     "execution_count": 76,
     "metadata": {},
     "output_type": "execute_result"
    }
   ],
   "source": [
    "A.difference(B)"
   ]
  },
  {
   "cell_type": "code",
   "execution_count": 78,
   "id": "d15fc77e-f6c1-4e09-82c8-ffa7265f1e12",
   "metadata": {},
   "outputs": [
    {
     "data": {
      "text/plain": [
       "{8, 9, 10}"
      ]
     },
     "execution_count": 78,
     "metadata": {},
     "output_type": "execute_result"
    }
   ],
   "source": [
    "C.difference(A)"
   ]
  },
  {
   "cell_type": "code",
   "execution_count": 79,
   "id": "73be93db-cd8c-4dfc-8ef5-47035a4313a5",
   "metadata": {},
   "outputs": [
    {
     "data": {
      "text/plain": [
       "{4, 5, 6, 7}"
      ]
     },
     "execution_count": 79,
     "metadata": {},
     "output_type": "execute_result"
    }
   ],
   "source": [
    "B-C"
   ]
  },
  {
   "cell_type": "code",
   "execution_count": 80,
   "id": "2a5148a8-e3f7-4d12-b677-099214e48338",
   "metadata": {},
   "outputs": [
    {
     "data": {
      "text/plain": [
       "{8, 9, 10}"
      ]
     },
     "execution_count": 80,
     "metadata": {},
     "output_type": "execute_result"
    }
   ],
   "source": [
    "C-A"
   ]
  },
  {
   "cell_type": "code",
   "execution_count": 81,
   "id": "f534d7f7-73fb-4942-b917-a7c3b682f59d",
   "metadata": {},
   "outputs": [
    {
     "data": {
      "text/plain": [
       "{9, 10}"
      ]
     },
     "execution_count": 81,
     "metadata": {},
     "output_type": "execute_result"
    }
   ],
   "source": [
    "C-A-B"
   ]
  },
  {
   "cell_type": "markdown",
   "id": "29e31fa4-41db-44d8-80b0-6aae4b6d4e88",
   "metadata": {},
   "source": [
    "# LOOPS"
   ]
  },
  {
   "cell_type": "markdown",
   "id": "391abc88-db72-4b21-9fef-de09a83eef86",
   "metadata": {
    "jp-MarkdownHeadingCollapsed": true
   },
   "source": [
    "helps to repeat certain statement again and again\n",
    "\n",
    "2 types loops are :\n",
    "\n",
    "                    1) while \n",
    "                    2) for loop"
   ]
  },
  {
   "cell_type": "markdown",
   "id": "1b5f8662-e6a6-4b0e-925b-1b1392300bf3",
   "metadata": {},
   "source": [
    "### while loop"
   ]
  },
  {
   "cell_type": "markdown",
   "id": "04d32578-1a2d-4dcc-ae2f-fb660aef689b",
   "metadata": {},
   "source": [
    "repeats certain statement till the condition is reached.\n",
    "\n",
    "when condition is true statement will be executed \n",
    "\n",
    "when it is false it stops executing"
   ]
  },
  {
   "cell_type": "markdown",
   "id": "f0d04ef9-f9ca-49a3-a579-9a03a99ac860",
   "metadata": {},
   "source": [
    "##### syntax :\n",
    "\n",
    "                 while(condition):\n",
    "                 //statement "
   ]
  },
  {
   "cell_type": "code",
   "execution_count": 32,
   "id": "9c6d9dce-3d43-45df-b530-6370a587883f",
   "metadata": {},
   "outputs": [
    {
     "name": "stdout",
     "output_type": "stream",
     "text": [
      "1\n",
      "2\n",
      "3\n"
     ]
    }
   ],
   "source": [
    "i=1\n",
    "while i<=3:\n",
    "    print(i)\n",
    "    i=i+1"
   ]
  },
  {
   "cell_type": "code",
   "execution_count": 34,
   "id": "5c6dd7ac-7c78-4434-b7f0-70b40ec3fafe",
   "metadata": {},
   "outputs": [
    {
     "name": "stdout",
     "output_type": "stream",
     "text": [
      "hello 0\n",
      "hello 1\n",
      "hello 2\n",
      "hello 3\n",
      "hello 4\n",
      "bye 5\n"
     ]
    }
   ],
   "source": [
    "i=0 \n",
    "while i<5:\n",
    "    print(\"hello\",i)\n",
    "    i=i+1\n",
    "    # or use i+=1\n",
    "print(\"bye\",i)   # only condition false it will consider this statement"
   ]
  },
  {
   "cell_type": "code",
   "execution_count": 37,
   "id": "ca10a6f6-6851-41ce-9e73-99623aae0c01",
   "metadata": {},
   "outputs": [
    {
     "name": "stdout",
     "output_type": "stream",
     "text": [
      "hello 0 hello 1 hello 2 hello 3 hello 4 bye 5\n"
     ]
    }
   ],
   "source": [
    "i=0 \n",
    "while i<5:\n",
    "    print(\"hello\",i,end=\" \")\n",
    "    i=i+1\n",
    "    # or use i+=1\n",
    "print(\"bye\",i)   # only condition false it will consider this statement"
   ]
  },
  {
   "cell_type": "markdown",
   "id": "e1764ad4-4ae4-4e2d-ac9c-8690f8057e61",
   "metadata": {},
   "source": [
    "## BREAK()\n",
    "             --> will stop the loop when it is noticed inside the loop\n",
    "                 loop cntrl statement is break and continue"
   ]
  },
  {
   "cell_type": "code",
   "execution_count": 38,
   "id": "75b27063-500b-4abc-945b-000667d8032a",
   "metadata": {},
   "outputs": [
    {
     "name": "stdout",
     "output_type": "stream",
     "text": [
      "1\n",
      "2\n",
      "3\n"
     ]
    }
   ],
   "source": [
    "i=1\n",
    "while(i<=5):\n",
    "    print(i)\n",
    "    if i==3:\n",
    "        break\n",
    "    i=i+1"
   ]
  },
  {
   "cell_type": "code",
   "execution_count": 39,
   "id": "c564777e-f002-4f8b-8f69-d4050bdb9929",
   "metadata": {},
   "outputs": [
    {
     "name": "stdout",
     "output_type": "stream",
     "text": [
      "1\n"
     ]
    }
   ],
   "source": [
    "i=1\n",
    "while(i<=5):\n",
    "    print(i)\n",
    "    break\n",
    "    i=i+1"
   ]
  },
  {
   "cell_type": "markdown",
   "id": "f73fa226-1b24-46c1-a50a-b7ae896ca439",
   "metadata": {},
   "source": [
    "## CONTINUE \n",
    "\n",
    "            ----> stops current iteration by skipping all statements below continue & checking condition for next iteration"
   ]
  },
  {
   "cell_type": "code",
   "execution_count": 1,
   "id": "b3a72f2a-39e5-46aa-8518-b9d28610dcea",
   "metadata": {},
   "outputs": [
    {
     "name": "stdout",
     "output_type": "stream",
     "text": [
      "1\n",
      "2\n",
      "4\n",
      "5\n",
      "6\n"
     ]
    }
   ],
   "source": [
    "i=0\n",
    "while(i<=5):\n",
    "    i=i+1\n",
    "    if i==3:\n",
    "        continue\n",
    "        print(\"hello\")\n",
    "    print(i)"
   ]
  },
  {
   "cell_type": "code",
   "execution_count": 2,
   "id": "b1a329cf-980c-4087-86ba-fab940e97017",
   "metadata": {},
   "outputs": [
    {
     "name": "stdout",
     "output_type": "stream",
     "text": [
      "good morning\n",
      "good morning\n",
      "good morning\n",
      "good morning\n",
      "good morning\n",
      "good morning\n",
      "good morning\n",
      "good morning\n",
      "good morning\n",
      "good morning\n",
      "good morning\n"
     ]
    }
   ],
   "source": [
    "i=0 \n",
    "while i<=10:\n",
    "    print(\"good morning\")\n",
    "    i=i+1"
   ]
  },
  {
   "cell_type": "markdown",
   "id": "8c368dd7-a8ed-4e3f-aa83-c0909e264e55",
   "metadata": {},
   "source": [
    "# FOR LOOP\n",
    "\n",
    "            ---> IT IS THE LOOP WHICH IS USED TO LOOP THROUGH THE ITERABLE OBJECTS LIKE LIST,TUPLE ,STRING,SET ETC"
   ]
  },
  {
   "cell_type": "code",
   "execution_count": 3,
   "id": "b72cefad-f1e8-4d12-8ae1-8ed870a6e1e7",
   "metadata": {},
   "outputs": [
    {
     "name": "stdout",
     "output_type": "stream",
     "text": [
      "24\n",
      "8\n",
      "10\n",
      "12\n",
      "20\n"
     ]
    }
   ],
   "source": [
    "#ONE AT A TIME IT PICKS \n",
    "l1=[12,4,5,6,10]\n",
    "for i in l1:\n",
    "    print(i*2)"
   ]
  },
  {
   "cell_type": "code",
   "execution_count": 4,
   "id": "5ea6bd24-fd7e-4cec-ade2-56879af4b5d0",
   "metadata": {},
   "outputs": [
    {
     "name": "stdout",
     "output_type": "stream",
     "text": [
      "s p i d e r m a n "
     ]
    }
   ],
   "source": [
    "string1=\"SPIDER MAN\"\n",
    "for i in string1:\n",
    "    if i==\" \":\n",
    "        continue\n",
    "    print(i.lower(),end=\" \")\n",
    "       "
   ]
  },
  {
   "cell_type": "code",
   "execution_count": 12,
   "id": "4b6278a8-f457-400b-8112-42d51c205c25",
   "metadata": {},
   "outputs": [
    {
     "name": "stdout",
     "output_type": "stream",
     "text": [
      "s\n",
      "p\n",
      "i\n",
      "d\n",
      "e\n",
      "r\n",
      "m\n",
      "a\n",
      "n\n"
     ]
    }
   ],
   "source": [
    "string1=\"SPIDER MAN\"\n",
    "for i in string1:\n",
    "    if i==\" \":\n",
    "        continue\n",
    "    print(i.lower())"
   ]
  },
  {
   "cell_type": "code",
   "execution_count": 14,
   "id": "5cb0369f-8978-4c79-ad2a-80739578f844",
   "metadata": {},
   "outputs": [
    {
     "name": "stdout",
     "output_type": "stream",
     "text": [
      "s p i d e r   m a n "
     ]
    }
   ],
   "source": [
    "string1=\"SPIDER MAN\"\n",
    "for i in string1:\n",
    "    if i==string1:\n",
    "        continue\n",
    "    print(i.lower(),end=\" \")"
   ]
  },
  {
   "cell_type": "code",
   "execution_count": 15,
   "id": "13d3a564-b384-4024-a818-fc7c4847172a",
   "metadata": {},
   "outputs": [
    {
     "name": "stdout",
     "output_type": "stream",
     "text": [
      "S P I D E R   M A N "
     ]
    }
   ],
   "source": [
    "string1=\"spider man\"\n",
    "for i in string1:\n",
    "    if i==string1:\n",
    "        continue\n",
    "    print(i.upper(),end=\" \")"
   ]
  },
  {
   "cell_type": "markdown",
   "id": "2657309f-0a3b-48ed-b330-4fbf21898bdb",
   "metadata": {},
   "source": [
    "## RANGE\n",
    "\n",
    "        --- IS CLLD AS GENERATOR FUNCTION WHICH GENERATES A NUMBER FROM START TO end-1 range"
   ]
  },
  {
   "cell_type": "code",
   "execution_count": 16,
   "id": "8dbf5549-f3e1-484a-a637-a7fd003ea536",
   "metadata": {},
   "outputs": [
    {
     "name": "stdout",
     "output_type": "stream",
     "text": [
      "1\n",
      "2\n",
      "3\n",
      "4\n",
      "5\n",
      "6\n",
      "7\n",
      "8\n",
      "9\n"
     ]
    }
   ],
   "source": [
    "for i in range(1,10):\n",
    "    print(i)"
   ]
  },
  {
   "cell_type": "code",
   "execution_count": 17,
   "id": "f0ceb354-e9bd-482e-a2f0-49018b46fbd8",
   "metadata": {},
   "outputs": [
    {
     "name": "stdout",
     "output_type": "stream",
     "text": [
      "1\n",
      "3\n",
      "5\n",
      "7\n",
      "9\n",
      "11\n",
      "13\n",
      "15\n",
      "17\n",
      "19\n"
     ]
    }
   ],
   "source": [
    "for i in range(1,21,2): # every 2 number will be printed bcz v used 2\n",
    "    print(i)"
   ]
  },
  {
   "cell_type": "code",
   "execution_count": 19,
   "id": "febe1c5b-0a4e-4701-af8a-9b88eadd8bd3",
   "metadata": {},
   "outputs": [
    {
     "name": "stdout",
     "output_type": "stream",
     "text": [
      "20\n",
      "19\n",
      "18\n",
      "17\n",
      "16\n",
      "15\n",
      "14\n",
      "13\n",
      "12\n",
      "11\n",
      "10\n",
      "9\n",
      "8\n",
      "7\n",
      "6\n",
      "5\n",
      "4\n",
      "3\n",
      "2\n",
      "1\n"
     ]
    }
   ],
   "source": [
    "for i in range(20,0,-1): # print results in reverse\n",
    "    print(i)"
   ]
  },
  {
   "cell_type": "code",
   "execution_count": 22,
   "id": "56090bcf-210c-449a-8eb8-409183e04843",
   "metadata": {},
   "outputs": [
    {
     "name": "stdout",
     "output_type": "stream",
     "text": [
      "16 is even\n",
      "35 is odd\n",
      "13 is odd\n",
      "18 is even\n",
      "20 is even\n",
      "33 is odd\n"
     ]
    }
   ],
   "source": [
    "l2=[16,35,13,18,20,33]\n",
    "for x in l2:\n",
    "    if x%2==0:\n",
    "        print(x,\"is even\")\n",
    "    else:\n",
    "        print(x,\"is odd\")"
   ]
  },
  {
   "cell_type": "markdown",
   "id": "5bb0e908-a942-4757-b0ff-7e936607a7bb",
   "metadata": {},
   "source": [
    "# FUNCTIONS\n",
    "\n",
    "            block of code wch performs specific task\n",
    "            supports code reusability\n",
    "            v cn write functions only once and cn use them any number of times so it is clld has function support code reusability \n",
    "\n",
    "### THERE ARE 3 TYPES OF FUNCTIONS\n",
    "\n",
    "                1. PREDEFINED FUNCTIONS  : append() ,sort(), reverse()\n",
    "                2. USERDEFINES FUNCTIONS : are defined by users using DEF keyword \n",
    "                3. ANONYMOUS / LAMDA FUN : are the functions without any name "
   ]
  },
  {
   "cell_type": "markdown",
   "id": "35e3dcf3-7dc3-4aad-83a1-06ed186bd8c1",
   "metadata": {},
   "source": [
    "## USERDEFINED FUNCTIONS \n",
    "\n",
    "                it has 2 parts :\n",
    "                1) Function definition \n",
    "                2) Function call \n",
    "\n",
    "### FUNCTION DEFINITION \n",
    "\n",
    "                SYNTAX : def function_name():\n",
    "                            task done by function \n",
    "                EXMPLE : def greet():\n",
    "                         print(\"good morning\")\n",
    "\n",
    "### FUNCTION CALL \n",
    "\n",
    "                SYNTAX   :function_name()\n",
    "                EXMPLE : def greet():\n",
    "                         print(\"good morning\")\n",
    "                         greet() \n",
    "                "
   ]
  },
  {
   "cell_type": "code",
   "execution_count": 9,
   "id": "14851949-3ea5-41de-bf68-8b0a0a4c05f8",
   "metadata": {},
   "outputs": [],
   "source": [
    "def greet(): #function definition \n",
    "    print(\"good morning\")"
   ]
  },
  {
   "cell_type": "code",
   "execution_count": 10,
   "id": "e92fc3cc-a2f0-4c1c-b78e-85e99797f134",
   "metadata": {},
   "outputs": [
    {
     "name": "stdout",
     "output_type": "stream",
     "text": [
      "good morning\n",
      "good morning\n",
      "good morning\n",
      "good morning\n",
      "good morning\n",
      "good morning\n",
      "good morning\n",
      "good morning\n",
      "good morning\n",
      "good morning\n"
     ]
    }
   ],
   "source": [
    "for i in range(1,11):\n",
    "    greet() #function call"
   ]
  },
  {
   "cell_type": "markdown",
   "id": "15512301-4ed2-4ab5-8d86-2797d53cfd64",
   "metadata": {},
   "source": [
    "#### PARAMETER \n",
    "                 --> r the variables passed inside the function definition \n",
    "#### ARGUMENTS \n",
    "                ---> r the actual values passed inside the function call"
   ]
  },
  {
   "cell_type": "code",
   "execution_count": 10,
   "id": "a95820f3-37da-4f7e-b15d-514e8fd8e00d",
   "metadata": {},
   "outputs": [
    {
     "name": "stdout",
     "output_type": "stream",
     "text": [
      "8\n"
     ]
    }
   ],
   "source": [
    "def add(a,b):    #(a,b) is paramenter\n",
    "    print(a+b)\n",
    "add(5,3)         #(5,3) is argument "
   ]
  },
  {
   "cell_type": "code",
   "execution_count": 11,
   "id": "fb4922da-5a15-40e7-8af7-d4ede89d2f5d",
   "metadata": {},
   "outputs": [
    {
     "name": "stdout",
     "output_type": "stream",
     "text": [
      "10\n"
     ]
    }
   ],
   "source": [
    "add(3,7)"
   ]
  },
  {
   "cell_type": "code",
   "execution_count": 13,
   "id": "e97b43eb-602f-45ff-88a1-cd606e8d32e7",
   "metadata": {},
   "outputs": [
    {
     "name": "stdout",
     "output_type": "stream",
     "text": [
      "virat kohli\n"
     ]
    }
   ],
   "source": [
    "def student(fname,lname):\n",
    "    print(fname,lname)\n",
    "student(\"virat\",\"kohli\")"
   ]
  },
  {
   "cell_type": "code",
   "execution_count": 16,
   "id": "ddb2df0d-1923-45c9-97ab-b99ab62084ad",
   "metadata": {},
   "outputs": [
    {
     "name": "stdout",
     "output_type": "stream",
     "text": [
      "ms dhoni\n"
     ]
    }
   ],
   "source": [
    "student(\"ms\",\"dhoni\")"
   ]
  },
  {
   "cell_type": "code",
   "execution_count": 17,
   "id": "8299da50-246a-4d12-ae83-df42ed519470",
   "metadata": {},
   "outputs": [],
   "source": [
    "#return keyword will return the result back to the caller \n",
    "def area(r):\n",
    "    area=3.14*r**2\n",
    "    print(area)\n",
    "    #return area"
   ]
  },
  {
   "cell_type": "code",
   "execution_count": 19,
   "id": "91618838-6b6a-43f1-b2af-155a98c3e626",
   "metadata": {},
   "outputs": [
    {
     "name": "stdout",
     "output_type": "stream",
     "text": [
      "12.56\n"
     ]
    }
   ],
   "source": [
    "area(2)"
   ]
  },
  {
   "cell_type": "code",
   "execution_count": 20,
   "id": "8d48ef60-73d2-4050-981c-041512da94a2",
   "metadata": {},
   "outputs": [
    {
     "name": "stdout",
     "output_type": "stream",
     "text": [
      "78.5\n"
     ]
    }
   ],
   "source": [
    "area(5)"
   ]
  },
  {
   "cell_type": "code",
   "execution_count": 22,
   "id": "a727ba8b-77fa-4c55-a015-44e949271b65",
   "metadata": {},
   "outputs": [
    {
     "name": "stdin",
     "output_type": "stream",
     "text": [
      "enter the number 45\n"
     ]
    },
    {
     "name": "stdout",
     "output_type": "stream",
     "text": [
      "odd\n"
     ]
    }
   ],
   "source": [
    "# write a function to check inputed number is even or odd\n",
    "input=int(input(\"enter the number\"))\n",
    "def function(n):\n",
    "    if n%2==0:\n",
    "        print(\"even\")\n",
    "    else:\n",
    "        print(\"odd\")\n",
    "#[IT CN BE WRITTN HERE] input=int(input(\"enter the number\"))\n",
    "function(input)        "
   ]
  },
  {
   "cell_type": "markdown",
   "id": "b750fe04-98a9-4035-a386-6c2cacade114",
   "metadata": {},
   "source": [
    "### DOCSTRING\n",
    "           * r multiline comments which r put immediately aftr function/class definition.\n",
    "           * used for documentation"
   ]
  },
  {
   "cell_type": "code",
   "execution_count": 24,
   "id": "ba7420f9-55bc-46ae-98a0-365be16b849a",
   "metadata": {},
   "outputs": [],
   "source": [
    "def square(x):\n",
    "    ''' THIS IS \n",
    "    A DOCSTRING '''\n",
    "    return x**2"
   ]
  },
  {
   "cell_type": "code",
   "execution_count": 25,
   "id": "8c5c4116-beec-46c0-98b9-0c7df1ae20e8",
   "metadata": {},
   "outputs": [
    {
     "data": {
      "text/plain": [
       "100"
      ]
     },
     "execution_count": 25,
     "metadata": {},
     "output_type": "execute_result"
    }
   ],
   "source": [
    "square(10)"
   ]
  },
  {
   "cell_type": "code",
   "execution_count": 30,
   "id": "7ccd7ebc-f98e-4e12-b47b-9f6e5d068cd0",
   "metadata": {},
   "outputs": [
    {
     "data": {
      "text/plain": [
       "' THIS IS \\n    A DOCSTRING '"
      ]
     },
     "execution_count": 30,
     "metadata": {},
     "output_type": "execute_result"
    }
   ],
   "source": [
    "#function_name.__doc__\n",
    "square.__doc__"
   ]
  },
  {
   "cell_type": "markdown",
   "id": "a91cb8f4-d109-413c-b8ef-fb647e4a124c",
   "metadata": {},
   "source": [
    "## ANONYMOUS / LAMDA FUNCTIONS\n",
    "                        --> is cld lamda function -> whch r function without name\n",
    "                        --> these function cn have any number of arguments but only one expression\n",
    "\n",
    "                        syntax : x=lambda a:a*a (func definition)\n",
    "                                 x--> function object\n",
    "                                 lambda -->keyword\n",
    "                                 a-->parameter\n",
    "                                 a*a--> expression \n",
    "\n",
    "                                 (function call)\n",
    "                                 x(4)"
   ]
  },
  {
   "cell_type": "code",
   "execution_count": 31,
   "id": "a714b35b-f154-48da-8c98-ff2d9c53e383",
   "metadata": {},
   "outputs": [
    {
     "data": {
      "text/plain": [
       "16"
      ]
     },
     "execution_count": 31,
     "metadata": {},
     "output_type": "execute_result"
    }
   ],
   "source": [
    "x=lambda a:a*a \n",
    "x(4)"
   ]
  },
  {
   "cell_type": "code",
   "execution_count": 32,
   "id": "de5d97f1-9937-407e-9c72-f330e668c115",
   "metadata": {},
   "outputs": [
    {
     "data": {
      "text/plain": [
       "49"
      ]
     },
     "execution_count": 32,
     "metadata": {},
     "output_type": "execute_result"
    }
   ],
   "source": [
    "x(7)"
   ]
  },
  {
   "cell_type": "code",
   "execution_count": 33,
   "id": "02de296b-f76f-4fe6-9c4b-d4b60acf2b1d",
   "metadata": {},
   "outputs": [
    {
     "data": {
      "text/plain": [
       "144"
      ]
     },
     "execution_count": 33,
     "metadata": {},
     "output_type": "execute_result"
    }
   ],
   "source": [
    "x(12)"
   ]
  },
  {
   "cell_type": "code",
   "execution_count": 34,
   "id": "e14434d9-dfcc-455e-ac21-9158e6d529dc",
   "metadata": {},
   "outputs": [
    {
     "data": {
      "text/plain": [
       "30"
      ]
     },
     "execution_count": 34,
     "metadata": {},
     "output_type": "execute_result"
    }
   ],
   "source": [
    "product=lambda a,b:a*b\n",
    "product(5,6)"
   ]
  },
  {
   "cell_type": "code",
   "execution_count": 35,
   "id": "250b45cd-45e8-4bfc-b683-86845579066b",
   "metadata": {},
   "outputs": [
    {
     "data": {
      "text/plain": [
       "60"
      ]
     },
     "execution_count": 35,
     "metadata": {},
     "output_type": "execute_result"
    }
   ],
   "source": [
    "product(12,5)"
   ]
  },
  {
   "cell_type": "code",
   "execution_count": 36,
   "id": "bc830e79-9fd6-43fe-96ad-75e0234d0dc1",
   "metadata": {},
   "outputs": [
    {
     "name": "stdout",
     "output_type": "stream",
     "text": [
      "ms dhoni\n"
     ]
    }
   ],
   "source": [
    "cricketer=lambda a,b:print(a,b)\n",
    "cricketer(\"ms\",\"dhoni\")"
   ]
  },
  {
   "cell_type": "code",
   "execution_count": 37,
   "id": "a449e4d2-7fe0-4649-a784-59fbce93a2c1",
   "metadata": {},
   "outputs": [
    {
     "name": "stdout",
     "output_type": "stream",
     "text": [
      "hardhik pande\n"
     ]
    }
   ],
   "source": [
    "cricketer(\"hardhik\",\"pande\")"
   ]
  },
  {
   "cell_type": "code",
   "execution_count": 38,
   "id": "7c41c299-27a9-445a-8fbb-e54f354732ae",
   "metadata": {},
   "outputs": [
    {
     "data": {
      "text/plain": [
       "15"
      ]
     },
     "execution_count": 38,
     "metadata": {},
     "output_type": "execute_result"
    }
   ],
   "source": [
    "greater=lambda a,b:a if a>b else b\n",
    "greater(15,2)"
   ]
  },
  {
   "cell_type": "code",
   "execution_count": 40,
   "id": "6eb8e66e-c074-41cf-aa7b-f49093c54918",
   "metadata": {},
   "outputs": [
    {
     "data": {
      "text/plain": [
       "20"
      ]
     },
     "execution_count": 40,
     "metadata": {},
     "output_type": "execute_result"
    }
   ],
   "source": [
    "greater(9,20)"
   ]
  },
  {
   "cell_type": "markdown",
   "id": "4e785883-3d61-429d-b155-1c613cae4cee",
   "metadata": {},
   "source": [
    "# FILTER FUNCTION"
   ]
  },
  {
   "cell_type": "code",
   "execution_count": 41,
   "id": "b2bb35bd-5148-4882-9101-3119a0581a89",
   "metadata": {},
   "outputs": [
    {
     "data": {
      "text/plain": [
       "[-5, -3, -3.5]"
      ]
     },
     "execution_count": 41,
     "metadata": {},
     "output_type": "execute_result"
    }
   ],
   "source": [
    "x=[23,-5,-3,10,1,-3.5]\n",
    "x_negative=filter(lambda a:a<0,x)\n",
    "list(x_negative)"
   ]
  },
  {
   "cell_type": "code",
   "execution_count": 44,
   "id": "58f7a277-632f-4048-b606-4241e0d8cb08",
   "metadata": {},
   "outputs": [
    {
     "data": {
      "text/plain": [
       "[12, 24, 10]"
      ]
     },
     "execution_count": 44,
     "metadata": {},
     "output_type": "execute_result"
    }
   ],
   "source": [
    "y=[12,45,24,23,57,10]\n",
    "y_even=filter(lambda a:a%2==0,y)\n",
    "list(y_even)"
   ]
  },
  {
   "cell_type": "code",
   "execution_count": 46,
   "id": "3650a446-162a-4853-a498-9808a3d8ae71",
   "metadata": {},
   "outputs": [
    {
     "data": {
      "text/plain": [
       "[45, 23, 57]"
      ]
     },
     "execution_count": 46,
     "metadata": {},
     "output_type": "execute_result"
    }
   ],
   "source": [
    "y_odd=filter(lambda a:a%2!=0,y)\n",
    "list(y_odd)"
   ]
  },
  {
   "cell_type": "markdown",
   "id": "bdc877f6-abdf-4ae5-a959-5bcde4a48059",
   "metadata": {},
   "source": [
    "# MAP FUNCTION\n",
    "                cn helps to apply same function to every element of list / tuple iteratively"
   ]
  },
  {
   "cell_type": "code",
   "execution_count": 49,
   "id": "40cb4ec9-e710-4470-90f6-e510b26fc94c",
   "metadata": {},
   "outputs": [],
   "source": [
    "x=[5,12,6,7,-7]\n",
    "# MULIPLYS EACH ELEMENT BY ITSELF USING MAP FUNC \n",
    "def multiply(x):\n",
    "    return x*x"
   ]
  },
  {
   "cell_type": "code",
   "execution_count": 50,
   "id": "2b6c89e6-3f2d-4323-90d6-f64e368ddf1a",
   "metadata": {},
   "outputs": [
    {
     "data": {
      "text/plain": [
       "[25, 144, 36, 49, 49]"
      ]
     },
     "execution_count": 50,
     "metadata": {},
     "output_type": "execute_result"
    }
   ],
   "source": [
    "double =map(multiply,x)\n",
    "list(double)"
   ]
  },
  {
   "cell_type": "code",
   "execution_count": 51,
   "id": "4cbb1268-b42a-4b67-b4fa-74535d4bb554",
   "metadata": {},
   "outputs": [
    {
     "data": {
      "text/plain": [
       "[15, 22, 16, 17, 3]"
      ]
     },
     "execution_count": 51,
     "metadata": {},
     "output_type": "execute_result"
    }
   ],
   "source": [
    "addBy10=map(lambda a:a+10,x)\n",
    "list(addBy10)"
   ]
  },
  {
   "cell_type": "markdown",
   "id": "c44abaea-133a-4133-957a-beddc6213654",
   "metadata": {},
   "source": [
    "# REDUCE FUNCTION\n",
    "will apply the function on all elements of the list / tuple iteratively & reduce the final result into a single value"
   ]
  },
  {
   "cell_type": "code",
   "execution_count": 52,
   "id": "c19b3767-c0d3-4606-910a-912fc673f033",
   "metadata": {},
   "outputs": [
    {
     "data": {
      "text/plain": [
       "23"
      ]
     },
     "execution_count": 52,
     "metadata": {},
     "output_type": "execute_result"
    }
   ],
   "source": [
    "import functools\n",
    "x=[10,6,12,23,5]\n",
    "greatest=functools.reduce(lambda a,b:a if a>b else b,x)\n",
    "greatest"
   ]
  },
  {
   "cell_type": "code",
   "execution_count": 53,
   "id": "2a088766-a0bd-46b5-88b6-f14a0d521932",
   "metadata": {},
   "outputs": [
    {
     "data": {
      "text/plain": [
       "56"
      ]
     },
     "execution_count": 53,
     "metadata": {},
     "output_type": "execute_result"
    }
   ],
   "source": [
    "sum=functools.reduce(lambda a,b:a+b,x)\n",
    "sum"
   ]
  },
  {
   "cell_type": "code",
   "execution_count": null,
   "id": "48e05b5f-a27b-47c0-b76d-b9078970b7db",
   "metadata": {},
   "outputs": [],
   "source": []
  }
 ],
 "metadata": {
  "kernelspec": {
   "display_name": "Python 3 (ipykernel)",
   "language": "python",
   "name": "python3"
  },
  "language_info": {
   "codemirror_mode": {
    "name": "ipython",
    "version": 3
   },
   "file_extension": ".py",
   "mimetype": "text/x-python",
   "name": "python",
   "nbconvert_exporter": "python",
   "pygments_lexer": "ipython3",
   "version": "3.11.7"
  }
 },
 "nbformat": 4,
 "nbformat_minor": 5
}
